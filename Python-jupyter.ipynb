{
 "cells": [
  {
   "cell_type": "code",
   "execution_count": 68,
   "id": "14b01284-117c-4aef-8471-981946dd093e",
   "metadata": {},
   "outputs": [
    {
     "name": "stdout",
     "output_type": "stream",
     "text": [
      "tom\n",
      "25\n",
      "Lead Developer\n"
     ]
    }
   ],
   "source": [
    "name, age, designation = \"tom\", 25, \"Lead Developer\"\n",
    "\n",
    "print(name)\n",
    "print(age)\n",
    "print(designation)\n"
   ]
  },
  {
   "cell_type": "code",
   "execution_count": 2,
   "id": "d23f7c96-4e09-4a6d-9cd4-00cec7420e29",
   "metadata": {},
   "outputs": [
    {
     "name": "stdout",
     "output_type": "stream",
     "text": [
      "10 20\n",
      "20 10\n"
     ]
    }
   ],
   "source": [
    "x, y = 10, 20   \n",
    "\n",
    "print(x, y)   \n",
    "\n",
    "x, y = y, x\n",
    "print(x, y)"
   ]
  },
  {
   "cell_type": "code",
   "execution_count": 3,
   "id": "3ca76608-6774-4c26-900a-44e8c0b66497",
   "metadata": {},
   "outputs": [
    {
     "name": "stdout",
     "output_type": "stream",
     "text": [
      "21.0\n",
      "3.141592653589793\n",
      "2.718281828459045\n"
     ]
    }
   ],
   "source": [
    "import math\n",
    "\n",
    "print(math.sqrt(441))  #square root\n",
    "\n",
    "print(math.pi)\n",
    "\n",
    "print(math.e)"
   ]
  },
  {
   "cell_type": "code",
   "execution_count": 4,
   "id": "e1602d50-3ff3-4fc7-81b9-3e0b2e025ed5",
   "metadata": {},
   "outputs": [
    {
     "name": "stdin",
     "output_type": "stream",
     "text": [
      "Enter your name: \n",
      " virat\n"
     ]
    },
    {
     "name": "stdout",
     "output_type": "stream",
     "text": [
      "virat\n",
      "<class 'str'>\n"
     ]
    }
   ],
   "source": [
    "name = input(\"Enter your name: \\n\")\n",
    "\n",
    "print(name)\n",
    "\n",
    "print(type(name))"
   ]
  },
  {
   "cell_type": "code",
   "execution_count": 5,
   "id": "f0c4ec79-bda8-47ad-a934-d62509e640e9",
   "metadata": {},
   "outputs": [
    {
     "name": "stdout",
     "output_type": "stream",
     "text": [
      "<class 'int'>\n",
      "<class 'float'>\n",
      "<class 'complex'>\n"
     ]
    }
   ],
   "source": [
    "print(type(5))   # an integer\n",
    "\n",
    "print(type(3.4))  # a float\n",
    "\n",
    "print(type(5j))  # a complex number"
   ]
  },
  {
   "cell_type": "code",
   "execution_count": 6,
   "id": "d8368e43-80a5-43a4-a08d-9865a36cb2d5",
   "metadata": {},
   "outputs": [
    {
     "name": "stdout",
     "output_type": "stream",
     "text": [
      "27\n",
      "0.12249999999999998\n",
      "0.012345679012345678\n"
     ]
    }
   ],
   "source": [
    "print(pow(3, 3))           # calculate 3^3\n",
    "\n",
    "print(pow(0.35, 2))        # calculate 0.35^2\n",
    "\n",
    "print(pow(9, -2))          # calculate 9^-2"
   ]
  },
  {
   "cell_type": "code",
   "execution_count": 1,
   "id": "0182fcb2-c97b-4119-b2ff-43f99d6b5477",
   "metadata": {},
   "outputs": [
    {
     "name": "stdout",
     "output_type": "stream",
     "text": [
      "32\n",
      "100\n",
      "-5\n",
      "3.14\n",
      "2.718\n"
     ]
    }
   ],
   "source": [
    "print(round(32.3))      # round 32.3 to the nearest integer\n",
    "\n",
    "print(round(99.7))      # round 99.7 to the nearest integer\n",
    "\n",
    "print(round(-5.23))      # round -5.23 to the nearest integer\n",
    "\n",
    "print(round(3.14159, 2))   # round 3.14159 to 2 decimal places\n",
    "\n",
    "print(round(2.71828, 3))   # round 2.71828 to 3 decimal places"
   ]
  },
  {
   "cell_type": "code",
   "execution_count": 2,
   "id": "64fd4881-59a5-4e1e-a90e-301338252a7a",
   "metadata": {},
   "outputs": [
    {
     "name": "stdout",
     "output_type": "stream",
     "text": [
      "100\n",
      "91.12\n",
      "0\n",
      "-12300000000.0\n",
      "-102\n"
     ]
    }
   ],
   "source": [
    "print(max(1, 4, 100))     # Find the largest among 1, 4 and 100\n",
    "\n",
    "print(max(-21, 4.5, 91.12))   # Find the largest among -21, 4.5 and 91.12\n",
    "\n",
    "print(max(-67, -17, 0))    # Find the largest among -67, 417 and 0\n",
    "\n",
    "print(min(0, -1.23e10, -9921))  # Find the smallest among 0, -1.23e10 and -9921\n",
    "\n",
    "print(min(92, 6, -102))     # Find the largest among 92, 6, -102"
   ]
  },
  {
   "cell_type": "code",
   "execution_count": 3,
   "id": "ba1e24e2-35a7-4463-bab6-f4607a8c6222",
   "metadata": {},
   "outputs": [
    {
     "name": "stdout",
     "output_type": "stream",
     "text": [
      "3.141592653589793\n",
      "2.718281828459045\n",
      "4\n",
      "3\n",
      "2.0\n",
      "53.3\n"
     ]
    }
   ],
   "source": [
    "import math\n",
    "\n",
    "print(math.pi)\n",
    "print(math.e)\n",
    "\n",
    "print(math.ceil(3.5))   # find the smallest integer greater than or equal to 3.5\n",
    "print(math.floor(3.5))  # find the largest integer smaller than or equal to 3.5\n",
    "\n",
    "print(math.fabs(2))     # absolute value of 2 in float\n",
    "print(math.fabs(-53.3)) # absolute value of -53.3"
   ]
  },
  {
   "cell_type": "code",
   "execution_count": 5,
   "id": "5ed28265-7d20-49dd-8f39-f872fe737e26",
   "metadata": {},
   "outputs": [
    {
     "name": "stdout",
     "output_type": "stream",
     "text": [
      "Simple interest at the end of 2 years $ 1881.9990000000003\n"
     ]
    }
   ],
   "source": [
    "#   Program to calculate the Simple Interest\n",
    "#\n",
    "#   The formula for Simple Interest is\n",
    "#   si = p * r * t\n",
    "#   where si is the simple interest\n",
    "#   p is principal\n",
    "#   r is interest rate\n",
    "#   t is number of years\n",
    "\n",
    "p = 18819.99    # principal\n",
    "r = 0.05        # rate of interest\n",
    "t = 2           # years\n",
    "\n",
    "si = p * r * t\n",
    "print(\"Simple interest at the end of 2 years $\", si)"
   ]
  },
  {
   "cell_type": "code",
   "execution_count": 6,
   "id": "13088cc9-4c94-4db3-8d64-5193021c2753",
   "metadata": {},
   "outputs": [
    {
     "name": "stdout",
     "output_type": "stream",
     "text": [
      "Simple interest at the end of 2 years $ 1882.00\n"
     ]
    }
   ],
   "source": [
    "#   Program to calculate the Simple Interest\n",
    "#\n",
    "#   The formula for Simple Interest is\n",
    "#   si = p * r * t\n",
    "#   where si is the simple interest\n",
    "#   p is principal\n",
    "#   r is interest rate\n",
    "#   t is number of years\n",
    "\n",
    "p = 18819.99    # principal\n",
    "r = 0.05        # rate of interest\n",
    "t = 2           # years\n",
    "\n",
    "si = p * r * t\n",
    "print(\"Simple interest at the end of 2 years $\", format(si, \"0.2f\"))"
   ]
  },
  {
   "cell_type": "code",
   "execution_count": 7,
   "id": "481c55c0-ff21-41cd-932a-453be8ccc301",
   "metadata": {},
   "outputs": [
    {
     "name": "stdout",
     "output_type": "stream",
     "text": [
      "    34.71\n"
     ]
    }
   ],
   "source": [
    "print(format(34.712, \"9.2f\"))"
   ]
  },
  {
   "cell_type": "code",
   "execution_count": 8,
   "id": "a0d33444-a866-4049-be6e-f7dbf384fd86",
   "metadata": {},
   "outputs": [
    {
     "name": "stdout",
     "output_type": "stream",
     "text": [
      "3.14\n"
     ]
    }
   ],
   "source": [
    "import math\n",
    "\n",
    "print(format(math.pi, \".2f\"))"
   ]
  },
  {
   "cell_type": "code",
   "execution_count": 9,
   "id": "ab889e4f-07ba-487d-9a84-5ef592a1ef0f",
   "metadata": {},
   "outputs": [
    {
     "name": "stdout",
     "output_type": "stream",
     "text": [
      "  5.48E+03\n",
      "5.48e+03\n",
      "2.124E-01\n"
     ]
    }
   ],
   "source": [
    "print(format(5482.52291, \"10.2E\"))\n",
    "\n",
    "print(format(5482.52291, \"5.2e\"))\n",
    "\n",
    "print(format(00000.212354, \".3E\"))"
   ]
  },
  {
   "cell_type": "code",
   "execution_count": 10,
   "id": "a639e92c-73e1-4622-a873-f70cd2562a62",
   "metadata": {},
   "outputs": [
    {
     "name": "stdout",
     "output_type": "stream",
     "text": [
      "98,813,343,817.71\n",
      "98,813,343,817.71\n",
      "98,813,343,817.712906\n"
     ]
    }
   ],
   "source": [
    "print(format(98813343817.7129, \"5,.2f\"))\n",
    "\n",
    "print(format(98813343817.7129, \",.2f\"))\n",
    "\n",
    "print(format(98813343817.7129, \",f\"))"
   ]
  },
  {
   "cell_type": "code",
   "execution_count": 11,
   "id": "06a1769f-bc43-4638-809d-b64058c8a53b",
   "metadata": {},
   "outputs": [
    {
     "name": "stdout",
     "output_type": "stream",
     "text": [
      "71.981000%\n",
      "    71.98%\n",
      "5200.000000%\n",
      "9500.00%\n"
     ]
    }
   ],
   "source": [
    "print(format(0.71981, \"%\"))\n",
    "\n",
    "print(format(0.71981, \"10.2%\"))\n",
    "\n",
    "print(format(52, \"%\"))\n",
    "\n",
    "print(format(95, \".2%\"))"
   ]
  },
  {
   "cell_type": "code",
   "execution_count": 12,
   "id": "7ae59a3e-5ba7-4f8a-8f05-ecff11dbf5c3",
   "metadata": {},
   "outputs": [
    {
     "name": "stdout",
     "output_type": "stream",
     "text": [
      "      3.14\n",
      "3.14      \n"
     ]
    }
   ],
   "source": [
    "import math\n",
    "\n",
    "print(format(math.pi, \"10.2f\"))\n",
    "\n",
    "print(format(math.pi, \"<10.2f\"))  # output the value left justfied"
   ]
  },
  {
   "cell_type": "code",
   "execution_count": 13,
   "id": "27106497-ade3-4ad9-8398-e81824acd4d6",
   "metadata": {},
   "outputs": [
    {
     "name": "stdout",
     "output_type": "stream",
     "text": [
      "   95\n",
      "100\n",
      "ff\n",
      "11\n",
      "100       \n"
     ]
    }
   ],
   "source": [
    "print(format(95, \"5d\"))\n",
    "\n",
    "print(format(4, \"b\"))   # prints the binary equivalent of decimal 4\n",
    "\n",
    "print(format(255, \"x\"))   # prints the hexadecimal equivalent of decimal 255\n",
    "\n",
    "print(format(9, \"o\"))   # prints the octal equivalent of decimal 9\n",
    "\n",
    "print(format(100, \"<10d\"))  # Left align the number within specified width"
   ]
  },
  {
   "cell_type": "code",
   "execution_count": 14,
   "id": "ce4e91b0-cd2f-4e8a-ac7f-9ec6e8a063d5",
   "metadata": {},
   "outputs": [
    {
     "name": "stdout",
     "output_type": "stream",
     "text": [
      "2.0\n",
      "0.06977777777777779\n",
      "18.0\n",
      "-2.5\n"
     ]
    }
   ],
   "source": [
    "print(6/3)\n",
    "\n",
    "print(3.14/45)\n",
    "\n",
    "print(45/2.5)\n",
    "\n",
    "print(-5/2)"
   ]
  },
  {
   "cell_type": "code",
   "execution_count": 15,
   "id": "20fac178-08e1-4437-85c8-7bc201ed9deb",
   "metadata": {},
   "outputs": [
    {
     "name": "stdout",
     "output_type": "stream",
     "text": [
      "2\n",
      "16\n",
      "-3\n",
      "-2.5\n"
     ]
    }
   ],
   "source": [
    "print(6//3)\n",
    "\n",
    "print(100//6)\n",
    "\n",
    "print(-5//2)\n",
    "\n",
    "print(-5/2)"
   ]
  },
  {
   "cell_type": "code",
   "execution_count": 1,
   "id": "b331d347-3472-4cf7-863d-85cf43c4d73d",
   "metadata": {},
   "outputs": [
    {
     "name": "stdout",
     "output_type": "stream",
     "text": [
      "441\n",
      "34.493241536530384\n"
     ]
    }
   ],
   "source": [
    "print(21**2)\n",
    "\n",
    "print(5**2.2)"
   ]
  },
  {
   "cell_type": "code",
   "execution_count": 2,
   "id": "6644033d-264f-4da9-bd2c-1ed2c6513ad0",
   "metadata": {},
   "outputs": [
    {
     "name": "stdout",
     "output_type": "stream",
     "text": [
      "1\n"
     ]
    }
   ],
   "source": [
    "print(5%2)  #remainder"
   ]
  },
  {
   "cell_type": "code",
   "execution_count": 3,
   "id": "0d848e1a-ded2-4d5c-bf37-ddb8e36cf9d0",
   "metadata": {},
   "outputs": [
    {
     "name": "stdout",
     "output_type": "stream",
     "text": [
      "29.0\n"
     ]
    }
   ],
   "source": [
    "print(5 + 12 / 2 * 4)"
   ]
  },
  {
   "cell_type": "code",
   "execution_count": 4,
   "id": "0efb781d-6ac7-4539-b5db-cbd6ce2dac50",
   "metadata": {},
   "outputs": [
    {
     "name": "stdout",
     "output_type": "stream",
     "text": [
      "30\n"
     ]
    }
   ],
   "source": [
    "print(10 * 3 + (10 % 2) ** 1)"
   ]
  },
  {
   "cell_type": "code",
   "execution_count": 5,
   "id": "a58e82e5-ed19-43c8-8e81-80930398a053",
   "metadata": {},
   "outputs": [
    {
     "name": "stdout",
     "output_type": "stream",
     "text": [
      "24.5\n"
     ]
    }
   ],
   "source": [
    "print(45 % 2 - 5 / 2 + ( 9 * 3 - 1 ))"
   ]
  },
  {
   "cell_type": "code",
   "execution_count": 6,
   "id": "b4422792-5bef-4fa7-9930-45a8a58474d5",
   "metadata": {},
   "outputs": [
    {
     "name": "stdout",
     "output_type": "stream",
     "text": [
      "10\n",
      "7\n",
      "28\n"
     ]
    }
   ],
   "source": [
    "x = 5\n",
    "\n",
    "x += 5\n",
    "print(x)  \n",
    "\n",
    "x -= 3\n",
    "print(x)\n",
    "\n",
    "x *= 4\n",
    "print(x)\n",
    "\n",
    "x /= 2"
   ]
  },
  {
   "cell_type": "code",
   "execution_count": 7,
   "id": "5fedb4cf-9891-4ae3-abf3-fa12912a312a",
   "metadata": {},
   "outputs": [
    {
     "name": "stdout",
     "output_type": "stream",
     "text": [
      "135\n",
      "18.02\n",
      "378.4\n"
     ]
    }
   ],
   "source": [
    "print(45 * 3)   # result is int because both operands are int\n",
    "\n",
    "print(3.4 * 5.3)    # result is float because both operands are float\n",
    "\n",
    "print(88 * 4.3)     # result is float because one operand is float"
   ]
  },
  {
   "cell_type": "code",
   "execution_count": 8,
   "id": "ac9f61d5-858d-46ab-bcc9-f99e0bb300cb",
   "metadata": {},
   "outputs": [
    {
     "name": "stdout",
     "output_type": "stream",
     "text": [
      "2\n",
      "30\n",
      "44\n",
      "45\n"
     ]
    }
   ],
   "source": [
    "## int() function\n",
    "\n",
    "print(int(2.7))   # convert 2.7 to int\n",
    "\n",
    "print(int(\"30\"))  # convert \"30\" to int\n",
    "\n",
    "print(int(44.55))\n",
    "\n",
    "print(round(44.55))\n",
    "\n",
    "\n",
    "## float() function\n"
   ]
  },
  {
   "cell_type": "code",
   "execution_count": 9,
   "id": "b95a2039-03b3-4359-ad0a-4d6594fdc085",
   "metadata": {},
   "outputs": [
    {
     "name": "stdout",
     "output_type": "stream",
     "text": [
      "1082795.953488372\n",
      "first line second line third line\n"
     ]
    }
   ],
   "source": [
    "result = 1111100 + 45 - (88 / 43) + 783 \\\n",
    "         + 10 - 33 * 1000 + \\\n",
    "         88 + 3772\n",
    "\n",
    "print(result)\n",
    "\n",
    "print(\"first line\\\n",
    " second line\\\n",
    " third line\")"
   ]
  },
  {
   "cell_type": "code",
   "execution_count": 10,
   "id": "34e70b56-63bc-4f24-97ee-e4288f63575a",
   "metadata": {},
   "outputs": [
    {
     "name": "stdout",
     "output_type": "stream",
     "text": [
      "<class 'bool'>\n",
      "<class 'bool'>\n",
      "<class 'bool'>\n",
      "<class 'bool'>\n",
      "True\n",
      "False\n",
      "1\n",
      "0\n"
     ]
    }
   ],
   "source": [
    "var1 = True\n",
    "var2 = False\n",
    "\n",
    "print(type(var1))  # type of var1 is bool\n",
    "\n",
    "print(type(var2))  # type of var2 is bool\n",
    "\n",
    "print(type(True))\t# type of True keyword is bool\n",
    "\n",
    "print(type(False))  # type of False keyword is bool\n",
    "\n",
    "print(var1)\n",
    "\n",
    "print(var2)\n",
    "\n",
    "## Python uses 1 and 0 to represent True and False respectively\n",
    "\n",
    "print(int(True))   # convert keyword True to int\n",
    "\n",
    "print(int(False))   # convert keyword False to int"
   ]
  },
  {
   "cell_type": "code",
   "execution_count": 11,
   "id": "b0aa7067-31d4-4b60-be1b-7d40c91ab8af",
   "metadata": {},
   "outputs": [
    {
     "name": "stdout",
     "output_type": "stream",
     "text": [
      "False\n",
      "True\n",
      "False\n",
      "False\n",
      "False\n",
      "True\n",
      "True\n"
     ]
    }
   ],
   "source": [
    "print(bool(\"\"))    # an empty string is falsy value\n",
    "\n",
    "print(bool(12))    # int 12 is a truthy value\n",
    "\n",
    "print(bool(0))     # int 0 is falsy a value\n",
    "\n",
    "print(bool([]))    # an empty list is a falsy value\n",
    "\n",
    "print(bool(()))    # an empty tuple is a falsy value\n",
    "\n",
    "print(bool(0.2))   # float 0.2 is truthy a value\n",
    "\n",
    "print(bool(\"boolean\"))   # string \"boolean\" is a truthy value"
   ]
  },
  {
   "cell_type": "code",
   "execution_count": 12,
   "id": "5e1f3cfa-6747-423e-819b-f2647e37e0e8",
   "metadata": {},
   "outputs": [
    {
     "name": "stdout",
     "output_type": "stream",
     "text": [
      "True\n",
      "False\n",
      "True\n",
      "False\n",
      "True\n",
      "True\n"
     ]
    }
   ],
   "source": [
    "print(3 < 4)        #  Is 3 is smaller than 4 ? Yes\n",
    "\n",
    "print(90 > 450)     # Is 90 is greater than 450 ? No\n",
    "\n",
    "print(10 <= 11)     # Is 10 is smaller than or equal to 11 ? Yes\n",
    "\n",
    "print(31 >= 40)     # Is 31 is greater than or equal to 40 ? No\n",
    "\n",
    "print(100 != 101)     # Is 100 is not equal to 101 ?  Yes\n",
    "\n",
    "print(50 == 50)       # Is 50 is equal to 50 ? Yes"
   ]
  },
  {
   "cell_type": "code",
   "execution_count": 14,
   "id": "3ef71438-e61b-45a9-bd4e-ef3306c249e4",
   "metadata": {},
   "outputs": [
    {
     "name": "stdout",
     "output_type": "stream",
     "text": [
      "True\n",
      "False\n",
      "False\n"
     ]
    }
   ],
   "source": [
    "print((10>3) and (15>6))  # both conditions are true so, the result is true\n",
    "\n",
    "print((1>5) and (43==6))  # both conditions are false so, the result is false\n",
    "\n",
    "print((1==1) and (2!=2))  # one condition is false(right operand) so, the result is false\n",
    "\n"
   ]
  },
  {
   "cell_type": "code",
   "execution_count": 15,
   "id": "2789d871-a1cd-4e6d-822b-aa9ee5b94ff5",
   "metadata": {},
   "outputs": [
    {
     "name": "stdout",
     "output_type": "stream",
     "text": [
      "True\n",
      "True\n",
      "False\n",
      "True\n",
      "True\n"
     ]
    }
   ],
   "source": [
    "print((100<200) or (55<6))\n",
    "\n",
    "print((11>55) or (6==6))\n",
    "\n",
    "print((1>12) or (2==3))\n",
    "\n",
    "print((10<22) or (20>3))\n",
    "\n",
    "################\n",
    "\n",
    "print((100>20) or (90<30))"
   ]
  },
  {
   "cell_type": "code",
   "execution_count": 16,
   "id": "ae76c9be-c6d3-46dc-ac16-2d4ee4c4d024",
   "metadata": {},
   "outputs": [
    {
     "name": "stdout",
     "output_type": "stream",
     "text": [
      "False\n",
      "True\n"
     ]
    }
   ],
   "source": [
    "print(not (200==200))\n",
    "\n",
    "print(not (10<=5))"
   ]
  },
  {
   "cell_type": "code",
   "execution_count": 17,
   "id": "4e939fdf-3897-400f-90a4-ce6bbe232352",
   "metadata": {},
   "outputs": [
    {
     "name": "stdout",
     "output_type": "stream",
     "text": [
      "String in single quotes\n",
      "String in double quotes\n",
      "hello everyone\n",
      "hello everyone\n"
     ]
    }
   ],
   "source": [
    "s1 = 'String in single quotes'\n",
    "s2 = \"String in double quotes\"\n",
    "s3 = 'hello everyone'\n",
    "s4 = \"hello everyone\"\n",
    "\n",
    "print(s1)\n",
    "print(s2)\n",
    "print(s3)\n",
    "print(s4)"
   ]
  },
  {
   "cell_type": "code",
   "execution_count": 18,
   "id": "6b7162af-7cef-4743-9a96-cdb098a74652",
   "metadata": {},
   "outputs": [
    {
     "name": "stdout",
     "output_type": "stream",
     "text": [
      "<class 'str'>\n",
      "<class 'str'>\n"
     ]
    }
   ],
   "source": [
    "achar = 'a'    # string containing a single character\n",
    "print(type(achar))\n",
    "\n",
    "print(type(\"a string\"))     # string containing multiple characters"
   ]
  },
  {
   "cell_type": "code",
   "execution_count": 19,
   "id": "a1326a33-3830-4c81-a9ee-8a32f696b130",
   "metadata": {},
   "outputs": [
    {
     "name": "stdout",
     "output_type": "stream",
     "text": [
      "8\n",
      "13\n",
      "0\n"
     ]
    }
   ],
   "source": [
    "print(len(\"a string\"))\n",
    "\n",
    "s = \"a long string\"\n",
    "print(len(s))\n",
    "\n",
    "print(len(\"\"))"
   ]
  },
  {
   "cell_type": "code",
   "execution_count": 20,
   "id": "03a3020d-de34-4c38-b3ef-75b259bf4987",
   "metadata": {},
   "outputs": [
    {
     "name": "stdout",
     "output_type": "stream",
     "text": [
      "<class 'str'>\n",
      "<class 'str'>\n"
     ]
    }
   ],
   "source": [
    "s1 = ''   # empty string using single quotes\n",
    "s2 = \"\"   # empty string using double quotes\n",
    "\n",
    "print(type(s1))\n",
    "print(type(s2))"
   ]
  },
  {
   "cell_type": "code",
   "execution_count": 23,
   "id": "b40dbdb0-9b82-419c-a945-ac583fd32bdf",
   "metadata": {},
   "outputs": [
    {
     "name": "stdout",
     "output_type": "stream",
     "text": [
      "I'm learning python\n",
      "John says \"Hello there !\"\n"
     ]
    }
   ],
   "source": [
    "print(\"I'm learning python\")\n",
    "\n",
    "# print('I'm learning python')   # Error\n",
    "\n",
    "print('John says \"Hello there !\"')"
   ]
  },
  {
   "cell_type": "code",
   "execution_count": 24,
   "id": "d43988e7-177a-484e-9be8-64f024a1eebc",
   "metadata": {},
   "outputs": [
    {
     "name": "stdout",
     "output_type": "stream",
     "text": [
      "Name\tAge\tMarks\n"
     ]
    }
   ],
   "source": [
    "s = \"Name\\tAge\\tMarks\"    # gives tab space \\t\n",
    "print(s)"
   ]
  },
  {
   "cell_type": "code",
   "execution_count": 25,
   "id": "a94ef28b-3d88-424b-97ae-0e700a7b5eb3",
   "metadata": {},
   "outputs": [
    {
     "name": "stdout",
     "output_type": "stream",
     "text": [
      "One\n",
      "Two\n",
      "Three\n"
     ]
    }
   ],
   "source": [
    "s2 = 'One\\nTwo\\nThree'    # gives next line \\n\n",
    "print(s2)        "
   ]
  },
  {
   "cell_type": "code",
   "execution_count": 26,
   "id": "7cb339c4-3063-4b9a-aae6-233c6fcf9897",
   "metadata": {},
   "outputs": [
    {
     "name": "stdout",
     "output_type": "stream",
     "text": [
      "I'm learning python\n",
      "John says \"Hello there !\"\n"
     ]
    }
   ],
   "source": [
    "print('I\\'m learning python')\n",
    "\n",
    "print(\"John says \\\"Hello there !\\\"\")"
   ]
  },
  {
   "cell_type": "code",
   "execution_count": 27,
   "id": "2f0c9506-dda1-42c4-8430-b826ec1cea1f",
   "metadata": {},
   "outputs": [
    {
     "name": "stdout",
     "output_type": "stream",
     "text": [
      "C:\\Users\\Q\n"
     ]
    }
   ],
   "source": [
    "s3 = 'C:\\\\Users\\\\Q'\n",
    "print(s3)"
   ]
  },
  {
   "cell_type": "code",
   "execution_count": 28,
   "id": "2a2d1ebf-1930-4321-beb3-38dd396c0c2c",
   "metadata": {},
   "outputs": [
    {
     "name": "stdout",
     "output_type": "stream",
     "text": [
      "This is one complete string\n",
      "One really really long string\n"
     ]
    }
   ],
   "source": [
    "s1 = \"This is \" + \"one complete string\"\n",
    "print(s1)\n",
    "\n",
    "s2 = \"One \" + \"really really \" + \"long string\"\n",
    "print(s2)"
   ]
  },
  {
   "cell_type": "code",
   "execution_count": 31,
   "id": "9fb47909-dbc2-47e5-bb29-d058c39d4210",
   "metadata": {},
   "outputs": [
    {
     "name": "stdout",
     "output_type": "stream",
     "text": [
      "Python101\n"
     ]
    }
   ],
   "source": [
    "# s = \"Python\" + 101     #will give error \n",
    "# print(s)\n",
    "\n",
    "s = \"Python\" + str(101)\n",
    "print(s)"
   ]
  },
  {
   "cell_type": "code",
   "execution_count": 32,
   "id": "9e762db6-ea49-43ec-97e4-4909f27f51a9",
   "metadata": {},
   "outputs": [
    {
     "name": "stdout",
     "output_type": "stream",
     "text": [
      "www www www www www \n",
      "We have got some spamspamspamspamspam\n"
     ]
    }
   ],
   "source": [
    "s = \"www \" * 5  # repeat \"www \" 5 times\n",
    "print(s)\n",
    "\n",
    "print(\"We have got some\", \"spam\" * 5)"
   ]
  },
  {
   "cell_type": "code",
   "execution_count": 34,
   "id": "923f2b5e-e75e-4018-81ee-1760ec69a37d",
   "metadata": {},
   "outputs": [],
   "source": [
    "# print(\"www\" * \"e\")   # n is a string   # will give error\n",
    "\n",
    "# print(\"www\" * 1.5)   # n is a float    # will give error"
   ]
  },
  {
   "cell_type": "code",
   "execution_count": 35,
   "id": "89555362-0e0a-481a-ab31-9f3d13db24f3",
   "metadata": {},
   "outputs": [
    {
     "name": "stdout",
     "output_type": "stream",
     "text": [
      "True\n",
      "False\n",
      "True\n",
      "False\n"
     ]
    }
   ],
   "source": [
    "s1 = \"object oriented\"\n",
    "\n",
    "print(\"ted\" in s1)    # Does \"ted\" exists in s1 ?\n",
    "\n",
    "print(\"eject\" in s1)   # Does \"eject\" exists in s1 ?\n",
    "\n",
    "print(\"orion\" not in s1)   # Doesn't \"orion\" exists in s1 ?\n",
    "\n",
    "print(\"en\" not in s1)   # Doesn't \"en\" exists in s1 ?"
   ]
  },
  {
   "cell_type": "code",
   "execution_count": 36,
   "id": "7ac060ee-871e-4282-97fd-2b06adf9b227",
   "metadata": {},
   "outputs": [
    {
     "name": "stdout",
     "output_type": "stream",
     "text": [
      "h\n",
      "e\n",
      "l\n",
      "l\n",
      "o\n"
     ]
    }
   ],
   "source": [
    "s1 = \"hello\"\n",
    "\n",
    "print(s1[0])    # get the first character\n",
    "\n",
    "print(s1[1])    # get the second character\n",
    "\n",
    "print(s1[2])    # get the third character\n",
    "\n",
    "print(s1[3])    # get the fourth character\n",
    "\n",
    "print(s1[4])    # get the fifth character"
   ]
  },
  {
   "cell_type": "code",
   "execution_count": 37,
   "id": "251fc56e-0ea8-4566-9a8b-9d67de775e02",
   "metadata": {},
   "outputs": [
    {
     "name": "stdout",
     "output_type": "stream",
     "text": [
      "d\n"
     ]
    }
   ],
   "source": [
    "quote = \"The best is the enemy of the good\"\n",
    "\n",
    "print(quote[len(quote)-1])"
   ]
  },
  {
   "cell_type": "code",
   "execution_count": 38,
   "id": "a6f4337d-6c40-4f00-9032-60e89d226ab5",
   "metadata": {},
   "outputs": [
    {
     "name": "stdout",
     "output_type": "stream",
     "text": [
      "n\n",
      "w\n",
      "m\n",
      "m\n"
     ]
    }
   ],
   "source": [
    "s = \"markdown\"\n",
    "\n",
    "print(s[-1])        # get the last character\n",
    "\n",
    "print(s[-2])        # get the second last character\n",
    "\n",
    "print(s[-8])        # get the first character\n",
    "\n",
    "print(s[-len(s)])   # get the first character"
   ]
  },
  {
   "cell_type": "code",
   "execution_count": 39,
   "id": "5d5dcf5a-c4ed-4bbb-b1b3-f7445ff23a77",
   "metadata": {},
   "outputs": [
    {
     "name": "stdout",
     "output_type": "stream",
     "text": [
      "mar\n",
      "rkd\n"
     ]
    }
   ],
   "source": [
    "s = \"markdown\"\n",
    "\n",
    "print(s[0:3])  # get a slice of string starting from index 0 to 3,\n",
    "\t\t\t   # not including the character at index 3\n",
    "\n",
    "print(s[2:5])  # get a slice of string starting from index 2 to 5, \n",
    "               # not including the character at index 5"
   ]
  },
  {
   "cell_type": "code",
   "execution_count": 42,
   "id": "62bca02c-7719-42bf-9a9c-e47dc9c02d6a",
   "metadata": {},
   "outputs": [
    {
     "name": "stdout",
     "output_type": "stream",
     "text": [
      "rkdown\n"
     ]
    }
   ],
   "source": [
    "s = \"markdown\"\n",
    "\n",
    "print(s[2:len(s)+200])"
   ]
  },
  {
   "cell_type": "code",
   "execution_count": 43,
   "id": "bda8c65b-ba12-4446-9ae7-0b542bf62ac1",
   "metadata": {},
   "outputs": [
    {
     "name": "stdout",
     "output_type": "stream",
     "text": [
      "mark\n"
     ]
    }
   ],
   "source": [
    "s = \"markdown\"\n",
    "\n",
    "print(s[:4])  # start slicing from the beginning"
   ]
  },
  {
   "cell_type": "code",
   "execution_count": 44,
   "id": "1e863083-e0d1-4ae8-8f94-1d6935d73f7a",
   "metadata": {},
   "outputs": [
    {
     "name": "stdout",
     "output_type": "stream",
     "text": [
      "own\n"
     ]
    }
   ],
   "source": [
    "s = \"markdown\"\n",
    "\n",
    "print(s[5:])"
   ]
  },
  {
   "cell_type": "code",
   "execution_count": 47,
   "id": "75c4854f-ac50-46cf-a64f-c86c73a19a41",
   "metadata": {},
   "outputs": [
    {
     "name": "stdout",
     "output_type": "stream",
     "text": [
      "markdown\n",
      "arkdow\n"
     ]
    }
   ],
   "source": [
    "s = \"markdown\"\n",
    "\n",
    "print(s[:])\n",
    "\n",
    "print(s[1:-1])"
   ]
  },
  {
   "cell_type": "code",
   "execution_count": 46,
   "id": "f69ebc04-2988-4a19-a097-af2846cdaa19",
   "metadata": {},
   "outputs": [
    {
     "name": "stdout",
     "output_type": "stream",
     "text": [
      "a string\n",
      "A STRING\n"
     ]
    }
   ],
   "source": [
    "s1 = \"A String\"\n",
    "s2 = s1.lower()\n",
    "print(s2)\n",
    "\n",
    "s3 = s1.upper()\n",
    "print(s3)"
   ]
  },
  {
   "cell_type": "code",
   "execution_count": 48,
   "id": "ca71d40e-8662-4fea-8efd-e63416de9481",
   "metadata": {},
   "outputs": [
    {
     "name": "stdout",
     "output_type": "stream",
     "text": [
      "A String\n",
      "2521179655088\n"
     ]
    }
   ],
   "source": [
    "s1 = \"A String\"\n",
    "\n",
    "print(s1)\n",
    "print(id(s1))"
   ]
  },
  {
   "cell_type": "code",
   "execution_count": 49,
   "id": "2fd1fc46-5071-45fc-a194-bff922620d7e",
   "metadata": {},
   "outputs": [
    {
     "name": "stdout",
     "output_type": "stream",
     "text": [
      "97\n",
      "53\n"
     ]
    }
   ],
   "source": [
    "print(ord(\"a\"))  # print the ASCII value of character a\n",
    "\n",
    "print(ord(\"5\"))  # print the ASCII value of character 5"
   ]
  },
  {
   "cell_type": "code",
   "execution_count": 2,
   "id": "9a9c21a4-ebaf-42b8-bf23-c104c68c09dc",
   "metadata": {},
   "outputs": [
    {
     "name": "stdout",
     "output_type": "stream",
     "text": [
      "a\n",
      "5\n",
      "first line\n",
      "second line\n"
     ]
    }
   ],
   "source": [
    "print(chr(97))   # print the character represented by ASCII value 97\n",
    "\n",
    "print(chr(53))   # print the character represented by ASCII value 53\n",
    "\n",
    "print(\"first line\")\n",
    "print(\"second line\")"
   ]
  },
  {
   "cell_type": "code",
   "execution_count": 3,
   "id": "d6c35807-d4d9-4c94-8dd3-e4faa1789968",
   "metadata": {},
   "outputs": [
    {
     "name": "stdout",
     "output_type": "stream",
     "text": [
      "first string$second string$"
     ]
    }
   ],
   "source": [
    "print(\"first string\", end=\"$\")\n",
    "print(\"second string\", end=\"$\")"
   ]
  },
  {
   "cell_type": "code",
   "execution_count": 4,
   "id": "9c1e51cb-e12b-4e75-866f-a755e1e2b84a",
   "metadata": {},
   "outputs": [
    {
     "name": "stdout",
     "output_type": "stream",
     "text": [
      "firstsecondthird\n"
     ]
    }
   ],
   "source": [
    "print(\"first\", end=\"\")\n",
    "print(\"second\", end=\"\")\n",
    "print(\"third\")"
   ]
  },
  {
   "cell_type": "code",
   "execution_count": 5,
   "id": "14058c05-c685-41ce-9783-49f8fd9dbe02",
   "metadata": {},
   "outputs": [
    {
     "name": "stdout",
     "output_type": "stream",
     "text": [
      "first second third\n"
     ]
    }
   ],
   "source": [
    "print(\"first\", \"second\", \"third\")"
   ]
  },
  {
   "cell_type": "code",
   "execution_count": 6,
   "id": "7fffa4d9-eaf3-48d9-b284-14ee96f64545",
   "metadata": {},
   "outputs": [
    {
     "name": "stdout",
     "output_type": "stream",
     "text": [
      "first#second#third\n"
     ]
    }
   ],
   "source": [
    "print(\"first\", \"second\", \"third\", sep=\"#\")"
   ]
  },
  {
   "cell_type": "code",
   "execution_count": 8,
   "id": "ebbbd597-0783-4df9-ba80-b3c9287a449c",
   "metadata": {},
   "outputs": [
    {
     "name": "stdout",
     "output_type": "stream",
     "text": [
      "False\n",
      "True\n"
     ]
    }
   ],
   "source": [
    "print(\"linker\" > \"linquish\")\n",
    "print(\"qwerty\" > \"abc\")"
   ]
  },
  {
   "cell_type": "code",
   "execution_count": 9,
   "id": "60db588c-611a-45a9-a540-b99f625af165",
   "metadata": {},
   "outputs": [
    {
     "name": "stdout",
     "output_type": "stream",
     "text": [
      "False\n"
     ]
    }
   ],
   "source": [
    "print(\"ab\" > \"abc\")"
   ]
  },
  {
   "cell_type": "code",
   "execution_count": 10,
   "id": "3a39237d-f1df-4d59-a915-fa9632d9eb8e",
   "metadata": {},
   "outputs": [
    {
     "name": "stdout",
     "output_type": "stream",
     "text": [
      "True\n",
      "True\n",
      "False\n",
      "True\n"
     ]
    }
   ],
   "source": [
    "print(\"tree\" == \"tree\")\n",
    "\n",
    "print(\"pass\" != \"password\")\n",
    "\n",
    "print(\"@@@\" <= \"123\")\n",
    "\n",
    "print(\"\" <= \"123\")"
   ]
  },
  {
   "cell_type": "code",
   "execution_count": 11,
   "id": "bdb04a8f-9548-477e-82a9-af0984244e9e",
   "metadata": {},
   "outputs": [
    {
     "name": "stdout",
     "output_type": "stream",
     "text": [
      "2360517520624\n",
      "hello world\n",
      "2360522235568\n"
     ]
    }
   ],
   "source": [
    "s = \"hello\"\n",
    "print(id(s))\n",
    "\n",
    "s += \" world\"\n",
    "print(s)\n",
    "\n",
    "print(id(s))"
   ]
  },
  {
   "cell_type": "code",
   "execution_count": 12,
   "id": "b636631d-fdf2-43c9-ac8a-89f773c6ec47",
   "metadata": {},
   "outputs": [
    {
     "name": "stdout",
     "output_type": "stream",
     "text": [
      "Python    \n"
     ]
    }
   ],
   "source": [
    "print(format(\"Python\", \"10s\"))"
   ]
  },
  {
   "cell_type": "code",
   "execution_count": 13,
   "id": "3acc2c82-064b-4166-8601-8111eee3ffc9",
   "metadata": {},
   "outputs": [
    {
     "name": "stdout",
     "output_type": "stream",
     "text": [
      "Python\n"
     ]
    }
   ],
   "source": [
    "print(format(\"Python\", \"4s\"))"
   ]
  },
  {
   "cell_type": "code",
   "execution_count": 14,
   "id": "a6ef616f-42fc-4e60-bdc3-6db05129936c",
   "metadata": {},
   "outputs": [
    {
     "name": "stdout",
     "output_type": "stream",
     "text": [
      "    Python\n"
     ]
    }
   ],
   "source": [
    "print(format(\"Python\", \">10s\"))"
   ]
  },
  {
   "cell_type": "code",
   "execution_count": 15,
   "id": "22d5bbc2-497a-4f5b-82ee-a5a628468102",
   "metadata": {},
   "outputs": [
    {
     "name": "stdout",
     "output_type": "stream",
     "text": [
      "False\n",
      "True\n",
      "True\n"
     ]
    }
   ],
   "source": [
    "s = \"A bite of python\"\n",
    "\n",
    "print(s.isalnum())\n",
    "\n",
    "print(\"123\".isalnum())\n",
    "\n",
    "print(\"abc\".isalnum())"
   ]
  },
  {
   "cell_type": "code",
   "execution_count": 21,
   "id": "149ee40e-4911-411c-b1a7-6ceb6d707c6f",
   "metadata": {},
   "outputs": [],
   "source": [
    "# Method\tDescription\n",
    "# str.isalnum()\treturns True if all the characters in the string is alphanumeric (a string which contains either number or alphabets or both). Otherwise False.\n",
    "# str.isalpha()\treturns True if all the characters in the string are alphabets. Otherwise False.\n",
    "# str.isdigit()\treturns True if all the characters in the string are digits. Otherwise False.\n",
    "# str.islower()\treturns True if all the characters in the string are in lowercase. Otherwise False.\n",
    "# str.isupper()\treturns True if all the characters in the string are in uppercase. Otherwise False.\n",
    "# str.isspace()\treturns True if all the characters in the string are whitespace characters. Otherwise False."
   ]
  },
  {
   "cell_type": "code",
   "execution_count": 16,
   "id": "56f06c11-3fbb-448c-a762-30c06014fdaf",
   "metadata": {},
   "outputs": [
    {
     "name": "stdout",
     "output_type": "stream",
     "text": [
      "False\n",
      "True\n",
      "False\n",
      "False\n"
     ]
    }
   ],
   "source": [
    "print(\"123\".isalpha())\n",
    "\n",
    "print(\"zyz\".isalpha())\n",
    "\n",
    "print(\"$$$$\".isalpha())\n",
    "\n",
    "print(\"abc233\".isalpha())"
   ]
  },
  {
   "cell_type": "code",
   "execution_count": 22,
   "id": "3a80d382-b3da-4aca-ad33-db423affb59f",
   "metadata": {},
   "outputs": [
    {
     "name": "stdout",
     "output_type": "stream",
     "text": [
      "False\n",
      "True\n",
      "False\n",
      "False\n"
     ]
    }
   ],
   "source": [
    "print(\"name101\".isdigit())\n",
    "\n",
    "print(\"101\".isdigit())\n",
    "\n",
    "print(\"101 \".isdigit())\n",
    "\n",
    "print(\"101.129\".isdigit())"
   ]
  },
  {
   "cell_type": "code",
   "execution_count": 23,
   "id": "4a7b3b06-95b1-4b4b-b283-1e3ff01ee725",
   "metadata": {},
   "outputs": [
    {
     "name": "stdout",
     "output_type": "stream",
     "text": [
      "False\n",
      "True\n",
      "False\n",
      "True\n"
     ]
    }
   ],
   "source": [
    "s = 'A bite of python'\n",
    "\n",
    "print(s.islower())\n",
    "\n",
    "print(\"abc\".islower())\n",
    "\n",
    "print(s.isupper())\n",
    "\n",
    "print(\"ABC\".isupper())"
   ]
  },
  {
   "cell_type": "code",
   "execution_count": 24,
   "id": "d360dcff-05e6-4324-9b26-36bcfb806070",
   "metadata": {},
   "outputs": [
    {
     "name": "stdout",
     "output_type": "stream",
     "text": [
      "True\n",
      "True\n",
      "False\n",
      "False\n"
     ]
    }
   ],
   "source": [
    "print(\"\\n\\t\".isspace())\n",
    "\n",
    "print(\" \\n\\t\".isspace())\n",
    "\n",
    "print(\"@ \\n\\t\".isspace())\n",
    "\n",
    "print(\"123\".isspace())"
   ]
  },
  {
   "cell_type": "code",
   "execution_count": 25,
   "id": "908dc85b-7e33-4d75-abf5-4a73f12bb66c",
   "metadata": {},
   "outputs": [],
   "source": [
    "# Method\t Description\n",
    "# endswith(sub)\t    Returns True if string ends with substring sub. Otherwise False.\n",
    "# startswith(sub)\tReturns True if string starts with substring sub. Otherwise False.\n",
    "# find(sub)\t        Returns the lowest index of the string where substring sub is found. If substring sub is not found -1 is returned.\n",
    "# rfind(sub)\t    Returns the highest index of the string where substring sub is found. If substring sub is not found -1 is returned.\n",
    "# count(sub)\t    It returns the number of occurrences of substring sub found in the string. If no occurrences found 0 is returned.\n",
    "# replace(old, new)\tIt returns a new string after replacing old substring with new. Notice that it does not change the object on which it is called."
   ]
  },
  {
   "cell_type": "code",
   "execution_count": 26,
   "id": "f2492651-8c7b-4884-9789-87337c973764",
   "metadata": {},
   "outputs": [
    {
     "name": "stdout",
     "output_type": "stream",
     "text": [
      "True\n",
      "True\n",
      "4\n",
      "14\n"
     ]
    }
   ],
   "source": [
    "s = \"abc\"\n",
    "\n",
    "print(s.endswith(\"bc\"))\n",
    "\n",
    "print(\"python\".startswith(\"py\"))\n",
    "\n",
    "print(\"Learning Python\".find(\"n\"))\n",
    "\n",
    "print(\"Learning Python\".rfind(\"n\"))"
   ]
  },
  {
   "cell_type": "code",
   "execution_count": 27,
   "id": "7e795428-f215-44e3-857d-559ee8eec5e9",
   "metadata": {},
   "outputs": [
    {
     "name": "stdout",
     "output_type": "stream",
     "text": [
      "2360522317552\n",
      "abc\n",
      "2360522317552\n"
     ]
    }
   ],
   "source": [
    "s1 = \"Learning C\"  # old string\n",
    "print(id(s1))\n",
    "\n",
    "s2 = s.replace(\"C\", \"Python\")   # replace() creates a new string and assigns it to s2\n",
    "print(s2)\n",
    "\n",
    "print(id(s1))"
   ]
  },
  {
   "cell_type": "code",
   "execution_count": 28,
   "id": "284ed7f8-f95b-41a3-b295-6152836d4cb6",
   "metadata": {},
   "outputs": [],
   "source": [
    "# Method\tDescription\n",
    "# lower()\t    Returns a new copy of the string after converting all of it's characters to lowercase.\n",
    "# upper()\t    Returns a new copy of the string after converting all of it's characters to uppercase.\n",
    "# capitalize()\tReturns a new copy of the string after capitalizing only the first letter in the string.\n",
    "# title()\t    Returns a new copy of the string after capitalizing the first letter in each word.\n",
    "# swapcase()\tReturns a new copy after converting lowercase letters to uppercase and vice-versa.\n",
    "# strip()\t    Returns a new copy of the string after removing all the leading and trailing whitespace characters.\n",
    "# strip(chars)\tReturns a new copy of the string after removing chars from the beginning and end of the string.\n",
    "\n",
    "# -> Always remember these methods return a new string and do not modify the object upon which they are called in any way."
   ]
  },
  {
   "cell_type": "code",
   "execution_count": 29,
   "id": "fa329c29-6c37-4735-afb5-a03fbed490c6",
   "metadata": {},
   "outputs": [
    {
     "name": "stdout",
     "output_type": "stream",
     "text": [
      "abcdef\n",
      "abc\n"
     ]
    }
   ],
   "source": [
    "print(\"abcDEF\".lower())\n",
    "\n",
    "print(\"abc\".lower())"
   ]
  },
  {
   "cell_type": "code",
   "execution_count": 30,
   "id": "ee26df12-cd52-4510-9719-989274f6dd69",
   "metadata": {},
   "outputs": [
    {
     "name": "stdout",
     "output_type": "stream",
     "text": [
      "ABCDEF\n",
      "ABC\n"
     ]
    }
   ],
   "source": [
    "print(\"ABCdef\".upper())\n",
    "\n",
    "print(\"ABC\".upper())"
   ]
  },
  {
   "cell_type": "code",
   "execution_count": 31,
   "id": "68438383-dc38-4aae-82eb-ddac28ef3b60",
   "metadata": {},
   "outputs": [
    {
     "name": "stdout",
     "output_type": "stream",
     "text": [
      "A long string\n",
      "A Long String\n"
     ]
    }
   ],
   "source": [
    "print(\"a long string\".capitalize())\n",
    "\n",
    "print(\"a long string\".title())"
   ]
  },
  {
   "cell_type": "code",
   "execution_count": 32,
   "id": "fec0eb7f-5cf4-4f16-a233-4952d2399aef",
   "metadata": {},
   "outputs": [
    {
     "name": "stdout",
     "output_type": "stream",
     "text": [
      "abcDEF\n",
      "DEF\n"
     ]
    }
   ],
   "source": [
    "print(\"ABCdef\".swapcase())\n",
    "\n",
    "print(\"def\".swapcase())"
   ]
  },
  {
   "cell_type": "code",
   "execution_count": 33,
   "id": "3d2a990f-c853-4e7f-9fa1-76ff70b8459b",
   "metadata": {},
   "outputs": [
    {
     "name": "stdout",
     "output_type": "stream",
     "text": [
      "\n",
      "\tName\tAge\n",
      "Name\tAge\n",
      "Name\tAge\n"
     ]
    }
   ],
   "source": [
    "s1 = \"\\n\\tName\\tAge\"\n",
    "print(s1)\n",
    "\n",
    "s2 = s1.strip()\n",
    "print(s2)\n",
    "\n",
    "s3  = \"--Name\\tAge--\"\n",
    "print(s3.strip(\"-\"))     # return a new copy of string after removing \n",
    "\t\t\t # the dash(-) character from beginning and end of the string"
   ]
  },
  {
   "cell_type": "code",
   "execution_count": 34,
   "id": "1296b4d7-b93e-41a0-b67a-1dd69e324db0",
   "metadata": {},
   "outputs": [],
   "source": [
    "# Method\tDescription\n",
    "# center(width) \tReturns a new copy of the string after centering it in a field of length width.\n",
    "# ljust(width)  \tReturns a new copy of the string justified to left in field of length width.\n",
    "# rjust(width)\t    Returns a new copy of the string justified to right in field of length width."
   ]
  },
  {
   "cell_type": "code",
   "execution_count": 35,
   "id": "bff671ef-7f5e-4be3-8653-d95164cd2390",
   "metadata": {},
   "outputs": [
    {
     "name": "stdout",
     "output_type": "stream",
     "text": [
      "        NAME        \n"
     ]
    }
   ],
   "source": [
    "print(\"NAME\".center(20))"
   ]
  },
  {
   "cell_type": "code",
   "execution_count": 36,
   "id": "2bd68474-cc8b-4c45-ba1e-6835c26020c4",
   "metadata": {},
   "outputs": [
    {
     "name": "stdout",
     "output_type": "stream",
     "text": [
      "NAME      \n",
      "NAME\n",
      "NAME \n"
     ]
    }
   ],
   "source": [
    "print(\"NAME\".ljust(10))\n",
    "\n",
    "print(\"NAME\".ljust(4))\n",
    "\n",
    "print(\"NAME\".ljust(5))"
   ]
  },
  {
   "cell_type": "code",
   "execution_count": 38,
   "id": "ac778849-8058-4659-adc7-117aae31fd52",
   "metadata": {},
   "outputs": [
    {
     "name": "stdout",
     "output_type": "stream",
     "text": [
      "      NAME\n",
      "NAME\n",
      " NAME\n"
     ]
    }
   ],
   "source": [
    "print(\"NAME\".rjust(10))\n",
    "\n",
    "print(\"NAME\".rjust(4))\n",
    "\n",
    "print(\"NAME\".rjust(5))"
   ]
  },
  {
   "cell_type": "code",
   "execution_count": 39,
   "id": "18f6598c-9f39-4b88-8ef7-7b18674fe236",
   "metadata": {},
   "outputs": [
    {
     "name": "stdin",
     "output_type": "stream",
     "text": [
      "Enter a number: \n",
      " 27\n"
     ]
    },
    {
     "name": "stdout",
     "output_type": "stream",
     "text": [
      "Number is greater than 10\n"
     ]
    }
   ],
   "source": [
    "number = int(input(\"Enter a number: \\n\"))\n",
    "\n",
    "if number > 10:\n",
    "    print(\"Number is greater than 10\")"
   ]
  },
  {
   "cell_type": "code",
   "execution_count": 42,
   "id": "6128d72c-2e96-451c-899a-73cc85b0218e",
   "metadata": {},
   "outputs": [
    {
     "name": "stdin",
     "output_type": "stream",
     "text": [
      "Enter a number: \n",
      " 27\n"
     ]
    },
    {
     "name": "stdout",
     "output_type": "stream",
     "text": [
      "statement 1\n",
      "statement 2\n",
      "statement 3\n",
      "Executes every time you run the program\n",
      "Program ends here\n"
     ]
    }
   ],
   "source": [
    "number = int(input(\"Enter a number: \\n\"))\n",
    "if number > 10:\n",
    "    print(\"statement 1\")\n",
    "    print(\"statement 2\")\n",
    "    print(\"statement 3\")\n",
    "print(\"Executes every time you run the program\")\n",
    "print(\"Program ends here\")"
   ]
  },
  {
   "cell_type": "code",
   "execution_count": 45,
   "id": "473de370-7b0d-47a1-90d0-98b94077ccfd",
   "metadata": {},
   "outputs": [
    {
     "name": "stdin",
     "output_type": "stream",
     "text": [
      "Enter radius: \n",
      " 8\n"
     ]
    },
    {
     "name": "stdout",
     "output_type": "stream",
     "text": [
      "Circumference =  50.24\n",
      "Area =  200.96\n"
     ]
    }
   ],
   "source": [
    "radius = int(input(\"Enter radius: \\n\"))\n",
    "if radius >= 0:\n",
    "    print(\"Circumference = \", 2 * 3.14 * radius)\n",
    "    print(\"Area = \", 3.14 * radius ** 2 )\n",
    "else:\n",
    "    print(\"Please enter a positive number\")"
   ]
  },
  {
   "cell_type": "code",
   "execution_count": 48,
   "id": "52e4dcd4-d4e7-4eb9-bebf-6a3ab12200fb",
   "metadata": {},
   "outputs": [
    {
     "name": "stdin",
     "output_type": "stream",
     "text": [
      "Enter a password: \n",
      " sshh\n"
     ]
    },
    {
     "name": "stdout",
     "output_type": "stream",
     "text": [
      "Welcome to the Secret World\n"
     ]
    }
   ],
   "source": [
    "password = input(\"Enter a password: \\n\")\n",
    "if password == \"sshh\":\n",
    "    print(\"Welcome to the Secret World\")\n",
    "else:\n",
    "    print(\"You are not allowed here\")"
   ]
  },
  {
   "cell_type": "code",
   "execution_count": 49,
   "id": "8260b3d9-6e47-4e86-a36c-bb0f3033990b",
   "metadata": {},
   "outputs": [
    {
     "name": "stdin",
     "output_type": "stream",
     "text": [
      "Enter your GRE score: \n",
      " 180\n",
      "Enter percent secured in graduation: \n",
      " 190\n"
     ]
    },
    {
     "name": "stdout",
     "output_type": "stream",
     "text": [
      "Congratulations you are eligible for loan\n"
     ]
    }
   ],
   "source": [
    "gre_score = int(input(\"Enter your GRE score: \\n\"))\n",
    "per_grad = int(input(\"Enter percent secured in graduation: \\n\"))\n",
    "\n",
    "if per_grad > 70:\n",
    "    # outer if block\n",
    "    if gre_score > 150:\n",
    "        # inner if block\n",
    "        print(\"Congratulations you are eligible for loan\")\n",
    "else:\n",
    "    print(\"Sorry, you are not eligible for loan\")"
   ]
  },
  {
   "cell_type": "code",
   "execution_count": 50,
   "id": "d9dc23aa-b8c8-40b2-9a5c-220516962d5b",
   "metadata": {},
   "outputs": [
    {
     "name": "stdin",
     "output_type": "stream",
     "text": [
      "Enter your GRE score: \n",
      " 180\n",
      "Enter percent secured in graduation: \n",
      " 190\n"
     ]
    },
    {
     "name": "stdout",
     "output_type": "stream",
     "text": [
      "Congratulations you are eligible for loan.\n"
     ]
    }
   ],
   "source": [
    "gre_score = int(input(\"Enter your GRE score: \\n\"))\n",
    "per_grad = int(input(\"Enter percent secured in graduation: \\n\"))\n",
    "\n",
    "if per_grad > 70:\n",
    "    if gre_score > 150:\n",
    "        print(\"Congratulations you are eligible for loan.\")\n",
    "    else:\n",
    "        print(\"Your GRE score is no good enough. You should retake the exam.\")"
   ]
  },
  {
   "cell_type": "code",
   "execution_count": 51,
   "id": "d78ebbb8-0ef3-4ba6-83b6-3105b3752e39",
   "metadata": {},
   "outputs": [
    {
     "name": "stdin",
     "output_type": "stream",
     "text": [
      "Enter your marks: \n",
      " 100\n"
     ]
    },
    {
     "name": "stdout",
     "output_type": "stream",
     "text": [
      "Excellent ! Your grade is A\n"
     ]
    }
   ],
   "source": [
    "score = int(input(\"Enter your marks: \\n\"))\n",
    "\n",
    "if score >= 90:\n",
    "    print(\"Excellent ! Your grade is A\")\n",
    "else:\n",
    "    if score >= 80:\n",
    "        print(\"Great ! Your grade is B\")\n",
    "    else:\n",
    "        if score >= 70:\n",
    "            print(\"Good ! Your grade is C\")\n",
    "        else:\n",
    "            if score >= 60:\n",
    "                print(\"Your grade is D. You should work hard on you subjects.\")\n",
    "            else:\n",
    "                print(\"You failed in the exam\")"
   ]
  },
  {
   "cell_type": "code",
   "execution_count": 1,
   "id": "324291a1-b354-46f5-b80c-e6d4055bcf66",
   "metadata": {},
   "outputs": [
    {
     "name": "stdin",
     "output_type": "stream",
     "text": [
      "Enter your marks: \n",
      " 90\n"
     ]
    },
    {
     "name": "stdout",
     "output_type": "stream",
     "text": [
      "Excellent! Your grade is A\n"
     ]
    }
   ],
   "source": [
    "score = int(input(\"Enter your marks: \\n\"))\n",
    "\n",
    "if score >= 90:\n",
    "    print(\"Excellent! Your grade is A\")\n",
    "elif score >= 80:\n",
    "    print(\"Great! Your grade is B\")\n",
    "elif score >= 70:\n",
    "    print(\"Good! Your grade is C\")\n",
    "elif score >= 60:\n",
    "    print(\"Your grade is D. You should work hard on you studies.\")\n",
    "else:\n",
    "    print(\"You failed in the exam\")\n",
    "    "
   ]
  },
  {
   "cell_type": "code",
   "execution_count": 2,
   "id": "53804374-4c35-457d-b5dd-8fc6fbaba647",
   "metadata": {},
   "outputs": [
    {
     "name": "stdout",
     "output_type": "stream",
     "text": [
      "Today is Sunday\n",
      "Today is Sunday\n",
      "Today is Sunday\n",
      "Today is Sunday\n",
      "Today is Sunday\n",
      "Today is Sunday\n",
      "Today is Sunday\n",
      "Today is Sunday\n",
      "Today is Sunday\n",
      "Today is Sunday\n",
      "Today is Sunday\n",
      "Today is Sunday\n",
      "Today is Sunday\n",
      "Today is Sunday\n",
      "Today is Sunday\n",
      "Today is Sunday\n",
      "Today is Sunday\n",
      "Today is Sunday\n",
      "Today is Sunday\n",
      "Today is Sunday\n",
      "Today is Sunday\n",
      "Today is Sunday\n",
      "Today is Sunday\n",
      "Today is Sunday\n",
      "Today is Sunday\n",
      "Today is Sunday\n",
      "Today is Sunday\n",
      "Today is Sunday\n",
      "Today is Sunday\n",
      "Today is Sunday\n",
      "Today is Sunday\n",
      "Today is Sunday\n",
      "Today is Sunday\n",
      "Today is Sunday\n",
      "Today is Sunday\n",
      "Today is Sunday\n",
      "Today is Sunday\n",
      "Today is Sunday\n",
      "Today is Sunday\n",
      "Today is Sunday\n",
      "Today is Sunday\n",
      "Today is Sunday\n",
      "Today is Sunday\n",
      "Today is Sunday\n",
      "Today is Sunday\n",
      "Today is Sunday\n",
      "Today is Sunday\n",
      "Today is Sunday\n",
      "Today is Sunday\n",
      "Today is Sunday\n",
      "Today is Sunday\n",
      "Today is Sunday\n",
      "Today is Sunday\n",
      "Today is Sunday\n",
      "Today is Sunday\n",
      "Today is Sunday\n",
      "Today is Sunday\n",
      "Today is Sunday\n",
      "Today is Sunday\n",
      "Today is Sunday\n",
      "Today is Sunday\n",
      "Today is Sunday\n",
      "Today is Sunday\n",
      "Today is Sunday\n",
      "Today is Sunday\n",
      "Today is Sunday\n",
      "Today is Sunday\n",
      "Today is Sunday\n",
      "Today is Sunday\n",
      "Today is Sunday\n",
      "Today is Sunday\n",
      "Today is Sunday\n",
      "Today is Sunday\n",
      "Today is Sunday\n",
      "Today is Sunday\n",
      "Today is Sunday\n",
      "Today is Sunday\n",
      "Today is Sunday\n",
      "Today is Sunday\n",
      "Today is Sunday\n",
      "Today is Sunday\n",
      "Today is Sunday\n",
      "Today is Sunday\n",
      "Today is Sunday\n",
      "Today is Sunday\n",
      "Today is Sunday\n",
      "Today is Sunday\n",
      "Today is Sunday\n",
      "Today is Sunday\n",
      "Today is Sunday\n",
      "Today is Sunday\n",
      "Today is Sunday\n",
      "Today is Sunday\n",
      "Today is Sunday\n",
      "Today is Sunday\n",
      "Today is Sunday\n",
      "Today is Sunday\n",
      "Today is Sunday\n",
      "Today is Sunday\n",
      "Today is Sunday\n"
     ]
    }
   ],
   "source": [
    "i = 1\n",
    "while i <= 100:\n",
    "    print(\"Today is Sunday\")\n",
    "    i += 1"
   ]
  },
  {
   "cell_type": "code",
   "execution_count": 3,
   "id": "43a27e29-d0ad-4b81-8d89-3d1a8ff20113",
   "metadata": {},
   "outputs": [
    {
     "name": "stdout",
     "output_type": "stream",
     "text": [
      "sum is 55\n"
     ]
    }
   ],
   "source": [
    "i = 1\n",
    "sum = 0\n",
    "while i < 11:\n",
    "    sum += i    # same as sum = sum + i\n",
    "    i += 1  \n",
    "\n",
    "print(\"sum is\", sum)   # print the sum"
   ]
  },
  {
   "cell_type": "code",
   "execution_count": 4,
   "id": "0c08eb8a-04e9-417b-9d6f-5a5e8302c908",
   "metadata": {},
   "outputs": [
    {
     "name": "stdout",
     "output_type": "stream",
     "text": [
      "sum is 55\n"
     ]
    }
   ],
   "source": [
    "i = 1\n",
    "sum = 0\n",
    "while i < 11:\n",
    "    sum += i    # same as sum = sum + i\n",
    "    i += 1  \n",
    "\n",
    "print(\"sum is\", sum)   # print the sum"
   ]
  },
  {
   "cell_type": "code",
   "execution_count": 5,
   "id": "56d16348-e258-4010-9cd0-dc7d6edec291",
   "metadata": {},
   "outputs": [
    {
     "name": "stdout",
     "output_type": "stream",
     "text": [
      "11\n",
      "44\n",
      "77\n",
      "33\n",
      "199\n"
     ]
    }
   ],
   "source": [
    "for i in [11, 44, 77, 33, 199]:\n",
    "\tprint(i)"
   ]
  },
  {
   "cell_type": "code",
   "execution_count": 6,
   "id": "5a9fd9f6-92e8-4dcb-b6a1-3805ab04b84e",
   "metadata": {},
   "outputs": [
    {
     "name": "stdout",
     "output_type": "stream",
     "text": [
      "a\n",
      "s\n",
      "t\n",
      "r\n",
      "o\n"
     ]
    }
   ],
   "source": [
    "for i in \"astro\":\n",
    "\tprint(i)"
   ]
  },
  {
   "cell_type": "code",
   "execution_count": 7,
   "id": "eb46c3b3-4dee-4481-a364-598746c0017f",
   "metadata": {},
   "outputs": [
    {
     "name": "stdout",
     "output_type": "stream",
     "text": [
      "0\n",
      "1\n",
      "2\n",
      "3\n",
      "4\n"
     ]
    }
   ],
   "source": [
    "for i in range(5):\n",
    "    print(i)"
   ]
  },
  {
   "cell_type": "code",
   "execution_count": 8,
   "id": "9757ed7a-3c29-43a6-8c12-b527bbc19a55",
   "metadata": {},
   "outputs": [
    {
     "name": "stdout",
     "output_type": "stream",
     "text": [
      "0\n",
      "1\n",
      "2\n",
      "3\n",
      "4\n"
     ]
    }
   ],
   "source": [
    "for i in [0, 1, 2, 3, 4]:\n",
    "\tprint(i)"
   ]
  },
  {
   "cell_type": "code",
   "execution_count": 9,
   "id": "7b57242e-907c-4113-993f-67be4df57a6d",
   "metadata": {},
   "outputs": [
    {
     "name": "stdout",
     "output_type": "stream",
     "text": [
      "10\n",
      "11\n",
      "12\n",
      "13\n",
      "14\n",
      "15\n",
      "16\n",
      "17\n",
      "18\n",
      "19\n"
     ]
    }
   ],
   "source": [
    "for i in range(10, 20):\n",
    "\tprint(i)"
   ]
  },
  {
   "cell_type": "code",
   "execution_count": 10,
   "id": "23b9144a-1536-496a-88e2-da1a55d77c30",
   "metadata": {},
   "outputs": [
    {
     "name": "stdout",
     "output_type": "stream",
     "text": [
      "10\n",
      "13\n",
      "16\n",
      "19\n"
     ]
    }
   ],
   "source": [
    "for i in range(10, 20, 3):  # step value is 3\n",
    "\tprint(i)"
   ]
  },
  {
   "cell_type": "code",
   "execution_count": 11,
   "id": "512d496d-54ac-482d-a111-eece9acb9bde",
   "metadata": {},
   "outputs": [
    {
     "name": "stdout",
     "output_type": "stream",
     "text": [
      "50\n",
      "45\n",
      "40\n",
      "35\n",
      "30\n",
      "25\n",
      "20\n",
      "15\n",
      "10\n",
      "5\n"
     ]
    }
   ],
   "source": [
    "for i in range(50, 0, -5):\n",
    "\tprint(i)"
   ]
  },
  {
   "cell_type": "code",
   "execution_count": 12,
   "id": "518d418f-a536-43d5-a235-c9b94cf56e38",
   "metadata": {},
   "outputs": [
    {
     "name": "stdout",
     "output_type": "stream",
     "text": [
      "Number\t | Square\n",
      "--------------------\n",
      "1 \t\t |  1\n",
      "2 \t\t |  4\n",
      "3 \t\t |  9\n",
      "4 \t\t |  16\n",
      "5 \t\t |  25\n",
      "6 \t\t |  36\n",
      "7 \t\t |  49\n",
      "8 \t\t |  64\n",
      "9 \t\t |  81\n",
      "10 \t\t |  100\n",
      "11 \t\t |  121\n",
      "12 \t\t |  144\n",
      "13 \t\t |  169\n",
      "14 \t\t |  196\n",
      "15 \t\t |  225\n",
      "16 \t\t |  256\n",
      "17 \t\t |  289\n",
      "18 \t\t |  324\n",
      "19 \t\t |  361\n",
      "20 \t\t |  400\n"
     ]
    }
   ],
   "source": [
    "print(\"Number\\t | Square\")\n",
    "print(\"--------------------\")\n",
    "\n",
    "for num in range(1, 21):\n",
    "    print(num, \"\\t\\t | \", num*num)"
   ]
  },
  {
   "cell_type": "code",
   "execution_count": 1,
   "id": "44d357be-94b4-413c-b9a6-cf1e3a3a77a6",
   "metadata": {},
   "outputs": [],
   "source": [
    "# break & continue statement in python\n"
   ]
  },
  {
   "cell_type": "code",
   "execution_count": 2,
   "id": "47cdf957-777d-4bd3-b93d-6aa3e7e7a1f6",
   "metadata": {},
   "outputs": [
    {
     "name": "stdout",
     "output_type": "stream",
     "text": [
      "i = 1\n",
      "i = 2\n",
      "i = 3\n",
      "i = 4\n",
      "break out\n"
     ]
    }
   ],
   "source": [
    "for i in range(1, 10):\n",
    "    if i == 5:  # when i is 5 exit the loop\n",
    "        break\n",
    "    print(\"i =\", i)\n",
    "\n",
    "print(\"break out\")"
   ]
  },
  {
   "cell_type": "code",
   "execution_count": 3,
   "id": "c8eca72a-5bb4-4043-a97b-a6401943e3f5",
   "metadata": {},
   "outputs": [
    {
     "name": "stdin",
     "output_type": "stream",
     "text": [
      "Enter a number: \n",
      " 5\n"
     ]
    },
    {
     "name": "stdout",
     "output_type": "stream",
     "text": [
      "5 is prime\n"
     ]
    }
   ],
   "source": [
    "num = int(input(\"Enter a number: \\n\"))\n",
    "\n",
    "is_prime = True\n",
    "\n",
    "for i in range(2, num):\n",
    "    if num % i == 0:\n",
    "        is_prime = False  # number is not prime\n",
    "        break  # exit from for loop\n",
    "\n",
    "if is_prime:\n",
    "    print(num, \"is prime\")\n",
    "else:\n",
    "    print(num, \"is not a prime\")"
   ]
  },
  {
   "cell_type": "code",
   "execution_count": 4,
   "id": "49a6dba2-7da8-4a91-9c1e-ce1c333fcf31",
   "metadata": {},
   "outputs": [
    {
     "name": "stdout",
     "output_type": "stream",
     "text": [
      "Outer loop i =  1\n",
      "\n",
      "\tInner loop chr(j) = A\n",
      "\tInner loop chr(j) = B\n",
      "\tInner loop chr(j) = C\n",
      "\tbreaking out of inner for loop ...\n",
      "\n",
      "-------------------------------------------------\n",
      "Outer loop i =  2\n",
      "\n",
      "\tInner loop chr(j) = A\n",
      "\tInner loop chr(j) = B\n",
      "\tInner loop chr(j) = C\n",
      "\tbreaking out of inner for loop ...\n",
      "\n",
      "-------------------------------------------------\n",
      "Outer loop i =  3\n",
      "\n",
      "\tInner loop chr(j) = A\n",
      "\tInner loop chr(j) = B\n",
      "\tInner loop chr(j) = C\n",
      "\tbreaking out of inner for loop ...\n",
      "\n",
      "-------------------------------------------------\n",
      "Outer loop i =  4\n",
      "\n",
      "\tInner loop chr(j) = A\n",
      "\tInner loop chr(j) = B\n",
      "\tInner loop chr(j) = C\n",
      "\tbreaking out of inner for loop ...\n",
      "\n",
      "-------------------------------------------------\n"
     ]
    }
   ],
   "source": [
    "for i in range(1, 5):    \n",
    "    print(\"Outer loop i = \", i, end=\"\\n\\n\")\n",
    "    for j in range (65, 75):\n",
    "        print(\"\\tInner loop chr(j) =\", chr(j))\n",
    "        if chr(j) == 'C':\n",
    "            print(\"\\tbreaking out of inner for loop ...\\n\")\n",
    "            break\n",
    "    \n",
    "    print('-------------------------------------------------')"
   ]
  },
  {
   "cell_type": "code",
   "execution_count": 5,
   "id": "38e13352-9395-4460-adb9-26b41d1c8391",
   "metadata": {},
   "outputs": [
    {
     "name": "stdout",
     "output_type": "stream",
     "text": [
      "i = 2\n",
      "i = 4\n",
      "i = 6\n",
      "i = 8\n"
     ]
    }
   ],
   "source": [
    "for i in range(1, 10):\n",
    "    if i % 2 != 0:\n",
    "        continue\n",
    "    print(\"i =\", i)"
   ]
  },
  {
   "cell_type": "code",
   "execution_count": 2,
   "id": "3c75e790-751c-42db-be65-84918a8916b7",
   "metadata": {},
   "outputs": [],
   "source": [
    "# loops in python\n"
   ]
  },
  {
   "cell_type": "code",
   "execution_count": 1,
   "id": "bdddecdd-2d0c-42bf-aa66-e90b45cc4256",
   "metadata": {},
   "outputs": [
    {
     "name": "stdout",
     "output_type": "stream",
     "text": [
      "[11, 99, 66, 22]\n"
     ]
    }
   ],
   "source": [
    "numbers = [11, 99, 66, 22]\n",
    "print(numbers)"
   ]
  },
  {
   "cell_type": "code",
   "execution_count": 3,
   "id": "5342aea3-806c-4a71-bdcc-9cf8555769f2",
   "metadata": {},
   "outputs": [
    {
     "name": "stdout",
     "output_type": "stream",
     "text": [
      "['a string', 3.14, 199]\n"
     ]
    }
   ],
   "source": [
    "mixed = [\"a string\", 3.14, 199]  # list where elements are of different types\n",
    "\n",
    "print(mixed)"
   ]
  },
  {
   "cell_type": "code",
   "execution_count": 4,
   "id": "64b54675-4761-4171-918e-629b5b5f9adb",
   "metadata": {},
   "outputs": [
    {
     "name": "stdout",
     "output_type": "stream",
     "text": [
      "[]\n"
     ]
    }
   ],
   "source": [
    "empty_list = []  # an empty list\n",
    "print(empty_list)"
   ]
  },
  {
   "cell_type": "code",
   "execution_count": 5,
   "id": "3082bb87-83aa-486e-ab48-3cb3b0d73adc",
   "metadata": {},
   "outputs": [
    {
     "name": "stdout",
     "output_type": "stream",
     "text": [
      "[]\n",
      "[3.2, 4, 0.12]\n",
      "['@@', '###', '']\n",
      "['1', '2', '3', '4']\n"
     ]
    }
   ],
   "source": [
    "list1 = list()  # an empty list\n",
    "list2 = list([3.2, 4, 0.12])  # again elements in a list can be of different types\n",
    "list3 = list([\"@@\", \"###\", \"\"])   # you can use symbols too\n",
    "list4 = list(\"1234\")  # creating list from string\n",
    "\n",
    "print(list1)\n",
    "print(list2)\n",
    "print(list3)\n",
    "print(list4)"
   ]
  },
  {
   "cell_type": "code",
   "execution_count": 6,
   "id": "d4ebe75c-b371-4737-a3a0-235eb7258d34",
   "metadata": {},
   "outputs": [
    {
     "name": "stdout",
     "output_type": "stream",
     "text": [
      "[[33, 55, 77], [99, 31, 64]]\n"
     ]
    }
   ],
   "source": [
    "list5 = [\n",
    "    [33, 55, 77],  # first element\n",
    "    [99, 31, 64]   # second element\n",
    "]\n",
    "\n",
    "print(list5)"
   ]
  },
  {
   "cell_type": "code",
   "execution_count": 7,
   "id": "248ac8d5-c628-4389-bb12-7b8a84c4ef30",
   "metadata": {},
   "outputs": [
    {
     "name": "stdout",
     "output_type": "stream",
     "text": [
      "[0, 1, 2, 3, 4]\n"
     ]
    }
   ],
   "source": [
    "list1 = list(range(5))\n",
    "\n",
    "print(list1)"
   ]
  },
  {
   "cell_type": "code",
   "execution_count": 8,
   "id": "a3a4a8e4-e0cb-43bb-8cc9-555de0f4d834",
   "metadata": {},
   "outputs": [
    {
     "name": "stdout",
     "output_type": "stream",
     "text": [
      "[1, 2, 3, 4, 5, 6, 7, 8, 9, 10, 11, 12, 13, 14, 15, 16, 17, 18, 19, 20, 21, 22, 23, 24, 25, 26, 27, 28, 29, 30, 31, 32, 33, 34, 35, 36, 37, 38, 39, 40, 41, 42, 43, 44, 45, 46, 47, 48, 49, 50, 51, 52, 53, 54, 55, 56, 57, 58, 59, 60, 61, 62, 63, 64, 65, 66, 67, 68, 69, 70, 71, 72, 73, 74, 75, 76, 77, 78, 79, 80, 81, 82, 83, 84, 85, 86, 87, 88, 89, 90, 91, 92, 93, 94, 95, 96, 97, 98, 99, 100]\n"
     ]
    }
   ],
   "source": [
    "list2 = list(range(1, 101))  ## create a list of numbers from 1 to 100\n",
    "\n",
    "print(list2)"
   ]
  },
  {
   "cell_type": "code",
   "execution_count": 9,
   "id": "b7fde3ed-a709-4f15-9ad1-489dd51ff584",
   "metadata": {},
   "outputs": [
    {
     "name": "stdout",
     "output_type": "stream",
     "text": [
      "[0, 10, 20, 30, 40, 50, 60, 70, 80, 90]\n"
     ]
    }
   ],
   "source": [
    "list3 = list(range(0, 100, 10))  # create a list of numbers from 0 to 100 \n",
    "                                 # with step value of 10\n",
    "\n",
    "print(list3)"
   ]
  },
  {
   "cell_type": "code",
   "execution_count": 10,
   "id": "7e6e5b82-8f7e-4744-9b11-700b58e5ccdc",
   "metadata": {},
   "outputs": [
    {
     "name": "stdout",
     "output_type": "stream",
     "text": [
      "5\n",
      "108\n",
      "82\n",
      "1\n"
     ]
    }
   ],
   "source": [
    "list1 = [1, 9, 4, 12, 82]\n",
    "\n",
    "print(len(list1))  # find the length of the list\n",
    "\n",
    "print(sum(list1))  # find the sum of the list\n",
    "\n",
    "print(max(list1))  # find the greatest element in the list\n",
    "\n",
    "print(min(list1))  # find the smallest element in the list"
   ]
  },
  {
   "cell_type": "code",
   "execution_count": 11,
   "id": "012fc866-cc1a-419b-9f92-f7e4b3a84e98",
   "metadata": {},
   "outputs": [
    {
     "name": "stdout",
     "output_type": "stream",
     "text": [
      "88\n",
      "99\n",
      "9999\n"
     ]
    }
   ],
   "source": [
    "list1 = [88, 99, 4.12, 199, 993, 9999]\n",
    "\n",
    "print(list1[0])  # get the first element\n",
    "\n",
    "print(list1[1])  # get the second element\n",
    "\n",
    "print(list1[5])  # get the sixth element"
   ]
  },
  {
   "cell_type": "code",
   "execution_count": 12,
   "id": "558474e0-5ed0-4baa-a437-67928491906e",
   "metadata": {},
   "outputs": [
    {
     "name": "stdout",
     "output_type": "stream",
     "text": [
      "5\n",
      "9999\n"
     ]
    }
   ],
   "source": [
    "list1 = [88, 99, 4.12, 199, 993, 9999]\n",
    "\n",
    "print(len(list1) - 1)\n",
    "\n",
    "print(list1[len(list1) - 1])  # get the last element"
   ]
  },
  {
   "cell_type": "code",
   "execution_count": 13,
   "id": "a07fa6bc-2dca-4a1d-a0eb-e707699f50fa",
   "metadata": {},
   "outputs": [
    {
     "name": "stdout",
     "output_type": "stream",
     "text": [
      "9999\n",
      "993\n"
     ]
    }
   ],
   "source": [
    "list1 = [88, 99, 4.12, 199, 993, 9999]\n",
    "\n",
    "print(list1[-1])   # get the last element\n",
    "\n",
    "print(list1[-2])   # get the second last element"
   ]
  },
  {
   "cell_type": "code",
   "execution_count": 14,
   "id": "082b8675-d4d2-4fa5-8130-02225335b1b5",
   "metadata": {},
   "outputs": [
    {
     "name": "stdout",
     "output_type": "stream",
     "text": [
      "88\n"
     ]
    }
   ],
   "source": [
    "list1 = [88, 99, 4.12, 199, 993, 9999]\n",
    "\n",
    "print(list1[-len(list1)])  # get the first element"
   ]
  },
  {
   "cell_type": "code",
   "execution_count": 15,
   "id": "aab8cbfc-5f7b-4f82-8f09-723a00a61051",
   "metadata": {},
   "outputs": [
    {
     "name": "stdout",
     "output_type": "stream",
     "text": [
      "2651814396800\n",
      "['string', 'list', 'int', 'float']\n",
      "2651814396800\n"
     ]
    }
   ],
   "source": [
    "list1 = [\"str\", \"list\", \"int\", \"float\"]\n",
    "\n",
    "print(id(list1))   # address where list1 is stored\n",
    "\n",
    "list1[0] = \"string\"  # Update element at index 0\n",
    "\n",
    "print(list1)   # list1 is changed now\n",
    "\n",
    "print(id(list1))  # notice that the id is still same"
   ]
  },
  {
   "cell_type": "code",
   "execution_count": 16,
   "id": "6362fa28-cad9-4b45-aef4-a82337fffbae",
   "metadata": {},
   "outputs": [
    {
     "name": "stdout",
     "output_type": "stream",
     "text": [
      "122\n",
      "45\n",
      "23\n",
      "78\n",
      "65\n",
      "12\n"
     ]
    }
   ],
   "source": [
    "marks = [122, 45, 23, 78, 65, 12]\n",
    "\n",
    "for m in marks:\n",
    "\tprint(m)"
   ]
  },
  {
   "cell_type": "code",
   "execution_count": 17,
   "id": "3c1fb050-5a36-40ad-a889-c0fef300b5e4",
   "metadata": {},
   "outputs": [
    {
     "name": "stdout",
     "output_type": "stream",
     "text": [
      "[20, 42, 68, 39, 44, 37]\n"
     ]
    }
   ],
   "source": [
    "import random\n",
    "\n",
    "marks = [122, 45, 23, 78, 65, 12]\n",
    "\n",
    "for i in range(len(marks)):\n",
    "\tmarks[i] = random.randint(1, 100)  # assign some random value between 1 to 100 to all elements\n",
    "\n",
    "print(marks)"
   ]
  },
  {
   "cell_type": "code",
   "execution_count": 18,
   "id": "8ceaf396-8b46-46cb-acfa-43fc5a3bd33a",
   "metadata": {},
   "outputs": [
    {
     "name": "stdout",
     "output_type": "stream",
     "text": [
      "122\n",
      "45\n",
      "23\n",
      "78\n",
      "65\n",
      "12\n"
     ]
    }
   ],
   "source": [
    "marks = [122, 45, 23, 78, 65, 12]\n",
    "\n",
    "i = 0\n",
    "while i < len(marks):\n",
    "\tprint(marks[i])\n",
    "\ti += 1"
   ]
  },
  {
   "cell_type": "code",
   "execution_count": 19,
   "id": "5841ab5a-267d-409e-b3da-67ace64cc67c",
   "metadata": {},
   "outputs": [
    {
     "name": "stdout",
     "output_type": "stream",
     "text": [
      "[11, 33, 55, 22]\n",
      "[33, 55, 22, 44]\n",
      "[44]\n"
     ]
    }
   ],
   "source": [
    "list1 = [11, 33, 55, 22, 44, 89]\n",
    "\n",
    "print(list1[0:4])\n",
    "\n",
    "print(list1[1:5])\n",
    "\n",
    "print(list1[4:5])"
   ]
  },
  {
   "cell_type": "code",
   "execution_count": 20,
   "id": "22573bee-847f-4d1a-bb5a-adbbb255746c",
   "metadata": {},
   "outputs": [
    {
     "name": "stdout",
     "output_type": "stream",
     "text": [
      "[11, 33]\n",
      "[55, 22, 44, 89]\n",
      "[11, 33, 55, 22, 44, 89]\n"
     ]
    }
   ],
   "source": [
    "list1 = [11, 33, 55, 22, 44, 89]\n",
    "\n",
    "print(list1[:2])       # same as list1[0:2]\n",
    "\n",
    "print(list1[2:])       # same as list1[2:len(list1)]\n",
    "\n",
    "print(list1[:])        # same as list1[0:len(list1)]"
   ]
  },
  {
   "cell_type": "code",
   "execution_count": 21,
   "id": "5da692bc-6504-4462-ac33-0e9490de3424",
   "metadata": {},
   "outputs": [
    {
     "name": "stdout",
     "output_type": "stream",
     "text": [
      "True\n",
      "False\n",
      "True\n",
      "False\n"
     ]
    }
   ],
   "source": [
    "cards  = [\"club\", \"diamond\", \"heart\", \"spades\"]\n",
    "\n",
    "print(\"club\" in cards)\n",
    "\n",
    "print(\"joker\" in cards)\n",
    "\n",
    "print(\"pikes\" not in cards)\n",
    "\n",
    "print(\"heart\" not in cards)"
   ]
  },
  {
   "cell_type": "code",
   "execution_count": 22,
   "id": "13503b82-2ded-4c72-872a-823b5f4bb66a",
   "metadata": {},
   "outputs": [
    {
     "name": "stdout",
     "output_type": "stream",
     "text": [
      "2651814403264\n",
      "2651814402880\n",
      "[1, 2, 3, 11, 22, 33]\n",
      "2651813445504\n",
      "2651814403264\n",
      "2651814402880\n"
     ]
    }
   ],
   "source": [
    "list1 = [1,2,3]  # create list1\n",
    "list2 = [11,22,33]  # create list2\n",
    "\n",
    "print(id(list1))   # address of list1\n",
    "\n",
    "print(id(list2))   # address of list2\n",
    "\n",
    "list3 = list1 + list2   # concatenate list1 and list2 and create list3\n",
    "\n",
    "print(list3)\n",
    "\n",
    "print(id(list3))  # address of the new list list3\n",
    "\n",
    "print(id(list1))   # address of list1 is still same\n",
    "\n",
    "print(id(list2))   # address of list2 is still same"
   ]
  },
  {
   "cell_type": "code",
   "execution_count": 23,
   "id": "7300e4f8-e9d1-452e-9b93-d000c42daa2f",
   "metadata": {},
   "outputs": [
    {
     "name": "stdout",
     "output_type": "stream",
     "text": [
      "2651814396800\n",
      "2651814397376\n",
      "[1, 2, 3, 11, 22, 33]\n",
      "2651814396800\n"
     ]
    }
   ],
   "source": [
    "list1 = [1,2,3]     # create list1\n",
    "list2 = [11,22,33]  # create list2\n",
    "\n",
    "print(id(list1))    # address of list1\n",
    "\n",
    "print(id(list2))    # address of list2\n",
    "\n",
    "list1 += list2      # append list2 to list1\n",
    "\n",
    "print(list1)\n",
    "\n",
    "print(id(list1))    # address is still same"
   ]
  },
  {
   "cell_type": "code",
   "execution_count": 24,
   "id": "a63735aa-750f-4bc1-af58-eef00a5c8da0",
   "metadata": {},
   "outputs": [
    {
     "name": "stdout",
     "output_type": "stream",
     "text": [
      "[1, 5, 1, 5, 1, 5, 1, 5]\n"
     ]
    }
   ],
   "source": [
    "list1 = [1, 5]\n",
    "\n",
    "list2 = list1 * 4  # replicate list1 4 times and assign the result to list2\n",
    "\n",
    "print(list2)"
   ]
  },
  {
   "cell_type": "code",
   "execution_count": 25,
   "id": "ed2cd968-9640-4cb8-ad9b-049eb94aa14e",
   "metadata": {},
   "outputs": [
    {
     "name": "stdout",
     "output_type": "stream",
     "text": [
      "2651814270400\n",
      "['eat', 'sleep', 'repeat', 'eat', 'sleep', 'repeat', 'eat', 'sleep', 'repeat', 'eat', 'sleep', 'repeat', 'eat', 'sleep', 'repeat']\n",
      "2651814270400\n"
     ]
    }
   ],
   "source": [
    "action = [\"eat\", \"sleep\", \"repeat\"]\n",
    "\n",
    "print(id(action))   # address of action list\n",
    "\n",
    "action *= 5\n",
    "\n",
    "print(action)\n",
    "\n",
    "print(id(action))   # address is still the same"
   ]
  },
  {
   "cell_type": "code",
   "execution_count": 26,
   "id": "135034e3-1b7b-4792-8958-c0c386dacf16",
   "metadata": {},
   "outputs": [
    {
     "name": "stdout",
     "output_type": "stream",
     "text": [
      "False\n"
     ]
    }
   ],
   "source": [
    "n1 = [1,2,3]\n",
    "n2 = [1,2,10]\n",
    "\n",
    "print(n1 > n2)"
   ]
  },
  {
   "cell_type": "code",
   "execution_count": 27,
   "id": "2e6a50b3-366b-4a2a-8884-16790f01697c",
   "metadata": {},
   "outputs": [
    {
     "name": "stdout",
     "output_type": "stream",
     "text": [
      "True\n"
     ]
    }
   ],
   "source": [
    "word_list1 = [\"pow\", \"exp\"]\n",
    "word_list2 = [\"power\", \"exponent\"]\n",
    "\n",
    "print(word_list1 < word_list2)"
   ]
  },
  {
   "cell_type": "code",
   "execution_count": 28,
   "id": "096a12cf-d80c-4ce1-8587-3311d1b2ad76",
   "metadata": {},
   "outputs": [
    {
     "name": "stdout",
     "output_type": "stream",
     "text": [
      "[125000, 132651, 140608, 148877, 157464, 166375, 175616, 185193, 195112, 205379, 216000, 226981, 238328, 250047, 262144, 274625, 287496, 300763, 314432, 328509, 343000, 357911, 373248, 389017, 405224, 421875, 438976, 456533, 474552, 493039, 512000, 531441, 551368, 571787, 592704, 614125, 636056, 658503, 681472, 704969, 729000, 753571, 778688, 804357, 830584, 857375, 884736, 912673, 941192, 970299, 1000000]\n"
     ]
    }
   ],
   "source": [
    "cube_list = [ i**3 for i in range(50, 101) ]\n",
    "\n",
    "print(cube_list)"
   ]
  },
  {
   "cell_type": "code",
   "execution_count": 29,
   "id": "32c0855f-c01c-4ccf-8421-7f69b9973bd9",
   "metadata": {},
   "outputs": [
    {
     "name": "stdout",
     "output_type": "stream",
     "text": [
      "[2, 4, 6, 8]\n"
     ]
    }
   ],
   "source": [
    "even_list = [ i for i in range(1, 10) if i % 2 == 0 ]\n",
    "\n",
    "print(even_list)"
   ]
  },
  {
   "cell_type": "code",
   "execution_count": 30,
   "id": "87c87e06-1b63-46c9-97e7-bae7be2f2ea0",
   "metadata": {},
   "outputs": [],
   "source": [
    "# Method       \t      Description\n",
    "# appends(item)\t      adds an item to the end of the list.\n",
    "# insert(index,item)\tinserts an item at the specified index. If index specified is greater than the last valid index, item is added to the end of the list.\n",
    "# index(item)\t    returns the index of the first occurrence of specified item. If the specified item doesn't exists in the list, an exception is raised.\n",
    "# remove(item)\t    removes the first occurrence of the specified item from the list. If the specified item doesn't exists in the list, an exception is raised.\n",
    "# count(item)\t    returns the number of times an item appears in the list.\n",
    "# clear()\t        removes all the element from the list.\n",
    "# sort()\t        sorts the list in ascending order.\n",
    "# reverse()      \treverse the order of elements in the list.\n",
    "# extend(sequence)\tappends the elements of the sequence to the end of the list.\n",
    "# pop([index])    \tremoves the element at the specified index and returns that element. If index is not specified, it removes and returns last element from the list. When index is not valid, an exception is raised."
   ]
  },
  {
   "cell_type": "code",
   "execution_count": 31,
   "id": "e65bd156-4d10-483c-b4d9-f2e4be3c395f",
   "metadata": {},
   "outputs": [
    {
     "name": "stdout",
     "output_type": "stream",
     "text": [
      "2651814413504\n",
      "[1, 2, 3, 4, 5, 6, 10]\n",
      "2651814413504\n"
     ]
    }
   ],
   "source": [
    "list1 = [1,2,3,4,5,6]\n",
    "\n",
    "print(id(list1))\n",
    "\n",
    "list1.append(10)   # append 10 to list1\n",
    "\n",
    "print(list1)\n",
    "\n",
    "print(id(list1))   # address remains unchanged"
   ]
  },
  {
   "cell_type": "code",
   "execution_count": 32,
   "id": "5ed6d084-8a72-42b8-81dc-5ecf0a0a3620",
   "metadata": {},
   "outputs": [
    {
     "name": "stdout",
     "output_type": "stream",
     "text": [
      "2651817404608\n",
      "[1, 2, 1000, 3, 4, 5, 6]\n",
      "[1, 2, 1000, 3, 4, 5, 4000, 6]\n",
      "[1, 2, 1000, 3, 4, 5, 4000, 6, 8000]\n",
      "8000\n"
     ]
    }
   ],
   "source": [
    "list1 = [1,2,3,4,5,6]\n",
    "\n",
    "print(id(list1))\n",
    "\n",
    "list1.insert(2, 1000)   # insert item 1000 at index 2\n",
    "\n",
    "print(list1)            # now the last valid index is 6\n",
    "\n",
    "list1.insert(6, 4000)   # insert the item 4000 at index 6\n",
    "\n",
    "print(list1) \t \t# now the last valid index is 7\n",
    "\n",
    "list1.insert(8, 8000)   # insert the item 8000 at index 8, which is beyond the last valid index\n",
    "\n",
    "print(list1)\n",
    "\n",
    "print(list1[8])"
   ]
  },
  {
   "cell_type": "code",
   "execution_count": 33,
   "id": "e681104c-f9d7-486e-bdfd-aa7a3c8d7bff",
   "metadata": {},
   "outputs": [
    {
     "name": "stdout",
     "output_type": "stream",
     "text": [
      "2\n",
      "0\n",
      "2\n"
     ]
    }
   ],
   "source": [
    "list1 = [1, 2, 3, 4, 5, 6, 1, 2, 3]\n",
    "\n",
    "print(list1.count(2))    # count the appearance of element 2 in the list\n",
    "\n",
    "print(list1.count(100))  # count the appearance of element 100 in the list\n",
    "\n",
    "print(list1.count(1))  # count the appearance of element 1 in the list"
   ]
  },
  {
   "cell_type": "code",
   "execution_count": 34,
   "id": "024ea076-d3d1-4e96-a6b0-67b1aba98525",
   "metadata": {},
   "outputs": [
    {
     "name": "stdout",
     "output_type": "stream",
     "text": [
      "2651813697792\n",
      "[]\n",
      "2651813697792\n"
     ]
    }
   ],
   "source": [
    "list1 = [1, 2, 3, 4, 5, 6, 1, 2, 3]\n",
    "\n",
    "print(id(list1))\n",
    "\n",
    "list1.clear()   # clear all the elements in the list list1\n",
    "\n",
    "print(list1)\n",
    "\n",
    "print(id(list1))"
   ]
  },
  {
   "cell_type": "code",
   "execution_count": 35,
   "id": "c4dc9107-2105-4999-bacb-1f3cb183da37",
   "metadata": {},
   "outputs": [
    {
     "name": "stdout",
     "output_type": "stream",
     "text": [
      "[-2, 3, 4, 12, 50, 100]\n",
      "['float', 'int', 'list', 'str']\n"
     ]
    }
   ],
   "source": [
    "list1 = [12, -2, 3, 4, 100, 50]\n",
    "\n",
    "list1.sort()   # sort the list in ascending order\n",
    "\n",
    "print(list1)\n",
    "\n",
    "types = [\"str\", \"float\", \"int\", \"list\"]  \n",
    "\n",
    "types.sort()  # sort the list, strings are sorted based on the ASCII values\n",
    "\n",
    "print(types)"
   ]
  },
  {
   "cell_type": "code",
   "execution_count": 36,
   "id": "2e6aa9ec-e767-4578-b467-9a3b6fad0d92",
   "metadata": {},
   "outputs": [
    {
     "name": "stdout",
     "output_type": "stream",
     "text": [
      "[-2, 3, 4, 12, 50, 100]\n",
      "[100, 50, 12, 4, 3, -2]\n"
     ]
    }
   ],
   "source": [
    "list1 = [12, -2, 3, 4, 100, 50]\n",
    "\n",
    "list1.sort()  # sort the list in ascending order\n",
    "\n",
    "print(list1)\n",
    "\n",
    "list1.reverse()  # sort the list in descending order\n",
    "\n",
    "print(list1)"
   ]
  },
  {
   "cell_type": "code",
   "execution_count": 38,
   "id": "2556e170-309a-47c7-aa96-513a88c76468",
   "metadata": {},
   "outputs": [
    {
     "name": "stdout",
     "output_type": "stream",
     "text": [
      "2651817372160\n",
      "[1, 2, 3, 100, 200, 300]\n",
      "2651817372160\n",
      "[1, 2, 3, 100, 200, 300, 's', 't', 'r']\n",
      "2651817372160\n"
     ]
    }
   ],
   "source": [
    "list1 = [1, 2, 3]\n",
    "\n",
    "print(id(list1))\n",
    "\n",
    "list1.extend([100, 200, 300])   # append elements of list [100, 200, 300] to list1\n",
    "\n",
    "print(list1)\n",
    "\n",
    "print(id(list1))\n",
    "\n",
    "list1.extend(\"str\")  # We can pass strings too\n",
    "\n",
    "print(list1)\n",
    "\n",
    "print(id(list1))"
   ]
  },
  {
   "cell_type": "code",
   "execution_count": 40,
   "id": "deb35705-fbbe-4748-b45b-a692031144aa",
   "metadata": {},
   "outputs": [],
   "source": [
    "# Functions in python\n"
   ]
  },
  {
   "cell_type": "code",
   "execution_count": 41,
   "id": "e38ea332-0628-4811-ac47-f661c541817c",
   "metadata": {},
   "outputs": [
    {
     "name": "stdout",
     "output_type": "stream",
     "text": [
      "Sum is 420\n"
     ]
    }
   ],
   "source": [
    "sum = 0\n",
    "start = 10\n",
    "end = 30\n",
    "for i in range(start, end+1):\n",
    "    sum += i    \n",
    "\n",
    "print(\"Sum is\", sum)"
   ]
  },
  {
   "cell_type": "code",
   "execution_count": 42,
   "id": "19d4cf7c-9c96-4058-aa50-4d367c551c77",
   "metadata": {},
   "outputs": [],
   "source": [
    "import datetime\n",
    "\n",
    "def greet():\n",
    "    print(\"Hello !\")\n",
    "    print(\"Today is\", datetime.datetime.now())"
   ]
  },
  {
   "cell_type": "code",
   "execution_count": 43,
   "id": "cc0dc566-c1a0-42e1-a8cc-42a7460ec7ad",
   "metadata": {},
   "outputs": [
    {
     "name": "stdout",
     "output_type": "stream",
     "text": [
      "Hello !\n",
      "Today is 2024-06-09 23:12:10.848050\n"
     ]
    }
   ],
   "source": [
    "import datetime\n",
    "\n",
    "def greet():\n",
    "    print(\"Hello !\")\n",
    "    print(\"Today is\", datetime.datetime.now())\n",
    "\n",
    "greet()"
   ]
  },
  {
   "cell_type": "code",
   "execution_count": 44,
   "id": "a725ee54-7286-4c81-bf71-e901c520524f",
   "metadata": {},
   "outputs": [
    {
     "name": "stdout",
     "output_type": "stream",
     "text": [
      "Hello !\n",
      "Today is 2024-06-09 23:12:23.895709\n"
     ]
    }
   ],
   "source": [
    "import datetime\n",
    "\n",
    "greet() ## ERROR: trying to call greet() before its defined\n",
    "\n",
    "def greet():\n",
    "    print(\"Hello !\")\n",
    "    print(\"Today is\", datetime.datetime.now())"
   ]
  },
  {
   "cell_type": "code",
   "execution_count": 45,
   "id": "5572838f-9f2f-40ea-af7a-5c452e4d4303",
   "metadata": {},
   "outputs": [
    {
     "name": "stdout",
     "output_type": "stream",
     "text": [
      "Before calling greet()\n",
      "Hello !\n",
      "Today is 2024-06-09 23:12:57.202155\n",
      "After calling greet()\n"
     ]
    }
   ],
   "source": [
    "import datetime\n",
    "\n",
    "def greet():\n",
    "    print(\"Hello !\")\n",
    "    print(\"Today is\", datetime.datetime.now())\n",
    "\n",
    "print(\"Before calling greet()\")\n",
    "greet()\n",
    "print(\"After calling greet()\")"
   ]
  },
  {
   "cell_type": "code",
   "execution_count": 46,
   "id": "1d42dd37-efbf-48c8-b5d2-1cb92bcf5c87",
   "metadata": {},
   "outputs": [
    {
     "name": "stdout",
     "output_type": "stream",
     "text": [
      "main() function called\n",
      "Hello Jon !\n",
      "Today is 2024-06-09 23:13:30.020910\n",
      "main() function finished\n"
     ]
    }
   ],
   "source": [
    "import datetime\n",
    "\n",
    "def greet(name):\n",
    "    print(\"Hello\", name, \"!\")\n",
    "    print(\"Today is\", datetime.datetime.now())\n",
    "\n",
    "\n",
    "def main():\n",
    "    print(\"main() function called\")\n",
    "    greet(\"Jon\")\n",
    "    print(\"main() function finished\")\n",
    "\n",
    "main()"
   ]
  },
  {
   "cell_type": "code",
   "execution_count": 47,
   "id": "6948c55e-855a-405a-8057-f97c00078ed4",
   "metadata": {},
   "outputs": [
    {
     "name": "stdout",
     "output_type": "stream",
     "text": [
      "Inside func() - local_var = 100\n",
      "Inside func() - global_var = 200\n"
     ]
    }
   ],
   "source": [
    "global_var = 200  # a global variable\n",
    "\n",
    "def func():\n",
    "\n",
    "    # local_var is a local variable\n",
    "    # and is only available inside func() \n",
    "    local_var = 100\n",
    "\n",
    "    print(\"Inside func() - local_var =\", local_var)\n",
    "\n",
    "    # accessing a global variable inside a function\n",
    "    print(\"Inside func() - global_var =\", global_var)\n",
    "\n",
    "\n",
    "func()"
   ]
  },
  {
   "cell_type": "code",
   "execution_count": 48,
   "id": "37b88af5-0877-488f-843d-373c04ae55ca",
   "metadata": {},
   "outputs": [
    {
     "name": "stdout",
     "output_type": "stream",
     "text": [
      "local\n",
      "global\n"
     ]
    }
   ],
   "source": [
    "num = \"global\"  # global num variable\n",
    "\n",
    "def func():\n",
    "    num = \"local\"   # local num variable is entirely different from global num variable\n",
    "    print(num)\n",
    "\n",
    "func()\n",
    "print(num)"
   ]
  },
  {
   "cell_type": "code",
   "execution_count": 49,
   "id": "27057723-ffe5-4125-bdaf-bcd4b1e6a78c",
   "metadata": {},
   "outputs": [
    {
     "name": "stdout",
     "output_type": "stream",
     "text": [
      "func_1(): x = 100\n",
      "func_1(): x = 200\n",
      "func_2(): x = str\n",
      "func_2(): x = complex\n"
     ]
    }
   ],
   "source": [
    "def func_1():\n",
    "    x = 100  # this x is only visible inside func_1()\n",
    "    print(\"func_1(): x =\", x)\n",
    "    x = 200\n",
    "    print(\"func_1(): x =\", x)\n",
    "\t\n",
    "\n",
    "def func_2():\n",
    "    x = \"str\" # this x is only visible inside func_2() and it entirely different from func1()'s variable x\n",
    "    print(\"func_2(): x =\", x)\n",
    "    x = \"complex\"\n",
    "    print(\"func_2(): x =\", x)\n",
    "\n",
    "# x is not visible in here\n",
    "\n",
    "func_1()\n",
    "func_2()"
   ]
  },
  {
   "cell_type": "code",
   "execution_count": 50,
   "id": "bfd8f863-fe80-48ed-8b07-6d973ec6fe77",
   "metadata": {},
   "outputs": [
    {
     "name": "stdout",
     "output_type": "stream",
     "text": [
      "Result = 200\n"
     ]
    }
   ],
   "source": [
    "def add_100(num):  # num is a parameter\n",
    "    print(\"Result =\", num+100)\n",
    "\n",
    "\n",
    "x = 100\n",
    "add_100(x)"
   ]
  },
  {
   "cell_type": "code",
   "execution_count": 51,
   "id": "ae06ed69-a42c-4db9-b0be-a851c5c446a1",
   "metadata": {},
   "outputs": [
    {
     "name": "stdin",
     "output_type": "stream",
     "text": [
      "Enter a number:  8\n"
     ]
    }
   ],
   "source": [
    "def factorial(n):\n",
    "    f = 1\n",
    "    for i in range(n, 0, -1):\n",
    "        f *= n\n",
    "        n -= 1\n",
    "\n",
    "    print(f)\n",
    "\n",
    "num = input(\"Enter a number: \")"
   ]
  },
  {
   "cell_type": "code",
   "execution_count": 52,
   "id": "ac622e92-1440-46cb-bad0-f84cfe5a06f1",
   "metadata": {},
   "outputs": [
    {
     "name": "stdout",
     "output_type": "stream",
     "text": [
      "Sum = 30\n",
      "Difference = -10\n",
      "Multiplication = 200\n",
      "Division = 0.5\n",
      "\n"
     ]
    }
   ],
   "source": [
    "def calc(num1, num2):\n",
    "    print(\"Sum =\", num1 + num2)\n",
    "    print(\"Difference =\", num1 - num2)\n",
    "    print(\"Multiplication =\", num1 * num2)\n",
    "    print(\"Division =\", num1 / num2)\n",
    "    print()  # prints a blank line\n",
    "\n",
    "calc(10, 20)"
   ]
  },
  {
   "cell_type": "code",
   "execution_count": 53,
   "id": "78d3d607-1b67-4c82-a26f-be34c9ad3426",
   "metadata": {},
   "outputs": [
    {
     "name": "stdout",
     "output_type": "stream",
     "text": [
      "Address of arg1: 140716896604040\n",
      "Address of para1: 140716896604040\n",
      "100\n"
     ]
    }
   ],
   "source": [
    "def func(para1):\n",
    "    print(\"Address of para1:\", id(para1))\n",
    "    print(para1)\n",
    "\n",
    "arg1 = 100\n",
    "print(\"Address of arg1:\", id(arg1))\n",
    "func(arg1)"
   ]
  },
  {
   "cell_type": "code",
   "execution_count": 54,
   "id": "167e43cd-1aa0-4f4f-b758-4d297ea4dc3b",
   "metadata": {},
   "outputs": [
    {
     "name": "stdout",
     "output_type": "stream",
     "text": [
      "Before function call, arg1 = 100\n",
      "Inside function call, para1 = 200\n",
      "After function call, arg1 = 100\n"
     ]
    }
   ],
   "source": [
    "def func(para1):\n",
    "    para1 += 100  # increment para1 by 100\n",
    "    print(\"Inside function call, para1 =\", para1)\n",
    "\n",
    "arg1 = 100\n",
    "print(\"Before function call, arg1 =\", arg1)\n",
    "func(arg1)\n",
    "print(\"After function call, arg1 =\", arg1)"
   ]
  },
  {
   "cell_type": "code",
   "execution_count": 55,
   "id": "08b5e921-e5c9-4743-b461-e2756855645f",
   "metadata": {},
   "outputs": [
    {
     "name": "stdout",
     "output_type": "stream",
     "text": [
      "Before function call, arg1 = [1, 2, 3]\n",
      "Inside function call, para1 = [1, 2, 3, 4]\n",
      "After function call, arg1 = [1, 2, 3, 4]\n"
     ]
    }
   ],
   "source": [
    "def func(para1):\n",
    "    para1.append(4)\n",
    "    print(\"Inside function call, para1 =\", para1)\n",
    "\n",
    "arg1 = [1,2,3]\n",
    "print(\"Before function call, arg1 =\", arg1)\n",
    "func(arg1)\n",
    "print(\"After function call, arg1 =\", arg1)"
   ]
  },
  {
   "cell_type": "code",
   "execution_count": 56,
   "id": "9e07cfa7-b3ec-4647-9feb-1ad3fe574e15",
   "metadata": {},
   "outputs": [
    {
     "name": "stdout",
     "output_type": "stream",
     "text": [
      "Numbers passed are Pythagorean Triplets\n",
      "Numbers passed are not Pythagorean Triplets\n"
     ]
    }
   ],
   "source": [
    "def is_pythagorean_triplet(base, height, perpendicular):\n",
    "    if base ** 2 + height ** 2 ==  perpendicular ** 2:\n",
    "        print(\"Numbers passed are Pythagorean Triplets\")\n",
    "    else:\n",
    "        print(\"Numbers passed are not Pythagorean Triplets\")\n",
    "\n",
    "\n",
    "is_pythagorean_triplet(3, 4, 5)\n",
    "is_pythagorean_triplet(3, 5, 3)  # Wrong order of arguments"
   ]
  },
  {
   "cell_type": "code",
   "execution_count": 57,
   "id": "4f6d7e16-ae72-4ef4-8332-e477a731d3ed",
   "metadata": {},
   "outputs": [
    {
     "name": "stdout",
     "output_type": "stream",
     "text": [
      "Numbers passed are Pythagorean Triplets\n",
      "Numbers passed are Pythagorean Triplets\n",
      "Numbers passed are Pythagorean Triplets\n"
     ]
    }
   ],
   "source": [
    "def is_pythagorean_triplet(base, height, perpendicular):\n",
    "    if base ** 2 + height ** 2 ==  perpendicular ** 2:\n",
    "        print(\"Numbers passed are Pythagorean Triplets\")\n",
    "    else:\n",
    "        print(\"Numbers passed are not Pythagorean Triplets\")\n",
    "\n",
    "\n",
    "is_pythagorean_triplet(base=3, height=4, perpendicular=5)\n",
    "is_pythagorean_triplet(base=3, perpendicular=5, height=4)\n",
    "is_pythagorean_triplet(perpendicular=5, height=4, base=3)"
   ]
  },
  {
   "cell_type": "code",
   "execution_count": 58,
   "id": "6211a1cb-5564-4f0d-87e1-f81727187c3b",
   "metadata": {},
   "outputs": [
    {
     "name": "stdout",
     "output_type": "stream",
     "text": [
      "Numbers passed are Pythagorean Triplets\n",
      "Numbers passed are Pythagorean Triplets\n"
     ]
    }
   ],
   "source": [
    "def is_pythagorean_triplet(base, height, perpendicular):\n",
    "    if base ** 2 + height ** 2 ==  perpendicular ** 2:\n",
    "        print(\"Numbers passed are Pythagorean Triplets\")\n",
    "    else:\n",
    "        print(\"Numbers passed are not Pythagorean Triplets\")\n",
    "\n",
    "\n",
    "is_pythagorean_triplet(3, 4, perpendicular=5)\n",
    "is_pythagorean_triplet(3, perpendicular=5, height=4)\n",
    "# is_pythagorean_triplet(3, height=4, 5)  # Not valid"
   ]
  },
  {
   "cell_type": "code",
   "execution_count": 59,
   "id": "18bd1ae4-16d9-4068-8e52-d4d8025e2901",
   "metadata": {},
   "outputs": [
    {
     "name": "stdout",
     "output_type": "stream",
     "text": [
      "Numbers passed are Pythagorean Triplets\n",
      "Numbers passed are Pythagorean Triplets\n"
     ]
    }
   ],
   "source": [
    "def is_pythagorean_triplet(base, height, perpendicular):\n",
    "    if base ** 2 + height ** 2 ==  perpendicular ** 2:\n",
    "        print(\"Numbers passed are Pythagorean Triplets\")\n",
    "    else:\n",
    "        print(\"Numbers passed are not Pythagorean Triplets\")\n",
    "\t\t\n",
    "\n",
    "is_pythagorean_triplet(3, 4, perpendicular=5)\n",
    "is_pythagorean_triplet(3, perpendicular=5, height=4)\n",
    "# is_pythagorean_triplet(3, height=4, 5)  # Not valid"
   ]
  },
  {
   "cell_type": "code",
   "execution_count": 60,
   "id": "22ab5357-af17-492b-bba0-1448658cfdfd",
   "metadata": {},
   "outputs": [
    {
     "name": "stdout",
     "output_type": "stream",
     "text": [
      "22\n"
     ]
    }
   ],
   "source": [
    "def add(num1, num2):\n",
    "    return num1 + num2\n",
    "\n",
    "result = add(12, 10)\n",
    "print(result)"
   ]
  },
  {
   "cell_type": "code",
   "execution_count": 61,
   "id": "45e08066-583d-4dbd-800f-ea7acd0cfeb6",
   "metadata": {},
   "outputs": [
    {
     "name": "stdout",
     "output_type": "stream",
     "text": [
      "Factorial of 4 is 24\n",
      "Factorial of 4 is 720\n"
     ]
    }
   ],
   "source": [
    "def factorial(n):\n",
    "    f = 1\n",
    "    for i in range(n, 0, -1):\n",
    "        f *= n\n",
    "        n -= 1\n",
    "\n",
    "    return f\n",
    "\n",
    "print(\"Factorial of 4 is\", factorial(4))\n",
    "print(\"Factorial of 4 is\", factorial(6))"
   ]
  },
  {
   "cell_type": "code",
   "execution_count": 62,
   "id": "6c6efb5b-b165-4a06-ac38-3cf74e9e0e21",
   "metadata": {},
   "outputs": [
    {
     "name": "stdin",
     "output_type": "stream",
     "text": [
      "Enter a number: \n",
      " 8\n"
     ]
    },
    {
     "name": "stdout",
     "output_type": "stream",
     "text": [
      "8 is even\n"
     ]
    }
   ],
   "source": [
    "def is_even(number):\n",
    "    if number % 2 == 0:\n",
    "        return True\n",
    "    else:\n",
    "        return False\n",
    "\n",
    "num = int(input(\"Enter a number: \\n\"))\n",
    "\n",
    "if is_even(num):\n",
    "    print(num, \"is even\")\n",
    "else:\n",
    "    print(num, \"is odd\")"
   ]
  },
  {
   "cell_type": "code",
   "execution_count": 63,
   "id": "dde587cd-1cec-40c6-95da-5fc418c11af6",
   "metadata": {},
   "outputs": [
    {
     "name": "stdout",
     "output_type": "stream",
     "text": [
      "None\n"
     ]
    }
   ],
   "source": [
    "def foo():\n",
    "    return\n",
    "\n",
    "result = foo()\n",
    "print(result)"
   ]
  },
  {
   "cell_type": "code",
   "execution_count": 65,
   "id": "9cffeeec-3bc3-4c21-b8ef-84d998d4b8dc",
   "metadata": {},
   "outputs": [
    {
     "name": "stdin",
     "output_type": "stream",
     "text": [
      "Enter your marks: \n",
      " 98\n"
     ]
    },
    {
     "name": "stdout",
     "output_type": "stream",
     "text": [
      "Your grade is A\n"
     ]
    }
   ],
   "source": [
    "def calculate_grade(marks):\n",
    "    if marks >= 90:\n",
    "        return 'A'\n",
    "    elif marks >= 80:\n",
    "        return 'B'\n",
    "    elif marks >= 70:\n",
    "        return 'C'\n",
    "    elif marks >= 60:\n",
    "        return 'D'\n",
    "    else:\n",
    "        return 'F'\n",
    "\n",
    "\n",
    "m = int(input(\"Enter your marks: \\n\"))\n",
    "print(\"Your grade is\", calculate_grade(m))"
   ]
  },
  {
   "cell_type": "code",
   "execution_count": 66,
   "id": "030e7ed4-1a03-417d-8ed6-f7bcad7bd6f9",
   "metadata": {},
   "outputs": [
    {
     "name": "stdout",
     "output_type": "stream",
     "text": [
      "Sum is 300\n",
      "None\n"
     ]
    }
   ],
   "source": [
    "def add(num1, num2):\n",
    "    print(\"Sum is\", num1 + num2)\n",
    "\n",
    "return_val = add(100, 200)\n",
    "print(return_val)"
   ]
  },
  {
   "cell_type": "code",
   "execution_count": 68,
   "id": "2b68368a-705f-4ea6-a70b-31f90d02e91d",
   "metadata": {},
   "outputs": [
    {
     "name": "stdout",
     "output_type": "stream",
     "text": [
      "number1 is 15\n",
      "number2 is 100\n"
     ]
    }
   ],
   "source": [
    "def sort_two_num(num1, num2):\n",
    "    if num1 < num2:\n",
    "        return num1, num2\n",
    "    else:\n",
    "        return num2, num1\n",
    "\n",
    "\n",
    "number1, number2 = sort_two_num(100, 15)\n",
    "print(\"number1 is\", number1)\n",
    "print(\"number2 is\", number2)"
   ]
  },
  {
   "cell_type": "code",
   "execution_count": 2,
   "id": "fc6f3240-a39e-46db-a801-5ce1903117c4",
   "metadata": {},
   "outputs": [
    {
     "name": "stdout",
     "output_type": "stream",
     "text": [
      "length= 2 , width =  3\n",
      "Area of rectangle is 6\n",
      "\n",
      "length= 4 , width =  6\n",
      "Area of rectangle is 24\n",
      "\n",
      "length= 23 , width =  100\n",
      "Area of rectangle is 2300\n",
      "\n",
      "length= 12 , width =  3\n",
      "Area of rectangle is 36\n",
      "\n"
     ]
    }
   ],
   "source": [
    "def calc_area(length=2, width=3):\n",
    "    print(\"length=\", length,  \", width = \", width)\n",
    "    print(\"Area of rectangle is\", width * length)\n",
    "    print()\n",
    "\n",
    "\n",
    "calc_area()\n",
    "calc_area(4, 6)\n",
    "calc_area(width=100, length=23)\n",
    "calc_area(length=12)"
   ]
  },
  {
   "cell_type": "code",
   "execution_count": 3,
   "id": "213b7a23-39e9-4362-9b2f-74aa160b1398",
   "metadata": {},
   "outputs": [],
   "source": [
    "# Objects and classes in python"
   ]
  },
  {
   "cell_type": "code",
   "execution_count": 4,
   "id": "090316d7-0447-4f5e-875e-341335b0f44c",
   "metadata": {},
   "outputs": [],
   "source": [
    "import math\n",
    "\n",
    "class Circle:\n",
    "\n",
    "    def __init__(self, radius):\n",
    "        self.radius = radius\n",
    "\t\t\n",
    "    def get_area(self):\n",
    "        return math.pi * self.radius ** 2  \n",
    "\n",
    "    def get_perimeter(self):\n",
    "        return 2 * math.pi * self.radiu"
   ]
  },
  {
   "cell_type": "code",
   "execution_count": 6,
   "id": "6e55715e-9a63-42d3-b8eb-0157f370399a",
   "metadata": {},
   "outputs": [
    {
     "name": "stdout",
     "output_type": "stream",
     "text": [
      "Circle of radius is 5\n",
      "Area of circle: 78.54\n",
      "Area of perimeter of circle: 31.42\n",
      "\n"
     ]
    }
   ],
   "source": [
    "import math\n",
    "\n",
    "class Circle:\n",
    "\n",
    "    def __init__(self, radius):\n",
    "        self.radius = radius\n",
    "\n",
    "    def get_area(self):\n",
    "        return math.pi * self.radius ** 2  \n",
    "\n",
    "    def get_perimeter(self):\n",
    "        return 2 * math.pi * self.radius\n",
    "\t\n",
    "\n",
    "my_circle = Circle(5)\n",
    "\n",
    "print(\"Circle of radius is\",my_circle.radius)\n",
    "print(\"Area of circle:\", format(my_circle.get_area(), \".2f\"))\n",
    "print(\"Area of perimeter of circle:\", format(my_circle.get_perimeter(), \".2f\"), end=\"\\n\\n\")"
   ]
  },
  {
   "cell_type": "code",
   "execution_count": 8,
   "id": "0d618a42-b9b2-4e02-8d9e-0b7969e15f06",
   "metadata": {},
   "outputs": [
    {
     "name": "stdout",
     "output_type": "stream",
     "text": [
      "Address of Circle objects\n",
      "my_circle1: 1299443005840\n",
      "my_circle2: 1299449293712\n",
      "my_circle3: 1299457294160\n",
      "\n",
      "Address of radius attribute\n",
      "my_circle1: 140715215078312\n",
      "my_circle2: 140715215078472\n",
      "my_circle3: 140715215078632\n",
      "\n",
      "Initial value of radius attribute: \n",
      "my_circle1's radius: 5\n",
      "my_circle2's radius: 10\n",
      "my_circle3's radius: 15\n",
      "\n",
      "After changing radius attribute of circle objects\n",
      "\n",
      "Final value of radius attribute: \n",
      "my_circle1's radius: 50\n",
      "my_circle2's radius: 100\n",
      "my_circle3's radius: 150\n"
     ]
    }
   ],
   "source": [
    "import math\n",
    "\n",
    "class Circle:\n",
    "\n",
    "    def __init__(self, radius):\n",
    "        self.radius = radius\n",
    "\n",
    "    def get_area(self):\n",
    "        return math.pi * self.radius ** 2  \n",
    "\n",
    "    def get_perimeter(self):\n",
    "        return 2 * math.pi * self.radius\n",
    "\n",
    "\n",
    "my_circle1 = Circle(5)\n",
    "my_circle2 = Circle(10)\n",
    "my_circle3 = Circle(15)\n",
    "\n",
    "print(\"Address of Circle objects\")\n",
    "print(\"my_circle1:\", id(my_circle1))  # print the address of Circle object referenced by variable my_circle1\n",
    "print(\"my_circle2:\", id(my_circle2))  # print the address of Circle object referenced by variable my_circle2\n",
    "print(\"my_circle3:\", id(my_circle3))  # print the address of Circle object referenced by variable my_circle3\n",
    "print()\n",
    "\n",
    "print(\"Address of radius attribute\")\n",
    "print(\"my_circle1:\", id(my_circle1.radius)) # print the address of my_circle1's radius attribute\n",
    "print(\"my_circle2:\", id(my_circle2.radius)) # print the address of my_circle2's radius attribute\n",
    "print(\"my_circle3:\", id(my_circle3.radius), end=\"\\n\\n\")  # print the address of my_circle3's radius attribute\n",
    "\n",
    "print(\"Initial value of radius attribute: \")\n",
    "print(\"my_circle1's radius:\", my_circle1.radius)\n",
    "print(\"my_circle2's radius:\", my_circle2.radius)\n",
    "print(\"my_circle3's radius:\", my_circle3.radius, end=\"\\n\\n\")\n",
    "\n",
    "# changing radius attribute of circle objects\n",
    "my_circle1.radius = 50\n",
    "my_circle2.radius = 100\n",
    "my_circle3.radius = 150\n",
    "\n",
    "print(\"After changing radius attribute of circle objects\", end=\"\\n\\n\")\n",
    "\n",
    "print(\"Final value of radius attribute: \")\n",
    "print(\"my_circle1's radius:\", my_circle1.radius)\n",
    "print(\"my_circle2's radius:\", my_circle2.radius)\n",
    "print(\"my_circle3's radius:\", my_circle3.radius)"
   ]
  },
  {
   "cell_type": "code",
   "execution_count": 9,
   "id": "f6e3c16e-24ca-4640-9fbe-89f1262f3759",
   "metadata": {},
   "outputs": [
    {
     "name": "stdout",
     "output_type": "stream",
     "text": [
      "Current Balance: $5000\n",
      "Withdrawing $10000 ...\n",
      "Error: Not enough funds\n",
      "Lets try withdrawing $1000 ...\n",
      "Successfully withdrawn $1000\n",
      "Now Current Balance: $4000\n",
      "Depositing $2000 ...\n",
      "Now Current Balance: $6000\n"
     ]
    }
   ],
   "source": [
    "class BankAccount:\n",
    "\n",
    "    def __init__(self, balance):\n",
    "        self.balance = balance\n",
    "\n",
    "    def make_deposit(self, amount):\n",
    "        self.balance += amount\n",
    "\n",
    "    def make_withdrawal(self, amount):\n",
    "        if self.balance < amount:\n",
    "            print(\"Error: Not enough funds\")\n",
    "        else:\n",
    "            print(\"Successfully withdrawn $\", amount, sep=\"\")\n",
    "            self.balance -= amount\n",
    "\n",
    "    def get_balance(self):\n",
    "        return self.balance\n",
    "\n",
    "\n",
    "my_account = BankAccount(5000)   # Create my bank account with $5000\n",
    "print(\"Current Balance: $\", my_account.get_balance(), sep=\"\")\n",
    "\n",
    "print(\"Withdrawing $10000 ...\")\n",
    "my_account.make_withdrawal(10000)\n",
    "\n",
    "print(\"Lets try withdrawing $1000 ...\")\n",
    "my_account.make_withdrawal(1000)\n",
    "\n",
    "print(\"Now Current Balance: $\", my_account.get_balance(), sep=\"\")\n",
    "\n",
    "print(\"Depositing $2000 ...\")\n",
    "my_account.make_deposit(2000)\n",
    "print(\"Now Current Balance: $\", my_account.get_balance(), sep=\"\")"
   ]
  },
  {
   "cell_type": "code",
   "execution_count": 10,
   "id": "728240db-f61b-4e9f-a817-74773ad685a6",
   "metadata": {},
   "outputs": [
    {
     "name": "stdout",
     "output_type": "stream",
     "text": [
      "Balance before change: 5000\n",
      "Balance after change: 0\n"
     ]
    }
   ],
   "source": [
    "class BankAccount:\n",
    "\n",
    "    def __init__(self, balance):\n",
    "        self.balance = balance\n",
    "\n",
    "    def make_deposit(self, amount):\n",
    "        self.balance += amount\n",
    "\t\t\n",
    "    def make_withdrawal(self, amount):\n",
    "        if self.balance < amount:\n",
    "            print(\"Error: Not enough funds\")\n",
    "        else:\n",
    "            print(\"Successfully withdrawn $\", amount, sep=\"\")\n",
    "            self.balance -= amount\n",
    "\n",
    "    def get_balance(self):\n",
    "        return self.balance\n",
    "\n",
    "\n",
    "my_account = BankAccount(5000) # Initially account is created with $2000 balance\n",
    "print(\"Balance before change:\", my_account.balance)\n",
    "my_account.balance = 0  # well now your balance is 0\n",
    "print(\"Balance after change:\", my_account.balance)"
   ]
  },
  {
   "cell_type": "code",
   "execution_count": 11,
   "id": "fc10798b-78c5-4cf3-bdc3-ad8e892e50e2",
   "metadata": {},
   "outputs": [
    {
     "name": "stdout",
     "output_type": "stream",
     "text": [
      "Radius before change:  4\n",
      "Radius after change:  www\n"
     ]
    }
   ],
   "source": [
    "import math\n",
    "\n",
    "class Circle:\n",
    "\n",
    "    def __init__(self, radius):\n",
    "        self.radius = radius\n",
    "\n",
    "    def get_area(self):\n",
    "        return math.pi * self.radius ** 2  \n",
    "\n",
    "    def get_perimeter(self):\n",
    "        return 2 * math.pi * self.radius\n",
    "\t\n",
    "\n",
    "my_circle = Circle(4)\n",
    "print(\"Radius before change: \", my_circle.radius)\n",
    "my_circle.radius = \"www\"\n",
    "print(\"Radius after change: \", my_circle.radius)"
   ]
  },
  {
   "cell_type": "code",
   "execution_count": 12,
   "id": "383f993d-9c8f-412f-babb-8868aa5ca423",
   "metadata": {},
   "outputs": [
    {
     "name": "stdout",
     "output_type": "stream",
     "text": [
      "6\n",
      "None\n",
      "10\n"
     ]
    }
   ],
   "source": [
    "import math\n",
    "\n",
    "class Circle:\n",
    "\n",
    "    def __init__(self, radius):\n",
    "        self.__radius = radius  #\n",
    "\n",
    "    def get_area(self):\n",
    "        return math.pi * self.__radius ** 2\n",
    "\n",
    "    def get_perimeter(self):\n",
    "        return 2 * math.pi * self.__radius\n",
    "\n",
    "    # getter method for radius attribute\n",
    "\n",
    "    def get_radius(self):\n",
    "        return self.__radius\n",
    "\n",
    "    # setter method for radius attribute\n",
    "\n",
    "    def set_radius(self, radius):\n",
    "        if not isinstance(radius, int):\n",
    "            print(\"Error: \", radius, \"is not an int\")\n",
    "            return\n",
    "        self.__radius = radius\n",
    "\n",
    "c = Circle(6)\n",
    "\n",
    "# print(c.__radius)\n",
    "\n",
    "c.get_radius()  # get the initial value of __radius attribute\n",
    "\n",
    "# c.set_radius(\"a radius\")  # trying to set invalid value\n",
    "\n",
    "print(c.get_radius())  # value of __radius attribute is still same\n",
    "\n",
    "print(c.set_radius(10)) # this time operation succeeds\n",
    "print(c.get_radius())  #  get the new value of __radius attribute"
   ]
  },
  {
   "cell_type": "code",
   "execution_count": 14,
   "id": "8d14d064-4a3c-41d4-9101-322de3a61dba",
   "metadata": {},
   "outputs": [
    {
     "name": "stdout",
     "output_type": "stream",
     "text": [
      "#########################\n",
      "Radius of circle 5.40\n",
      "Perimeter of circle 33.93\n",
      "Area of circle 91.61\n",
      "#########################\n",
      "\n",
      "#########################\n",
      "Radius of circle 10.50\n",
      "Perimeter of circle 65.97\n",
      "Area of circle 346.36\n",
      "#########################\n",
      "\n"
     ]
    }
   ],
   "source": [
    "import math\n",
    "\n",
    "class Circle:\n",
    "\n",
    "    def __init__(self, radius):\n",
    "        self.__radius = radius  #\n",
    "\n",
    "    def get_area(self):\n",
    "        return math.pi * self.__radius ** 2\n",
    "\n",
    "    def get_perimeter(self):\n",
    "        return 2 * math.pi * self.__radius\n",
    "\n",
    "    # getter method for radius attribute\n",
    "\n",
    "    def get_radius(self):\n",
    "        return self.__radius\n",
    "\n",
    "    # setter method for radius attribute\n",
    "\n",
    "    def set_radius(self, radius):\n",
    "        if not isinstance(radius, int):\n",
    "            print(\"Error: \", radius, \"is not an int\")\n",
    "            return\n",
    "        self.__radius = radius\n",
    "\n",
    "\n",
    "c1 = Circle(5.4)\n",
    "c2 = Circle(10.5)\n",
    "\n",
    "def print_circle_info(circle_obj):\n",
    "    print(\"#########################\")\n",
    "    print(\"Radius of circle\", format(circle_obj.get_radius(), \"0.2f\"))\n",
    "    print(\"Perimeter of circle\", format(circle_obj.get_perimeter(), \"0.2f\"))\n",
    "    print(\"Area of circle\", format(circle_obj.get_area(), \"0.2f\"))\n",
    "    print(\"#########################\", end=\"\\n\\n\")\n",
    "\n",
    "\n",
    "print_circle_info(c1) # passing circle object c1 to print_circle_info()\n",
    "print_circle_info(c2) # passing circle object c2 to print_circle_info()"
   ]
  },
  {
   "cell_type": "code",
   "execution_count": 15,
   "id": "54bbc956-4ee8-45b8-ad4a-f4aa72cb386b",
   "metadata": {},
   "outputs": [],
   "source": [
    "# Inheritance and Polymorphism in Python"
   ]
  },
  {
   "cell_type": "code",
   "execution_count": 16,
   "id": "3e03dbe5-c4b5-4b66-8983-b27878426d3d",
   "metadata": {},
   "outputs": [
    {
     "name": "stdout",
     "output_type": "stream",
     "text": [
      "green True\n",
      "whilte False\n"
     ]
    }
   ],
   "source": [
    "class Rectangle:\n",
    "    def __init__(self, color, filled, width, length):\n",
    "        self.__color = color\n",
    "        self.__filled = filled\n",
    "        self.__width = width\n",
    "        self.__length = length\n",
    "\n",
    "    def get_color(self):\n",
    "        return self.__color\n",
    "\n",
    "    def set_color(self, color):\n",
    "        self.__color = color\n",
    "\n",
    "    def is_filled(self):\n",
    "        return self.__filled\n",
    "\n",
    "    def set_filled(self, filled):\n",
    "        self.__filled = filled\n",
    "\n",
    "    def get_area(self):\n",
    "        return self.__width * self.__length\n",
    "\n",
    "class Circle:\n",
    "    def __init__(self, color, filled, radius):\n",
    "        self.__color = color\n",
    "        self.__filled = filled\n",
    "        self.__radius = radius      \n",
    "\n",
    "    def get_color(self):\n",
    "        return self.__color\n",
    "\n",
    "    def set_color(self, color):\n",
    "        self.__color = color\n",
    "\n",
    "    def is_filled(self):\n",
    "        return self.__filled\n",
    "\n",
    "    def set_filled(self, filled):\n",
    "        self.__filled = filled\n",
    "\n",
    "    def get_area(self):\n",
    "        return math.pi * self.__radius ** 2\n",
    "\n",
    "r1 = Rectangle(\"green\", True, 5, 10)\n",
    "print(r1.get_color(), r1.is_filled())\n",
    "\n",
    "c1 = Circle(\"whilte\", False, 5)\n",
    "print(c1.get_color(), c1.is_filled())"
   ]
  },
  {
   "cell_type": "code",
   "execution_count": 17,
   "id": "57f60f8b-c190-4a0b-9aa7-4e88bbcaf3e9",
   "metadata": {},
   "outputs": [
    {
     "name": "stdout",
     "output_type": "stream",
     "text": [
      "Area of rectangle r1: 26.25\n",
      "Perimeter of rectangle r1: 26.0\n",
      "Color of rectangle r1: black\n",
      "Is rectangle r1 filled ?  False\n",
      "Is rectangle r1 filled ?  True\n",
      "Color of rectangle r1: orange\n",
      "\n",
      "Area of circle c1: 452.39\n",
      "Perimeter of circle c1: 75.40\n",
      "Color of circle c1: black\n",
      "Is circle c1 filled ?  False\n",
      "Is circle c1 filled ?  True\n",
      "Color of circle c1: blue\n"
     ]
    }
   ],
   "source": [
    "import math\n",
    "\n",
    "class Shape:\n",
    "\n",
    "    def __init__(self, color='black', filled=False):\n",
    "        self.__color = color\n",
    "        self.__filled = filled\n",
    "\n",
    "    def get_color(self):\n",
    "        return self.__color\n",
    "\n",
    "    def set_color(self, color):\n",
    "        self.__color = color\n",
    "\n",
    "    def get_filled(self):\n",
    "        return self.__filled\n",
    "\n",
    "    def set_filled(self, filled):\n",
    "        self.__filled = filled\n",
    "\n",
    "\n",
    "class Rectangle(Shape):\n",
    "\n",
    "    def __init__(self, length, breadth):\n",
    "        super().__init__()\n",
    "        self.__length = length\n",
    "        self.__breadth = breadth\n",
    "\n",
    "    def get_length(self):\n",
    "        return self.__length\n",
    "\n",
    "    def set_length(self, length):\n",
    "        self.__length = length\n",
    "\n",
    "    def get_breadth(self):\n",
    "        return self.__breadth\n",
    "\n",
    "    def set_breadth(self, breadth):\n",
    "        self.__breadth = breadth\n",
    "\n",
    "    def get_area(self):\n",
    "        return self.__length * self.__breadth\n",
    "\n",
    "    def get_perimeter(self):\n",
    "        return 2 * (self.__length + self.__breadth)\n",
    "\n",
    "\n",
    "class Circle(Shape):\n",
    "    def __init__(self, radius):\n",
    "        super().__init__()\n",
    "        self.__radius = radius\n",
    "\n",
    "    def get_radius(self):\n",
    "        return self.__radius\n",
    "\n",
    "    def set_radius(self, radius):\n",
    "        self.__radius = radius\n",
    "\n",
    "    def get_area(self):\n",
    "        return math.pi * self.__radius ** 2\n",
    "\n",
    "    def get_perimeter(self):\n",
    "        return 2 * math.pi * self.__radius\n",
    "\n",
    "\n",
    "r1 = Rectangle(10.5, 2.5)\n",
    "\n",
    "print(\"Area of rectangle r1:\", r1.get_area())\n",
    "print(\"Perimeter of rectangle r1:\", r1.get_perimeter())\n",
    "print(\"Color of rectangle r1:\", r1.get_color())\n",
    "print(\"Is rectangle r1 filled ? \", r1.get_filled())\n",
    "r1.set_filled(True)\n",
    "print(\"Is rectangle r1 filled ? \", r1.get_filled())\n",
    "r1.set_color(\"orange\")\n",
    "print(\"Color of rectangle r1:\", r1.get_color())\n",
    "\n",
    "c1 = Circle(12)\n",
    "\n",
    "print(\"\\nArea of circle c1:\", format(c1.get_area(), \"0.2f\"))\n",
    "print(\"Perimeter of circle c1:\", format(c1.get_perimeter(), \"0.2f\"))\n",
    "print(\"Color of circle c1:\", c1.get_color())\n",
    "print(\"Is circle c1 filled ? \", c1.get_filled())\n",
    "c1.set_filled(True)\n",
    "print(\"Is circle c1 filled ? \", c1.get_filled())\n",
    "c1.set_color(\"blue\")\n",
    "print(\"Color of circle c1:\", c1.get_color())"
   ]
  },
  {
   "cell_type": "code",
   "execution_count": 18,
   "id": "327b9291-8ae8-4369-9a1e-5f988322ca3d",
   "metadata": {},
   "outputs": [
    {
     "name": "stdout",
     "output_type": "stream",
     "text": [
      "explore() method called\n",
      "search() method called\n",
      "discover() method called\n",
      "test() method called\n"
     ]
    }
   ],
   "source": [
    "class A:\n",
    "    def explore(self):\n",
    "        print(\"explore() method called\")\n",
    "\n",
    "class B:\n",
    "    def search(self):\n",
    "        print(\"search() method called\")\n",
    "\n",
    "class C:\n",
    "    def discover(self):\n",
    "        print(\"discover() method called\")\n",
    "\n",
    "class D(A, B, C):\n",
    "    def test(self):\n",
    "        print(\"test() method called\")\n",
    "\n",
    "\n",
    "d_obj = D()\n",
    "d_obj.explore()\n",
    "d_obj.search()\n",
    "d_obj.discover()\n",
    "d_obj.test()"
   ]
  },
  {
   "cell_type": "code",
   "execution_count": 19,
   "id": "67939822-d036-4cbd-ad45-647641e59c86",
   "metadata": {},
   "outputs": [
    {
     "name": "stdout",
     "output_type": "stream",
     "text": [
      "explore() method from class B\n",
      "explore() method from class A\n"
     ]
    }
   ],
   "source": [
    "class A:\n",
    "    def explore(self):\n",
    "        print(\"explore() method from class A\")\n",
    "\n",
    "class B(A):\n",
    "    def explore(self):\n",
    "        print(\"explore() method from class B\")\n",
    "\n",
    "\n",
    "b_obj = B()\n",
    "a_obj = A()\n",
    "\n",
    "b_obj.explore()\n",
    "a_obj.explore()"
   ]
  },
  {
   "cell_type": "code",
   "execution_count": 20,
   "id": "6215def6-e735-49a7-9b59-49a1c547cf37",
   "metadata": {},
   "outputs": [
    {
     "name": "stdout",
     "output_type": "stream",
     "text": [
      "explore() method from class A\n",
      "explore() method from class B\n"
     ]
    }
   ],
   "source": [
    "class A:\n",
    "    def explore(self):\n",
    "        print(\"explore() method from class A\")\n",
    "\n",
    "class B(A):\n",
    "    def explore(self):\n",
    "        super().explore()  # calling the parent class explore() method\n",
    "        print(\"explore() method from class B\")\n",
    "\n",
    "\n",
    "b_obj = B()\n",
    "b_obj.explore()"
   ]
  },
  {
   "cell_type": "code",
   "execution_count": 21,
   "id": "057981d8-40dd-429c-8c6d-19ef36262787",
   "metadata": {},
   "outputs": [
    {
     "name": "stdout",
     "output_type": "stream",
     "text": [
      "<__main__.Jester object at 0x0000012E8DB130D0>\n"
     ]
    }
   ],
   "source": [
    "class Jester:\n",
    "    def laugh(self):\n",
    "        return print(\"laugh() called\")\n",
    "\n",
    "obj = Jester()\n",
    "print(obj)"
   ]
  },
  {
   "cell_type": "code",
   "execution_count": 22,
   "id": "6300ba78-b49e-40ae-9644-f543161fac93",
   "metadata": {},
   "outputs": [
    {
     "name": "stdout",
     "output_type": "stream",
     "text": [
      "A more helpful description\n"
     ]
    }
   ],
   "source": [
    "class Jester:\n",
    "    def laugh(self):\n",
    "        return \"laugh() called\"\n",
    "\n",
    "    def __str__(self):\n",
    "        return \"A more helpful description\"\n",
    "\n",
    "obj = Jester()\n",
    "print(obj)"
   ]
  },
  {
   "cell_type": "code",
   "execution_count": 23,
   "id": "0c27bfc3-3694-4c16-95c1-5478579343ab",
   "metadata": {},
   "outputs": [],
   "source": [
    "# Operator Overloading in Python"
   ]
  },
  {
   "cell_type": "code",
   "execution_count": 24,
   "id": "c5ef5f1c-cc00-4cbe-ae8b-a3bd936e5b1c",
   "metadata": {},
   "outputs": [
    {
     "name": "stdout",
     "output_type": "stream",
     "text": [
      "410\n",
      "tensor\n"
     ]
    }
   ],
   "source": [
    "print(10 + 400)\n",
    "\n",
    "print(\"ten\" + \"sor\")"
   ]
  },
  {
   "cell_type": "code",
   "execution_count": 25,
   "id": "a97e0476-ceaf-4928-a5c5-be0a4a404810",
   "metadata": {},
   "outputs": [
    {
     "name": "stdout",
     "output_type": "stream",
     "text": [
      "30\n",
      "30\n",
      "[11, 22, 1000, 2000]\n"
     ]
    }
   ],
   "source": [
    "x, y = 10, 20\n",
    "\n",
    "print(x + y)\n",
    "\n",
    "print(x.__add__(y))   # same as x + y\n",
    "\n",
    "x, y = [11, 22], [1000, 2000]\n",
    "\n",
    "print(x.__add__(y))  # same as x + y"
   ]
  },
  {
   "cell_type": "code",
   "execution_count": 26,
   "id": "6dd4ea37-08a5-4566-82e8-7795222c98f0",
   "metadata": {},
   "outputs": [],
   "source": [
    "# Operator    \t# Special Method   # Description\n",
    "# +\t   __add__(self, object)     \tAddition\n",
    "# -\t   __sub__(self, object)\t       Subtraction\n",
    "# *\t   __mul__(self, object)\t       Multiplication\n",
    "# **\t   __pow__(self, object)\t       Exponentiation\n",
    "# /\t   __truediv__(self, object)    \tDivision\n",
    "# //\t   __floordiv__(self, object)\t   Integer Division\n",
    "# %\t   __mod__(self, object)\t      Modulus\n",
    "# ==\t   __eq__(self, object)\t      Equal to\n",
    "# !=\t   __ne__(self, object)\t      Not equal to\n",
    "# >\t   __gt__(self, object)\t      Greater than\n",
    "# >=\t   __ge__(self, object)\t      Greater than or equal to\n",
    "# <\t   __lt__(self, object)\t      Less than\n",
    "# <=\t    __le__(self, object)\t      Less than or equal to\n",
    "# in\t    __contains__(self, value)  \t  Membership operator\n",
    "# [index] \t__getitem__(self, index)\tItem at index\n",
    "# len()   \t__len__(self)\t           Calculate number of items\n",
    "# str()\t   __str__(self)\t            Convert object to a string"
   ]
  },
  {
   "cell_type": "code",
   "execution_count": 27,
   "id": "7a5e1cd3-0240-48b5-8a21-dfba8b20525b",
   "metadata": {},
   "outputs": [
    {
     "name": "stdout",
     "output_type": "stream",
     "text": [
      "x =  2 , y = 4\n",
      "\n",
      "x + y = 6\n",
      "x.__add__(y) = 6\n",
      "\n",
      "x * y =  8\n",
      "x.__mul__(y) =  8\n",
      "\n",
      "x / y =  0.5\n",
      "x.__truediv__(y) =  0.5\n",
      "\n",
      "x ** y =  16\n",
      "x.__pow__(y) =  16\n",
      "\n",
      "x % y =  2\n",
      "x.__mod__(y) =  2\n",
      "\n",
      "x == y =  False\n",
      "x.__eq__(y) =  False\n",
      "\n",
      "x != y =  True\n",
      "x.__ne__(y) =  True\n",
      "\n",
      "x >= y =  False\n",
      "x.__ge__(y) =  False\n",
      "\n",
      "x <= y =  True\n",
      "x.__le__(y) =  True\n",
      "------------------------------------------\n",
      "\n",
      "str1 = special methods\n",
      "\n",
      "'ods' in str1 = True\n",
      "str1.__contains__('ods') = True\n",
      "\n",
      "len(str1) = 15\n",
      "str1.__len__() = 15\n",
      "------------------------------------------\n",
      "\n",
      "list1 = [11, 33, 55]\n",
      "\n",
      "list1[1] = 33\n",
      "list1.__getitem(1) = 33\n",
      "str(list1) = [11, 33, 55]\n"
     ]
    }
   ],
   "source": [
    "x, y = 2, 4\n",
    "\n",
    "print(\"x = \", x, \", y =\", y)\n",
    "\n",
    "print(\"\\nx + y =\", x + y)\n",
    "print(\"x.__add__(y) =\", x.__add__(y))  # same as x + y\n",
    "\n",
    "print(\"\\nx * y = \", x * y)\n",
    "print(\"x.__mul__(y) = \", x.__mul__(y))  # same as x * y\n",
    "\n",
    "print(\"\\nx / y = \", x / y)\n",
    "print(\"x.__truediv__(y) = \", x.__truediv__(y))  # same as x / y\n",
    "\n",
    "print(\"\\nx ** y = \", x ** y)\n",
    "print(\"x.__pow__(y) = \", x.__pow__(y))  # same as x ** y\n",
    "\n",
    "print(\"\\nx % y = \", x % y)\n",
    "print(\"x.__mod__(y) = \", x.__mod__(y))  # same as x % y\n",
    "\n",
    "print(\"\\nx == y = \", x == y)\n",
    "print(\"x.__eq__(y) = \", x.__eq__(y))  # same as x == y\n",
    "\n",
    "print(\"\\nx != y = \", x != y)\n",
    "print(\"x.__ne__(y) = \", x.__ne__(y))  # same as x != y\n",
    "\n",
    "print(\"\\nx >= y = \", x >= y)\n",
    "print(\"x.__ge__(y) = \", x.__ge__(y))  # same as x >= y\n",
    "\n",
    "print(\"\\nx <= y = \", x <= y)\n",
    "print(\"x.__le__(y) = \", x.__le__(y))  # same as x <= y\n",
    "print(\"------------------------------------------\")\n",
    "\n",
    "str1 = \"special methods\"\n",
    "\n",
    "print(\"\\nstr1 =\", str1)\n",
    "\n",
    "print(\"\\n'ods' in str1 =\", \"ods\" in str1)\n",
    "print(\"str1.__contains__('ods') =\", str1.__contains__(\"ods\")) # same as \"ods\" in str1\n",
    "\n",
    "print(\"\\nlen(str1) =\", len(str1))\n",
    "print(\"str1.__len__() =\", str1.__len__()) # same as len(str1)\n",
    "print(\"------------------------------------------\")\n",
    "\n",
    "list1 = [11,33, 55]\n",
    "\n",
    "print(\"\\nlist1 =\", list1)\n",
    "\n",
    "print(\"\\nlist1[1] =\", list1[1])\n",
    "print(\"list1.__getitem(1) =\", list1.__getitem__(1)) # same as list1[1]\n",
    "print(\"str(list1) =\",str(list1))  # same as list1.__str__()"
   ]
  },
  {
   "cell_type": "code",
   "execution_count": 28,
   "id": "c3ccff4b-b444-4e6f-9c69-9a280c947020",
   "metadata": {},
   "outputs": [
    {
     "name": "stdout",
     "output_type": "stream",
     "text": [
      "Is p1 < p2 ? True\n",
      "Is p1 <= p2 ? True\n",
      "Is p1 > p2 ? False\n",
      "Is p1 >= p2 ? False\n",
      "Is p1 == p2 ? False\n",
      "\n",
      "Point object is at: (4, 6)\n",
      "Point object is at: (10, 6)\n",
      "Point object is at: (14, 12)\n",
      "Point object is at: (-6, 0)\n"
     ]
    }
   ],
   "source": [
    "import math\n",
    "\n",
    "class Point:\n",
    "\n",
    "    def __init__(self, x=0, y=0):\n",
    "        self.__x = x\n",
    "        self.__y = y   \n",
    "\n",
    "    # get the x coordinate\n",
    "    def get_x(self):\n",
    "        return self.__x\n",
    "\n",
    "    # set the x coordinate\n",
    "    def set_x(self, x):\n",
    "        self.__x = x\n",
    "\n",
    "    # get the y coordinate\n",
    "    def get_y(self):\n",
    "        return self.__y\n",
    "\n",
    "    # set the y coordinate\n",
    "    def set_y(self, y):\n",
    "        self.__y = y\n",
    "\n",
    "    # get the current position\n",
    "    def get_position(self):\n",
    "        return self.__x, self.__y\n",
    "\n",
    "    # change x and y coordinate by a and b\n",
    "    def move(self, a, b):\n",
    "        self.__x += a\n",
    "        self.__y += b\n",
    "\n",
    "    # overloading + operator\n",
    "    def __add__(self, point_obj):\n",
    "        return Point(self.__x + point_obj.__x, self.__y + point_obj.__y)\n",
    "\n",
    "    # overloading - operator\n",
    "    def __sub__(self, point_obj):\n",
    "        return Point(self.__x - point_obj.__x, self.__y - point_obj.__y)\n",
    "\n",
    "    # overloading < operator\n",
    "    def __lt__(self, point_obj):\n",
    "        return math.sqrt(self.__x ** 2 + self.__y ** 2) < math.sqrt(point_obj.__x ** 2 + point_obj.__y ** 2)\n",
    "\n",
    "    # overloading <= operator\n",
    "    def __le__(self, point_obj):\n",
    "        return math.sqrt(self.__x ** 2 + self.__y ** 2) <= math.sqrt(point_obj.__x ** 2 + point_obj.__y ** 2)\n",
    "\n",
    "    # overloading > operator\n",
    "    def __gt__(self, point_obj):\n",
    "        return math.sqrt(self.__x ** 2 + self.__y ** 2) > math.sqrt(point_obj.__x ** 2 + point_obj.__y ** 2)\n",
    "\n",
    "    # overloading >= operator\n",
    "    def __ge__(self, point_obj):\n",
    "        return math.sqrt(self.__x ** 2 + self.__y ** 2) >= math.sqrt(point_obj.__x ** 2 + point_obj.__y ** 2)\n",
    "\n",
    "    # overloading == operator\n",
    "    def __eq__(self, point_obj):\n",
    "        return math.sqrt(self.__x ** 2 + self.__y ** 2) == math.sqrt(point_obj.__x ** 2 + point_obj.__y ** 2)\n",
    "\n",
    "    ## overriding __str__ function\n",
    "    def __str__(self):\n",
    "        return \"Point object is at: (\" + str(self.__x) + \", \" + str(self.__y) + \")\"\n",
    "\n",
    "\n",
    "p1 = Point(4, 6)\n",
    "p2 = Point(10, 6)\n",
    "\n",
    "print(\"Is p1 < p2 ?\", p1 < p2)   # p1 < p2 is equivalent to p1.__lt__(p2)\n",
    "print(\"Is p1 <= p2 ?\", p1 <= p2)  # p1 <= p2 is equivalent to p1.__le__(p2)\n",
    "print(\"Is p1 > p2 ?\", p1 > p2)   # p1 > p2 is equivalent to p1.__gt__(p2)\n",
    "print(\"Is p1 >= p2 ?\", p1 >= p2)   # p1 >= p2 is equivalent to p1.__ge__(p2)\n",
    "print(\"Is p1 == p2 ?\", p1 == p2)   # p1 < p2 is equivalent to p1.__eq__(p2)\n",
    "\n",
    "p3 = p1 + p2  # p1 + p2 is equivalent to p1.__add__(p2)\n",
    "p4 = p1 - p2  # p1 - p2 is equivalent to p1.__sub__(p2)\n",
    "\n",
    "print()  # print an empty line\n",
    "print(p1)  # print(p1) is equivalent to print(p1.__str__())\n",
    "print(p2)  # print(p2) is equivalent to print(p2.__str__())\n",
    "print(p3)  # print(p3) is equivalent to print(p3.__str__())\n",
    "print(p4)  # print(p4) is equivalent to print(p4.__str__())"
   ]
  },
  {
   "cell_type": "code",
   "execution_count": 29,
   "id": "b1b75146-d519-4581-b64f-be0a56914667",
   "metadata": {},
   "outputs": [],
   "source": [
    "# File Handling in Python"
   ]
  },
  {
   "cell_type": "code",
   "execution_count": 31,
   "id": "18a78ab2-9d9d-481f-9070-5981c0702ad8",
   "metadata": {},
   "outputs": [],
   "source": [
    "# Method\t     Description\n",
    "# read([num])\tReads the specified number of characters from the file and returns them as string. If num is omitted then it reads the entire file.\n",
    "# readline()\tReads a single line and returns it as a string.\n",
    "# readlines()\tReads the content of a file line by line and returns them as a list of strings.\n",
    "# write(str)\tWrites the string argument to the file and returns the number of characters written to the file.\n",
    "# seek(offset, origin)\tMoves the file pointer to the given offset from the origin.\n",
    "# tell()\t    Returns the current position of the file pointer.\n",
    "# close()\tCloses the file"
   ]
  },
  {
   "cell_type": "code",
   "execution_count": 32,
   "id": "1d589419-bac1-47e5-b4bf-0a2200f94270",
   "metadata": {},
   "outputs": [],
   "source": [
    "# Exception Handling in Python"
   ]
  },
  {
   "cell_type": "code",
   "execution_count": 35,
   "id": "38c35855-5ed3-4b99-93e2-610d69ce5745",
   "metadata": {},
   "outputs": [],
   "source": [
    "## Error outputs\n",
    "# print(2/0) \n",
    "\n",
    "# print(10 + \"12\")\n",
    "\n",
    "# list1 = [11, 3, 99, 15]\n",
    "# print(list1[10])\n",
    "\n",
    "# f = open(\"filedoesntexists.txt\", \"r\")\n"
   ]
  },
  {
   "cell_type": "code",
   "execution_count": 39,
   "id": "8797e101-f0cc-45ff-aa86-dc86622c8b5c",
   "metadata": {},
   "outputs": [
    {
     "name": "stdin",
     "output_type": "stream",
     "text": [
      "Enter a number: \n",
      " 1\n"
     ]
    },
    {
     "name": "stdout",
     "output_type": "stream",
     "text": [
      "Result:  10.0\n"
     ]
    }
   ],
   "source": [
    "try:\n",
    "    num =  int(input(\"Enter a number: \\n\"))\n",
    "    result = 10/num\n",
    "    print(\"Result: \", result)    \n",
    "\n",
    "except ZeroDivisionError:\n",
    "    print(\"Exception Handler for ZeroDivisionError\")\n",
    "    print(\"We cant divide a number by 0\")"
   ]
  },
  {
   "cell_type": "code",
   "execution_count": 3,
   "id": "2d0a88f1-dcbd-450f-b166-44060d35a63c",
   "metadata": {},
   "outputs": [
    {
     "name": "stdin",
     "output_type": "stream",
     "text": [
      "Enter a num1: \n",
      " 98\n",
      "Enter a num2: \n",
      " 1\n"
     ]
    },
    {
     "name": "stdout",
     "output_type": "stream",
     "text": [
      "Result:  98.0\n"
     ]
    }
   ],
   "source": [
    "try:\n",
    "    num1 = int(input(\"Enter a num1: \\n\"))\n",
    "    num2 = int(input(\"Enter a num2: \\n\"))\n",
    "\n",
    "    result = num1 / num2\n",
    "    print(\"Result: \", result)\n",
    "\n",
    "except ZeroDivisionError:\n",
    "    print(\"\\nException Handler for ZeroDivisionError\")\n",
    "    print(\"We cant divide a number by 0\")\n",
    "\n",
    "except ValueError:\n",
    "    print(\"\\nException Handler for ValueError\")\n",
    "    print(\"Invalid input: Only integers are allowed\")\n",
    "\n",
    "except:\n",
    "    print(\"\\nSome unexpected error occurred\")"
   ]
  },
  {
   "cell_type": "code",
   "execution_count": 4,
   "id": "32d38f81-da4c-4af1-955f-ccbe576755d2",
   "metadata": {},
   "outputs": [
    {
     "name": "stdin",
     "output_type": "stream",
     "text": [
      "Enter file name: \n",
      " something\n"
     ]
    },
    {
     "name": "stdout",
     "output_type": "stream",
     "text": [
      "File not found\n"
     ]
    }
   ],
   "source": [
    "filename = input(\"Enter file name: \\n\")\n",
    "\n",
    "try:\n",
    "    f = open(filename, \"r\")\n",
    "\n",
    "    for line in f:\n",
    "        print(line, end=\"\")\n",
    "\n",
    "    f.close()\n",
    "\n",
    "except FileNotFoundError:\n",
    "    print(\"File not found\")\n",
    "\n",
    "except PermissionError:\n",
    "    print(\"You don't have the permission to read the file\")\n",
    "\n",
    "except:\n",
    "    print(\"Unexpected error while reading the file\")"
   ]
  },
  {
   "cell_type": "code",
   "execution_count": 5,
   "id": "7f477bd4-9ab9-4c77-9d4e-7ef872f06ea5",
   "metadata": {},
   "outputs": [
    {
     "name": "stdin",
     "output_type": "stream",
     "text": [
      "Enter file name: \n",
      " something\n"
     ]
    },
    {
     "name": "stdout",
     "output_type": "stream",
     "text": [
      "File not found\n"
     ]
    }
   ],
   "source": [
    "import os\n",
    "filename = input(\"Enter file name: \\n\")\n",
    "\n",
    "try:\n",
    "    f = open(filename, \"r\")\n",
    "\n",
    "    for line in f:\n",
    "        print(line, end=\"\")\n",
    "\n",
    "    f.close()\n",
    "\n",
    "except FileNotFoundError:\n",
    "    print(\"File not found\")\n",
    "\n",
    "except PermissionError:\n",
    "    print(\"You don't have the permission to read the file\")\n",
    "\n",
    "except FileExistsError:\n",
    "    print(\"You don't have the permission to read the file\")\n",
    "\n",
    "except:\n",
    "    print(\"Unexpected error while reading the file\")\n",
    "\n",
    "else:\n",
    "    print(\"Program ran without any problem\")"
   ]
  },
  {
   "cell_type": "code",
   "execution_count": 6,
   "id": "53b8004c-0987-4840-9765-248dfba3ae67",
   "metadata": {},
   "outputs": [
    {
     "name": "stdin",
     "output_type": "stream",
     "text": [
      "Enter file name: \n",
      " python\n"
     ]
    },
    {
     "name": "stdout",
     "output_type": "stream",
     "text": [
      "File not found\n",
      "finally clause: This will always execute\n"
     ]
    }
   ],
   "source": [
    "import os\n",
    "filename = input(\"Enter file name: \\n\")\n",
    "\n",
    "try:\n",
    "    f = open(filename, \"r\")\n",
    "\n",
    "    for line in f:\n",
    "        print(line, end=\"\")\n",
    "\n",
    "    f.close()\n",
    "\n",
    "except FileNotFoundError:\n",
    "    print(\"File not found\")\n",
    "\n",
    "except PermissionError:\n",
    "    print(\"You don't have the permission to read the file\")\n",
    "\n",
    "except FileExistsError:\n",
    "    print(\"You don't have the permission to read the file\")\n",
    "\n",
    "except:\n",
    "    print(\"Unexpected error while reading the file\")\n",
    "\n",
    "else:\n",
    "    print(\"\\nProgram ran without any problem\")\n",
    "\n",
    "finally:\n",
    "    print(\"finally clause: This will always execute\")"
   ]
  },
  {
   "cell_type": "code",
   "execution_count": 9,
   "id": "3825b5ce-a856-4f22-b524-c9e484e9db83",
   "metadata": {},
   "outputs": [
    {
     "name": "stdout",
     "output_type": "stream",
     "text": [
      "Factorial of 4 is: 24\n",
      "Invalid Input\n"
     ]
    }
   ],
   "source": [
    "def factorial(n):\n",
    "    if  not isinstance(n, int):\n",
    "        raise RuntimeError(\"Argument must be int\")\n",
    "\n",
    "    if n < 0:\n",
    "        raise RuntimeError(\"Argument must be >= 0\")\n",
    "\n",
    "    f = 1\n",
    "    for i in range(n):\n",
    "        f *= n\n",
    "        n -= 1\n",
    "\n",
    "    return f\n",
    "\n",
    "try:\n",
    "    print(\"Factorial of 4 is:\", factorial(4))\n",
    "    print(\"Factorial of 12 is:\", factorial(\"12\"))\n",
    "except RuntimeError:\n",
    "    print(\"Invalid Input\")"
   ]
  },
  {
   "cell_type": "code",
   "execution_count": 10,
   "id": "ca8e7e39-5518-4fda-91a3-ff5ba9815ad0",
   "metadata": {},
   "outputs": [
    {
     "name": "stdout",
     "output_type": "stream",
     "text": [
      "Factorial of 4 is: 24\n",
      "Factorial of 12 is: Invalid Input\n"
     ]
    }
   ],
   "source": [
    "def factorial(n):\n",
    "\n",
    "    try:\n",
    "        if not isinstance(n, int):\n",
    "            raise RuntimeError(\"Argument must be int\")\n",
    "\n",
    "        if n < 0:\n",
    "            raise RuntimeError(\"Argument must be >= 0\")\n",
    "\n",
    "        f = 1\n",
    "        for i in range(n):\n",
    "            f *= n\n",
    "            n -= 1\n",
    "\n",
    "        return f\n",
    "\n",
    "    except RuntimeError:\n",
    "        return  \"Invalid Input\"\n",
    "\n",
    "print(\"Factorial of 4 is:\", factorial(4))\n",
    "print(\"Factorial of 12 is:\", factorial(\"12\"))"
   ]
  },
  {
   "cell_type": "code",
   "execution_count": 11,
   "id": "883ac3a0-e758-4fbc-9c0b-f4fdf9f8c935",
   "metadata": {},
   "outputs": [
    {
     "name": "stdout",
     "output_type": "stream",
     "text": [
      "Factorial of 4 is: 24\n",
      "Error: Argument must be int\n"
     ]
    }
   ],
   "source": [
    "def factorial(n):\n",
    "    if not isinstance(n, int):\n",
    "        raise RuntimeError(\"Argument must be int\")\n",
    "\n",
    "    if n < 0:\n",
    "        raise RuntimeError(\"Argument must be >= 0\")\n",
    "\n",
    "    f = 1\n",
    "    for i in range(n):\n",
    "        f *= n\n",
    "        n -= 1\n",
    "\n",
    "    return f\n",
    "\n",
    "\n",
    "try:\n",
    "    print(\"Factorial of 4 is:\", factorial(4))\n",
    "    print(\"Factorial of 12 is:\", factorial(\"12\"))\n",
    "\n",
    "except RuntimeError as e:\n",
    "    print(\"Error:\", e)"
   ]
  },
  {
   "cell_type": "code",
   "execution_count": 12,
   "id": "5759878f-c0e0-491f-ac37-7650e3101141",
   "metadata": {},
   "outputs": [
    {
     "name": "stdout",
     "output_type": "stream",
     "text": [
      "Factorial of 4 is: 24\n",
      "Error: Argument must be int\n"
     ]
    }
   ],
   "source": [
    "class InvalidFactorialArgumentException(Exception):\n",
    "    def __init__(self, message):\n",
    "        super().__init__()\n",
    "        self.message = message\n",
    "\n",
    "    def __str__(self):\n",
    "        return self.message\n",
    "\n",
    "\n",
    "def factorial(n):\n",
    "    if not isinstance(n, int):\n",
    "        raise InvalidFactorialArgumentException(\"Argument must be int\")\n",
    "\n",
    "    if n < 0:\n",
    "        raise InvalidFactorialArgumentException(\"Argument must be >= 0\")\n",
    "\n",
    "    f = 1\n",
    "    for i in range(n):\n",
    "        f *= n\n",
    "        n -= 1\n",
    "\n",
    "    return f\n",
    "\n",
    "\n",
    "try:\n",
    "    print(\"Factorial of 4 is:\", factorial(4))\n",
    "    print(\"Factorial of 12 is:\", factorial(\"12\"))\n",
    "\n",
    "except InvalidFactorialArgumentException as e:\n",
    "    print(\"Error:\", e)"
   ]
  },
  {
   "cell_type": "code",
   "execution_count": 14,
   "id": "e767d583-29c1-4ee2-afe2-3afb8238b543",
   "metadata": {},
   "outputs": [],
   "source": [
    "# Tuples in python"
   ]
  },
  {
   "cell_type": "code",
   "execution_count": 15,
   "id": "11a94999-5394-40e5-885e-9eec0280536f",
   "metadata": {},
   "outputs": [
    {
     "name": "stdout",
     "output_type": "stream",
     "text": [
      "('alpha', 'delta', 'omega')\n",
      "<class 'tuple'>\n"
     ]
    }
   ],
   "source": [
    "t = (\"alpha\", \"delta\", \"omega\")\n",
    "\n",
    "print(t)\n",
    "print(type(t))"
   ]
  },
  {
   "cell_type": "code",
   "execution_count": 16,
   "id": "5c428fb2-1b3c-4c15-90b7-22dd53f77001",
   "metadata": {},
   "outputs": [
    {
     "name": "stdout",
     "output_type": "stream",
     "text": [
      "()\n",
      "<class 'tuple'>\n"
     ]
    }
   ],
   "source": [
    "et = ()    # an empty tuple\n",
    "\n",
    "print(et)\n",
    "print(type(et))"
   ]
  },
  {
   "cell_type": "code",
   "execution_count": 17,
   "id": "35f9b924-15cc-441f-a8eb-d1de030ad7d8",
   "metadata": {},
   "outputs": [
    {
     "name": "stdout",
     "output_type": "stream",
     "text": [
      "('a', 'b', 'c', 'd')\n",
      "(1, 2, 3, 4, 5, 6, 7, 8, 9)\n",
      "(1, 2, 3, 4)\n"
     ]
    }
   ],
   "source": [
    "t1 = tuple(\"abcd\")         # tuple from string\n",
    "print(t1)\n",
    "\n",
    "t2 = tuple(range(1, 10))   # tuple from range\n",
    "print(t2)\n",
    "\n",
    "t3 = tuple([1,2,3,4])      # tuple from list\n",
    "print(t3)"
   ]
  },
  {
   "cell_type": "code",
   "execution_count": 18,
   "id": "688dd97c-6c6d-44f2-bc5f-fb7e76f97737",
   "metadata": {},
   "outputs": [
    {
     "name": "stdout",
     "output_type": "stream",
     "text": [
      "(2, 4, 6, 8, 10, 12, 14, 16, 18)\n"
     ]
    }
   ],
   "source": [
    "tlc = tuple([x * 2 for x in range(1, 10)])\n",
    "\n",
    "print(tlc)"
   ]
  },
  {
   "cell_type": "code",
   "execution_count": 19,
   "id": "f7476fca-7133-46d5-a604-331041d2fe2d",
   "metadata": {},
   "outputs": [
    {
     "name": "stdout",
     "output_type": "stream",
     "text": [
      "<class 'tuple'>\n",
      "<class 'int'>\n"
     ]
    }
   ],
   "source": [
    "t1 = (1,)   # this is a tuple\n",
    "print(type(t1))\n",
    "\n",
    "t2 = (1)   # this is not \n",
    "print(type(t2))"
   ]
  },
  {
   "cell_type": "code",
   "execution_count": 20,
   "id": "f1ce6c55-7c65-40c2-bef3-ed7eaf504433",
   "metadata": {},
   "outputs": [
    {
     "name": "stdout",
     "output_type": "stream",
     "text": [
      "('alpha', 'delta', 'omega')\n",
      "<class 'tuple'>\n",
      "(1, 'one', 2, 'two', 3, 'three')\n"
     ]
    }
   ],
   "source": [
    "t1 = \"alpha\", \"delta\", \"omega\"    \t # t1 is a tuple of three elements\n",
    "print(t1)\n",
    "print(type(t1))\n",
    "\n",
    "t2 = 1, 'one', 2, 'two', 3, 'three'  # t2 is a tuple of six elements\n",
    "print(t2)"
   ]
  },
  {
   "cell_type": "code",
   "execution_count": 21,
   "id": "a954f820-8691-4b30-a72b-60d149831ea3",
   "metadata": {},
   "outputs": [
    {
     "name": "stdout",
     "output_type": "stream",
     "text": [
      "(1,)\n",
      "<class 'tuple'>\n",
      "1\n"
     ]
    }
   ],
   "source": [
    "t1 = 1,\n",
    "print(t1)\n",
    "print(type(t1))\n",
    "\n",
    "t2 = 1\n",
    "print(t2)"
   ]
  },
  {
   "cell_type": "code",
   "execution_count": 22,
   "id": "ae927120-cf16-4175-9772-5fd769ad91b9",
   "metadata": {},
   "outputs": [
    {
     "name": "stdout",
     "output_type": "stream",
     "text": [
      "alpha\n",
      "beta\n",
      "gamma\n"
     ]
    }
   ],
   "source": [
    "first, second, third = (\"alpha\", \"beta\", \"gamma\")\n",
    "\n",
    "print(first)\n",
    "print(second)\n",
    "print(third)"
   ]
  },
  {
   "cell_type": "code",
   "execution_count": 24,
   "id": "89048712-3dec-4bf2-ad3e-13ebbd38c19e",
   "metadata": {},
   "outputs": [
    {
     "name": "stdout",
     "output_type": "stream",
     "text": [
      "tuple_a: ('alpha', 'beta', 'gamma')\n",
      "Length of tuple_a: 3\n",
      "\n",
      "tuple_b: (1, 3, 5, 7, 9, 11, 13, 15, 17, 19)\n",
      "Highest value in tuple_b: 19\n",
      "Lowest value in tuple_b: 1\n",
      "Sum of elements in tuple_b: 100\n",
      "\n",
      "Index operator ([]) and Slicing operator ([:]) : \n",
      "tuple_a[1]: beta\n",
      "tuple_b[len(tuple_b)-1]: 19\n",
      "tuple_a[1:]: ('beta', 'gamma')\n",
      "\n",
      "Membership operators with tuples: \n",
      "'kappa' in tuple_a:  False\n",
      "'kappa' not in tuple_b:  True\n",
      "\n",
      "Iterating though elements using for loop\n",
      "tuple_a: alpha beta gamma \n",
      "tuple_b: 1 3 5 7 9 11 13 15 17 19 \n",
      "\n",
      "Comparing tuples: \n",
      "tuple_a == tuple_b: False\n",
      "tuple_a != tuple_b: True\n",
      "\n",
      "Multiplication and addition operators on tuples: \n",
      "tuple * 2: ('alpha', 'beta', 'gamma', 'alpha', 'beta', 'gamma')\n",
      "tuple_b + (10000, 20000):  (1, 3, 5, 7, 9, 11, 13, 15, 17, 19, 10000, 20000)\n"
     ]
    }
   ],
   "source": [
    "tuple_a = (\"alpha\", \"beta\", \"gamma\")\n",
    "print(\"tuple_a:\", tuple_a)\n",
    "print(\"Length of tuple_a:\", len(tuple_a))  # len() function on tuple\n",
    "\n",
    "tuple_b = tuple(range(1,20, 2)) # i.e tuple_b = (1, 3, 5, 7, 9, 11, 13, 15, 17, 19)\n",
    "print(\"\\ntuple_b:\", tuple_b)\n",
    "print(\"Highest value in tuple_b:\", max(tuple_b))   # max() function on tuple\n",
    "print(\"Lowest value in tuple_b:\",min(tuple_b))   # min() function on tuple\n",
    "print(\"Sum of elements in tuple_b:\",sum(tuple_b))   # sum() function on tuple\n",
    "\n",
    "print(\"\\nIndex operator ([]) and Slicing operator ([:]) : \")\n",
    "print(\"tuple_a[1]:\", tuple_a[1])\n",
    "print(\"tuple_b[len(tuple_b)-1]:\", tuple_b[len(tuple_b)-1])\n",
    "print(\"tuple_a[1:]:\", tuple_a[1:])\n",
    "\n",
    "print(\"\\nMembership operators with tuples: \")\n",
    "print(\"'kappa' in tuple_a: \",'kappa' in tuple_a)\n",
    "print(\"'kappa' not in tuple_b: \",'kappa' not in tuple_b)\n",
    "\n",
    "print(\"\\nIterating though elements using for loop\")\n",
    "print(\"tuple_a: \", end=\"\")\n",
    "for i in tuple_a:\n",
    "    print(i, end=\" \")\n",
    "\n",
    "print(\"\\ntuple_b: \", end=\"\")\n",
    "for i in tuple_b:\n",
    "    print(i, end=\" \")\n",
    "\n",
    "\n",
    "print(\"\\n\\nComparing tuples: \")\n",
    "print(\"tuple_a == tuple_b:\", tuple_a == tuple_b)\n",
    "print(\"tuple_a != tuple_b:\", tuple_a != tuple_b)\n",
    "\n",
    "print(\"\\nMultiplication and addition operators on tuples: \")\n",
    "print(\"tuple * 2:\", tuple_a * 2)\n",
    "print(\"tuple_b + (10000, 20000): \", tuple_b + (10000, 20000))"
   ]
  },
  {
   "cell_type": "code",
   "execution_count": 25,
   "id": "a361006e-a305-4cbb-8b47-3f547bfa51ea",
   "metadata": {},
   "outputs": [],
   "source": [
    "# Sets in python"
   ]
  },
  {
   "cell_type": "code",
   "execution_count": 26,
   "id": "8c2811d5-1cab-4829-976c-270571b48a92",
   "metadata": {},
   "outputs": [
    {
     "name": "stdout",
     "output_type": "stream",
     "text": [
      "<class 'set'>\n",
      "{1, 3, 12, 31}\n",
      "{1, 'alpha', 3.14, 'one'}\n"
     ]
    }
   ],
   "source": [
    "s1 = {3, 31, 12, 1}    # creating a set s1\n",
    "\n",
    "print(type(s1))\n",
    "print(s1)              \n",
    "\n",
    "s2 = {'one', 1, 'alpha', 3.14}    # creating a set s2\n",
    "print(s2)"
   ]
  },
  {
   "cell_type": "code",
   "execution_count": 28,
   "id": "b904d370-a352-478c-bf71-388c4c2d1fc7",
   "metadata": {},
   "outputs": [
    {
     "name": "stdout",
     "output_type": "stream",
     "text": [
      "{91, 23, 77, 271}\n",
      "{'2', 'a', '1', 'b', '3', 'c'}\n",
      "{33, 'one', 13, 'two', 'nine'}\n",
      "{'beta', 'alpha', 'gamma'}\n"
     ]
    }
   ],
   "source": [
    "s3 = set({77, 23, 91, 271})\n",
    "print(s3)\n",
    "\n",
    "s4 = set(\"123abc\")   # creating set from a string\n",
    "print(s4)\n",
    "\n",
    "s5 = set(['one', 'two', 'nine', 33, 13])   # creating set from a list\n",
    "print(s5)\n",
    "\n",
    "s6 = set((\"alpha\", \"beta\", \"gamma\"))   # creating set from a tuple\n",
    "print(s6)"
   ]
  },
  {
   "cell_type": "code",
   "execution_count": 29,
   "id": "66971c59-27f0-412d-84f9-83db407071e9",
   "metadata": {},
   "outputs": [
    {
     "name": "stdout",
     "output_type": "stream",
     "text": [
      "{3, 5, 7, 9, 11}\n"
     ]
    }
   ],
   "source": [
    "s7 = set([x*2+3 for x in range(0, 5)])\n",
    "print(s7)"
   ]
  },
  {
   "cell_type": "code",
   "execution_count": 30,
   "id": "b3d12d56-d4ba-468d-8519-9b9da4c0c370",
   "metadata": {},
   "outputs": [
    {
     "name": "stdout",
     "output_type": "stream",
     "text": [
      "{1, 2, 3, 'one'}\n",
      "{'d', 'b', 'a', 'c'}\n"
     ]
    }
   ],
   "source": [
    "sd1 = {1, 2, \"one\", 3, 1, \"one\"} # two duplicate elements 1 and \"one\"\n",
    "print(sd1)\n",
    "\n",
    "sd2 = set(\"abcdabc\") # three duplicate elements a, b and c\n",
    "print(sd2)"
   ]
  },
  {
   "cell_type": "code",
   "execution_count": 31,
   "id": "446b38b8-c675-48d8-a4df-ca9928b1def5",
   "metadata": {},
   "outputs": [
    {
     "name": "stdout",
     "output_type": "stream",
     "text": [
      "3\n"
     ]
    }
   ],
   "source": [
    "colors = {\"blue\", \"orange\", \"green\"}\n",
    "print(len(colors))"
   ]
  },
  {
   "cell_type": "code",
   "execution_count": 32,
   "id": "be0df90c-8827-4838-a97d-8c3518de4a1d",
   "metadata": {},
   "outputs": [
    {
     "name": "stdout",
     "output_type": "stream",
     "text": [
      "{88, 33, 11, 55}\n",
      "88\n",
      "11\n",
      "187\n"
     ]
    }
   ],
   "source": [
    "s1 = {33,11,88,55}\n",
    "\n",
    "print(s1)\n",
    "\n",
    "print(max(s1))  # get the largest element from the set\n",
    "print(min(s1))  # get the smallest element from the set\n",
    "print(sum(s1))  # get the sum of all the elements in a set "
   ]
  },
  {
   "cell_type": "code",
   "execution_count": 33,
   "id": "41c4e726-0260-4adb-a669-25ff554fb841",
   "metadata": {},
   "outputs": [
    {
     "name": "stdout",
     "output_type": "stream",
     "text": [
      "{1, 4, 9, 6}\n",
      "1763479196544\n",
      "{0, 1, 4, 6, 9, 10}\n",
      "1763479196544\n",
      "{1, 4, 9, 10}\n"
     ]
    }
   ],
   "source": [
    "s1 = {4, 1, 9, 6}\n",
    "print(s1)            # print the original set\n",
    "print(id(s1))        # address of s1\n",
    "\n",
    "s1.add(0)   \t     # add 0 to the set\n",
    "s1.add(10)  \t     # add 10 to the set\n",
    "\n",
    "print(s1)            # print the modified set\n",
    "print(id(s1))        # as sets are mutable objects, the address of s1 remains the same\n",
    "\n",
    "s1.remove(0)   \t     # remove 0 from the set\n",
    "s1.remove(6)   \t     # remove 6 from the set\n",
    "\n",
    "print(s1)    \t     # print s1 again"
   ]
  },
  {
   "cell_type": "code",
   "execution_count": 34,
   "id": "efebfa40-d44e-4e5a-81b8-ba4b5a757dc7",
   "metadata": {},
   "outputs": [
    {
     "name": "stdout",
     "output_type": "stream",
     "text": [
      "{1, 4, 9, 6}\n"
     ]
    }
   ],
   "source": [
    "s1 = {4, 1, 9, 6}\n",
    "s1.discard(61)   # remove 61 from the set\n",
    "print(s1)"
   ]
  },
  {
   "cell_type": "code",
   "execution_count": 35,
   "id": "dcc1d309-94f6-41f9-80d2-322cbbe83902",
   "metadata": {},
   "outputs": [
    {
     "name": "stdout",
     "output_type": "stream",
     "text": [
      "{1, 33, 4, 9, 10, 44}\n",
      "{1, 33, 4, 'a', 9, 10, 44, 'b'}\n"
     ]
    }
   ],
   "source": [
    "s1 = {1, 4, 9, 10}\n",
    "\n",
    "s1.update([33, 44])\n",
    "print(s1)\n",
    "\n",
    "s1.update(('a', 'b'))\n",
    "\n",
    "print(s1)"
   ]
  },
  {
   "cell_type": "code",
   "execution_count": 36,
   "id": "71c36e30-a3cc-48f6-afb6-0c1caba3eb55",
   "metadata": {},
   "outputs": [
    {
     "name": "stdout",
     "output_type": "stream",
     "text": [
      "{1, 10, 4, 9}\n",
      "set()\n"
     ]
    }
   ],
   "source": [
    "s1 = {1, 4, 9, 10}\n",
    "print(s1)\n",
    "s1.clear()\n",
    "print(s1)"
   ]
  },
  {
   "cell_type": "code",
   "execution_count": 37,
   "id": "07bb2909-0d60-4c6d-a45f-8f8b53b0ddd2",
   "metadata": {},
   "outputs": [
    {
     "name": "stdout",
     "output_type": "stream",
     "text": [
      "124 33 99 25 44 "
     ]
    }
   ],
   "source": [
    "a_set = {99, 33, 44, 124, 25}\n",
    "\n",
    "for i in a_set:\n",
    "    print(i, end=\" \")"
   ]
  },
  {
   "cell_type": "code",
   "execution_count": 38,
   "id": "38a919b1-d8af-4b39-9daa-ea415bad8c64",
   "metadata": {},
   "outputs": [
    {
     "name": "stdout",
     "output_type": "stream",
     "text": [
      "False\n",
      "True\n"
     ]
    }
   ],
   "source": [
    "a_set = {99, 33, 44, 124, 25}\n",
    "\n",
    "print(100 in a_set)\n",
    "\n",
    "print(200 not in a_set)"
   ]
  },
  {
   "cell_type": "code",
   "execution_count": 39,
   "id": "487a8bdb-1fc4-477b-b73e-03dfb949aade",
   "metadata": {},
   "outputs": [
    {
     "name": "stdout",
     "output_type": "stream",
     "text": [
      "False\n",
      "True\n",
      "False\n",
      "True\n"
     ]
    }
   ],
   "source": [
    "A = {1, 2, 3, 4, 5, 6, 7, 8, 9, 10}\n",
    "B = {1, 2, 3}\n",
    "\n",
    "print(A.issubset(B))    #  Is A subset of set B?\n",
    "\n",
    "print(B.issubset(A))    #  Is B subset of set A?\n",
    "\n",
    "print(B.issuperset(A))  #  Is B superset of set A?\n",
    "\n",
    "print(A.issuperset(B))  #  Is A subset of set B?"
   ]
  },
  {
   "cell_type": "code",
   "execution_count": 40,
   "id": "bc63f975-52b2-4fbb-92d8-dce6dcc4e47e",
   "metadata": {},
   "outputs": [
    {
     "name": "stdout",
     "output_type": "stream",
     "text": [
      "True\n",
      "False\n",
      "False\n",
      "True\n"
     ]
    }
   ],
   "source": [
    "A = {1, 2, 3, 4, 5, 6, 7, 8, 9, 10}\n",
    "B = {1, 2, 3}\n",
    "\n",
    "print(B < A)    # Is B subset of A?\n",
    "\n",
    "print(A < B)    # Is A subset of B?  \n",
    "\n",
    "print(B > A)    # Is B superset of A?\n",
    "\n",
    "print(A > B)    # Is A superset of B?"
   ]
  },
  {
   "cell_type": "code",
   "execution_count": 41,
   "id": "be6406aa-11e6-4346-9067-3e9061c1e94f",
   "metadata": {},
   "outputs": [
    {
     "name": "stdout",
     "output_type": "stream",
     "text": [
      "True\n",
      "False\n",
      "True\n",
      "False\n"
     ]
    }
   ],
   "source": [
    "s1 = {1,3,2}\n",
    "s2 = {1,2,3}\n",
    "\n",
    "print(s1 == s2)       # Is set s1 and s2 equal ?\n",
    "\n",
    "print(s1 != s2)       # Isn't set s1 and s2 equal ?\n",
    "\n",
    "print(B >= {1,2,3})   # Is B superset or equal to {1,2,3}  ?\n",
    "\n",
    "print(A <= {1, 2})    # Is A subset or equal to {1,2} ?"
   ]
  },
  {
   "cell_type": "code",
   "execution_count": 42,
   "id": "210c8add-a7d3-44df-a713-a58c116c3d9a",
   "metadata": {},
   "outputs": [
    {
     "name": "stdout",
     "output_type": "stream",
     "text": [
      "{2, 3, 4, 100, 10, 2000}\n",
      "{2, 3, 4, 100, 10, 2000}\n"
     ]
    }
   ],
   "source": [
    "n1 = {2, 3, 4, 10}\n",
    "n2 = {10, 2, 100, 2000}\n",
    "\n",
    "n3 = n1.union(n2)\n",
    "\n",
    "print(n3)\n",
    "\n",
    "n4 = n1 | n2\n",
    "\n",
    "print(n4)"
   ]
  },
  {
   "cell_type": "code",
   "execution_count": 43,
   "id": "7bb669ee-b488-440b-a794-b2a3ef787532",
   "metadata": {},
   "outputs": [
    {
     "name": "stdout",
     "output_type": "stream",
     "text": [
      "{40, 20}\n",
      "{40, 20}\n"
     ]
    }
   ],
   "source": [
    "s1 = {20, 40}\n",
    "s2 = {10, 20, 30, 40, 50}\n",
    "\n",
    "s3 = s1.intersection(s2)\n",
    "print(s3)\n",
    "\n",
    "s4 = s1 & s2\n",
    "print(s4)"
   ]
  },
  {
   "cell_type": "code",
   "execution_count": 44,
   "id": "289bdc2b-c01c-43b8-99aa-2c38390624da",
   "metadata": {},
   "outputs": [
    {
     "name": "stdout",
     "output_type": "stream",
     "text": [
      "{'i', 'a', 'u'}\n",
      "{'i', 'a', 'u'}\n"
     ]
    }
   ],
   "source": [
    "s1 = {'a', 'e','i', 'o', 'u'}\n",
    "s2 = {'e', 'o'}\n",
    "\n",
    "s3 = s1.difference(s2)\n",
    "print(s3)\n",
    "\n",
    "s4 = s1 - s2\n",
    "print(s4) "
   ]
  },
  {
   "cell_type": "code",
   "execution_count": 45,
   "id": "2e8cb0e4-ddc7-4d46-97a4-ae2ed73551aa",
   "metadata": {},
   "outputs": [
    {
     "name": "stdout",
     "output_type": "stream",
     "text": [
      "{'i', 'a', 'u'}\n",
      "{'i', 'a', 'u'}\n"
     ]
    }
   ],
   "source": [
    "s1 = {'a', 'e','i', 'o', 'u'}\n",
    "s2 = {'e', 'o'}\n",
    "\n",
    "s3 = s1 ^ s2\n",
    "print(s3)\n",
    "\n",
    "s4 = s2 ^ s1\n",
    "print(s4)"
   ]
  },
  {
   "cell_type": "code",
   "execution_count": 47,
   "id": "587c3b98-6fbc-4b84-a3eb-fd8dc1cf4ae4",
   "metadata": {},
   "outputs": [],
   "source": [
    "# Dictionary in python"
   ]
  },
  {
   "cell_type": "code",
   "execution_count": 46,
   "id": "bf8199a9-60ae-40a1-9121-fa7dddfa6ef3",
   "metadata": {},
   "outputs": [
    {
     "name": "stdout",
     "output_type": "stream",
     "text": [
      "{'tom': '122-444-333', 'jim': '412-1231-121', 'ron': '8912-121-1212', 'jake': '333-1881-121'}\n"
     ]
    }
   ],
   "source": [
    "contacts = {\n",
    "     \"tom\": \"122-444-333\",\n",
    "     \"jim\": \"412-1231-121\",\n",
    "     \"ron\": \"8912-121-1212\",\n",
    "     \"jake\": \"333-1881-121\"\n",
    "}\n",
    "\n",
    "print(contacts)"
   ]
  },
  {
   "cell_type": "code",
   "execution_count": 48,
   "id": "813fc070-0511-4810-bff3-02d6bb48f812",
   "metadata": {},
   "outputs": [
    {
     "name": "stdout",
     "output_type": "stream",
     "text": [
      "{}\n"
     ]
    }
   ],
   "source": [
    "empty_dict = {}\n",
    "print(empty_dict)"
   ]
  },
  {
   "cell_type": "code",
   "execution_count": 49,
   "id": "4b44119b-7493-4da9-a3a2-357a38f080c5",
   "metadata": {},
   "outputs": [
    {
     "name": "stdout",
     "output_type": "stream",
     "text": [
      "{'tom': '122-444-333', 'jim': '412-1231-121', 'ron': '8912-121-1212', 'jake': '333-1881-121'}\n"
     ]
    }
   ],
   "source": [
    "dict_contacts = dict(\n",
    "    tom = \"122-444-333\",\n",
    "    jim = \"412-1231-121\",\n",
    "    ron = \"8912-121-1212\",\n",
    "    jake = \"333-1881-121\"\n",
    ")\n",
    "\n",
    "print(dict_contacts)"
   ]
  },
  {
   "cell_type": "code",
   "execution_count": 50,
   "id": "9570015a-e02e-4e96-9f2e-8778e78bc540",
   "metadata": {},
   "outputs": [
    {
     "name": "stdout",
     "output_type": "stream",
     "text": [
      "8912-121-1212\n",
      "122-444-333\n"
     ]
    }
   ],
   "source": [
    "contacts = {\n",
    "  \"tom\": \"122-444-333\",\n",
    "  \"jim\": \"412-1231-121\",\n",
    "  \"ron\": \"8912-121-1212\",\n",
    "  \"jake\": \"333-1881-121\"\n",
    "}\n",
    "\n",
    "\n",
    "print(contacts['ron'])\n",
    "\n",
    "print(contacts['tom'])"
   ]
  },
  {
   "cell_type": "code",
   "execution_count": 51,
   "id": "a26614be-7c56-40cb-bd3d-d67f31de835b",
   "metadata": {},
   "outputs": [
    {
     "name": "stdout",
     "output_type": "stream",
     "text": [
      "443-123-991\n"
     ]
    }
   ],
   "source": [
    "contacts = {\n",
    "  \"tom\": \"122-444-333\",\n",
    "  \"jim\": \"412-1231-121\",\n",
    "  \"ron\": \"8912-121-1212\",\n",
    "  \"jake\": \"333-1881-121\"\n",
    "}\n",
    "\n",
    "contacts['jane'] = '443-123-991'  # adding new element\n",
    "\n",
    "print(contacts['jane'])"
   ]
  },
  {
   "cell_type": "code",
   "execution_count": 52,
   "id": "73ec500c-92a6-49f0-a063-83b95687de46",
   "metadata": {},
   "outputs": [
    {
     "name": "stdout",
     "output_type": "stream",
     "text": [
      "443-123-000\n"
     ]
    }
   ],
   "source": [
    "contacts = {\n",
    "  \"tom\": \"122-444-333\",\n",
    "  \"jim\": \"412-1231-121\",\n",
    "  \"ron\": \"8912-121-1212\",\n",
    "  \"jake\": \"333-1881-121\"\n",
    "}\n",
    "\n",
    "contacts['jane'] = '443-123-991'  # adding new element\n",
    "\n",
    "contacts['jane'] = '443-123-000'  # update Jane's number\n",
    "\n",
    "print(contacts['jane'])"
   ]
  },
  {
   "cell_type": "code",
   "execution_count": 53,
   "id": "b062db25-6fa5-4b80-ad21-b26887ef35ff",
   "metadata": {},
   "outputs": [
    {
     "name": "stdout",
     "output_type": "stream",
     "text": [
      "{'tom': '122-444-333', 'jim': '412-1231-121', 'jake': '333-1881-121'}\n"
     ]
    }
   ],
   "source": [
    "contacts = {\n",
    "  \"tom\": \"122-444-333\",\n",
    "  \"jim\": \"412-1231-121\",\n",
    "  \"ron\": \"8912-121-1212\",\n",
    "  \"jake\": \"333-1881-121\"\n",
    "}\n",
    "\n",
    "del contacts['ron']\n",
    "\n",
    "print(contacts)"
   ]
  },
  {
   "cell_type": "code",
   "execution_count": 54,
   "id": "7f07969b-ee95-442d-bf89-c2fe72ad1320",
   "metadata": {},
   "outputs": [
    {
     "name": "stdout",
     "output_type": "stream",
     "text": [
      "4\n"
     ]
    }
   ],
   "source": [
    "contacts = {\n",
    "  \"tom\": \"122-444-333\",\n",
    "  \"jim\": \"412-1231-121\",\n",
    "  \"ron\": \"8912-121-1212\",\n",
    "  \"jake\": \"333-1881-121\"\n",
    "}\n",
    "\n",
    "\n",
    "print(len(contacts))"
   ]
  },
  {
   "cell_type": "code",
   "execution_count": 55,
   "id": "c02e8001-8352-4069-8f0b-5311c4bd69f5",
   "metadata": {},
   "outputs": [
    {
     "name": "stdout",
     "output_type": "stream",
     "text": [
      "tom jim ron jake "
     ]
    }
   ],
   "source": [
    "contacts = {\n",
    "  \"tom\": \"122-444-333\",\n",
    "  \"jim\": \"412-1231-121\",\n",
    "  \"ron\": \"8912-121-1212\",\n",
    "  \"jake\": \"333-1881-121\"\n",
    "}\n",
    "\n",
    "\n",
    "for key in contacts:\n",
    "    print(key, end=\" \")"
   ]
  },
  {
   "cell_type": "code",
   "execution_count": 56,
   "id": "9e6848d1-33b4-4b0d-95ed-ed8adb9bc49b",
   "metadata": {},
   "outputs": [
    {
     "name": "stdout",
     "output_type": "stream",
     "text": [
      "False\n",
      "True\n",
      "False\n"
     ]
    }
   ],
   "source": [
    "contacts = {\n",
    "  \"tom\": \"122-444-333\",\n",
    "  \"jim\": \"412-1231-121\",\n",
    "  \"ron\": \"8912-121-1212\",\n",
    "  \"jake\": \"333-1881-121\"\n",
    "}\n",
    "\n",
    "\n",
    "print(\"jane\" in contacts)     # Does key 'jane' exists in contacts?\n",
    "\n",
    "print(\"ron\" in contacts)      # Does key 'ron' exists in contacts?\n",
    "\n",
    "print(\"tom\" not in contacts)   # Doesn't key 'tom' exists in contacts"
   ]
  },
  {
   "cell_type": "code",
   "execution_count": 57,
   "id": "2c05c4ae-32c6-4132-83d3-7c2d9fb758ef",
   "metadata": {},
   "outputs": [
    {
     "name": "stdout",
     "output_type": "stream",
     "text": [
      "True\n",
      "False\n"
     ]
    }
   ],
   "source": [
    "marks1 = { 'larry': 90, 'bill': 60}\n",
    "marks2 = { 'bill': 60, 'larry': 90}\n",
    "\n",
    "print(marks1 ==  marks2 )\n",
    "\n",
    "print(marks1 !=  marks2)"
   ]
  },
  {
   "cell_type": "code",
   "execution_count": 58,
   "id": "04bd897d-6ebc-4438-84bd-0b82af64e7df",
   "metadata": {},
   "outputs": [],
   "source": [
    "# Method\t## Description\n",
    "# keys()\t Returns a sequence containing only the keys from the dictionary.\n",
    "# values()\t Returns a sequence containing only the values from the dictionary.\n",
    "# items()\t Returns a sequence of tuples, where each tuple contains a key and value of an element.\n",
    "# get(key,   [default])\tReturns the value associated with the key. If the key is not found it returns None. We can also provide a optional default value as the second argument in which case if the key is not found, default value will be returned instead of None.\n",
    "# pop(key)\t Returns the value associated with the key then removes the specified key and it's corresponding value from the dictionary. If key doesn't exists KeyError exception is raised.\n",
    "# popitem()\t Removes and return a random element from the dictionary as a tuple.\n",
    "# copy()\t Creates a new copy of the dictionary.\n",
    "# clear()\t Removes all the elements from the dictionary."
   ]
  },
  {
   "cell_type": "code",
   "execution_count": 59,
   "id": "d2a4add9-7655-48eb-9656-b30fce483fb1",
   "metadata": {},
   "outputs": [
    {
     "name": "stdout",
     "output_type": "stream",
     "text": [
      "dict_keys(['tom', 'jim', 'ron', 'jake'])\n",
      "<class 'dict_keys'>\n"
     ]
    }
   ],
   "source": [
    "contacts = {\n",
    "  \"tom\": \"122-444-333\",\n",
    "  \"jim\": \"412-1231-121\",\n",
    "  \"ron\": \"8912-121-1212\",\n",
    "  \"jake\": \"333-1881-121\"\n",
    "}\n",
    "\n",
    "\n",
    "print(contacts.keys())\n",
    "\n",
    "print(type(contacts.keys()))"
   ]
  },
  {
   "cell_type": "code",
   "execution_count": 60,
   "id": "bd5a05ee-b271-4c91-97cd-943f66d58b47",
   "metadata": {},
   "outputs": [
    {
     "name": "stdout",
     "output_type": "stream",
     "text": [
      "['tom', 'jim', 'ron', 'jake']\n",
      "('tom', 'jim', 'ron', 'jake')\n"
     ]
    }
   ],
   "source": [
    "contacts = {\n",
    "  \"tom\": \"122-444-333\",\n",
    "  \"jim\": \"412-1231-121\",\n",
    "  \"ron\": \"8912-121-1212\",\n",
    "  \"jake\": \"333-1881-121\"\n",
    "}\n",
    "\n",
    "\n",
    "print(list(contacts.keys()))\n",
    "\n",
    "print(tuple(contacts.keys())) "
   ]
  },
  {
   "cell_type": "code",
   "execution_count": 61,
   "id": "309d67d9-e5b0-4b62-a983-611956a7d850",
   "metadata": {},
   "outputs": [
    {
     "name": "stdout",
     "output_type": "stream",
     "text": [
      "dict_values(['122-444-333', '412-1231-121', '8912-121-1212', '333-1881-121'])\n",
      "<class 'dict_values'>\n",
      "['122-444-333', '412-1231-121', '8912-121-1212', '333-1881-121']\n",
      "('122-444-333', '412-1231-121', '8912-121-1212', '333-1881-121')\n"
     ]
    }
   ],
   "source": [
    "contacts = {\n",
    "  \"tom\": \"122-444-333\",\n",
    "  \"jim\": \"412-1231-121\",\n",
    "  \"ron\": \"8912-121-1212\",\n",
    "  \"jake\": \"333-1881-121\"\n",
    "}\n",
    " \n",
    "\n",
    "print(contacts.values())\n",
    "\n",
    "print(type(contacts.values()))\n",
    "\n",
    "print(list(contacts.values()))\n",
    "\n",
    "print(tuple(contacts.values()))"
   ]
  },
  {
   "cell_type": "code",
   "execution_count": 62,
   "id": "16f2996b-e116-407f-9d66-26a2d22c686f",
   "metadata": {},
   "outputs": [
    {
     "name": "stdout",
     "output_type": "stream",
     "text": [
      "dict_items([('tom', '122-444-333'), ('jim', '412-1231-121'), ('ron', '8912-121-1212'), ('jake', '333-1881-121')])\n",
      "<class 'dict_items'>\n"
     ]
    }
   ],
   "source": [
    "contacts = {\n",
    "  \"tom\": \"122-444-333\",\n",
    "  \"jim\": \"412-1231-121\",\n",
    "  \"ron\": \"8912-121-1212\",\n",
    "  \"jake\": \"333-1881-121\"\n",
    "}\n",
    "\n",
    "\n",
    "print(contacts.items())\n",
    "\n",
    "print(type(contacts.items()))"
   ]
  },
  {
   "cell_type": "code",
   "execution_count": 64,
   "id": "ee02e816-a1c4-4435-8880-ac42f38a279f",
   "metadata": {},
   "outputs": [
    {
     "name": "stdout",
     "output_type": "stream",
     "text": [
      "333-1881-121\n",
      "None\n",
      "Not found\n"
     ]
    }
   ],
   "source": [
    "contacts = {\n",
    "  \"tom\": \"122-444-333\",\n",
    "  \"jim\": \"412-1231-121\",\n",
    "  \"ron\": \"8912-121-1212\",\n",
    "  \"jake\": \"333-1881-121\"\n",
    "}\n",
    "\n",
    "\n",
    "print(contacts.get('jake'))   \n",
    "\n",
    "print(contacts.get('paul'))\n",
    "\n",
    "print(contacts.get('paul', \"Not found\"))"
   ]
  },
  {
   "cell_type": "code",
   "execution_count": 65,
   "id": "5cb80186-ff46-4087-83a2-6817728825fd",
   "metadata": {},
   "outputs": [
    {
     "name": "stdout",
     "output_type": "stream",
     "text": [
      "('jake', '333-1881-121')\n",
      "{'tom': '122-444-333', 'jim': '412-1231-121', 'ron': '8912-121-1212'}\n"
     ]
    }
   ],
   "source": [
    "contacts = {\n",
    "  \"tom\": \"122-444-333\",\n",
    "  \"jim\": \"412-1231-121\",\n",
    "  \"ron\": \"8912-121-1212\",\n",
    "  \"jake\": \"333-1881-121\"\n",
    "}\n",
    "\n",
    "\n",
    "\n",
    "print(contacts.popitem())\n",
    "\n",
    "print(contacts)"
   ]
  },
  {
   "cell_type": "code",
   "execution_count": 66,
   "id": "0e936d80-5eaf-4c26-a41f-c091691db989",
   "metadata": {},
   "outputs": [
    {
     "name": "stdout",
     "output_type": "stream",
     "text": [
      "1763492566144\n",
      "{'tom': '122-444-333', 'jim': '412-1231-121', 'ron': '8912-121-1212', 'jake': '333-1881-121'}\n",
      "1763492565248\n"
     ]
    }
   ],
   "source": [
    "contacts = {\n",
    "  \"tom\": \"122-444-333\",\n",
    "  \"jim\": \"412-1231-121\",\n",
    "  \"ron\": \"8912-121-1212\",\n",
    "  \"jake\": \"333-1881-121\"\n",
    "}\n",
    "\n",
    "\n",
    "print(id(contacts))  # address of contacts dictionary\n",
    "\n",
    "copy_contacts = contacts.copy()  # create a copy of the contacts dictionary\n",
    "\n",
    "print(copy_contacts)\n",
    "\n",
    "print(id(copy_contacts))   # address of copy_contacts dictionary"
   ]
  },
  {
   "cell_type": "code",
   "execution_count": 67,
   "id": "25b55104-6bea-4613-b03a-2b0933a5e20a",
   "metadata": {},
   "outputs": [
    {
     "name": "stdout",
     "output_type": "stream",
     "text": [
      "{}\n"
     ]
    }
   ],
   "source": [
    "contacts = {\n",
    "  \"tom\": \"122-444-333\",\n",
    "  \"jim\": \"412-1231-121\",\n",
    "  \"ron\": \"8912-121-1212\",\n",
    "  \"jake\": \"333-1881-121\"\n",
    "}\n",
    "\n",
    "\n",
    "copy_contacts = contacts.copy()\n",
    "\n",
    "contacts.clear()  # delete all the elements of a dictionary\n",
    "\n",
    "print(contacts)"
   ]
  },
  {
   "cell_type": "code",
   "execution_count": null,
   "id": "4c1e6897-2b6a-4a77-bf55-228b4fa46764",
   "metadata": {},
   "outputs": [],
   "source": []
  }
 ],
 "metadata": {
  "kernelspec": {
   "display_name": "Python 3 (ipykernel)",
   "language": "python",
   "name": "python3"
  },
  "language_info": {
   "codemirror_mode": {
    "name": "ipython",
    "version": 3
   },
   "file_extension": ".py",
   "mimetype": "text/x-python",
   "name": "python",
   "nbconvert_exporter": "python",
   "pygments_lexer": "ipython3",
   "version": "3.11.7"
  }
 },
 "nbformat": 4,
 "nbformat_minor": 5
}
